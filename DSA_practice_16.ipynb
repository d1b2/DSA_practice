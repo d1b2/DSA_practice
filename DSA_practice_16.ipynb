{
 "cells": [
  {
   "cell_type": "code",
   "execution_count": 1,
   "id": "35234665",
   "metadata": {},
   "outputs": [],
   "source": [
    "#helper functions of stacks\n",
    "def push(stack,i):\n",
    "    stack.append(i)\n",
    "    \n",
    "def pop(stack):\n",
    "    if len(stack)!=0:\n",
    "        stack.pop()\n",
    "    else:\n",
    "        print(\"Stack Underflow \")\n",
    "        exit(1)\n",
    "        \n",
    "def peek(stack):\n",
    "    if len(stack)!=0:\n",
    "        return stack[-1]\n",
    "    else:\n",
    "        return[]"
   ]
  },
  {
   "cell_type": "markdown",
   "id": "4f49828f",
   "metadata": {},
   "source": [
    "Q1"
   ]
  },
  {
   "cell_type": "code",
   "execution_count": 2,
   "id": "8fd8ac05",
   "metadata": {},
   "outputs": [],
   "source": [
    "def NGF(arr:list[int])->list[int]:\n",
    "    mystack = []\n",
    "    mymap = {}\n",
    "    n = len(arr)\n",
    "    res=[0]*n\n",
    "\n",
    "    # create hasmap\n",
    "    for i in range(n):\n",
    "        if arr[i] in mymap:\n",
    "            mymap[arr[i]] += 1\n",
    "        else:\n",
    "            mymap[arr[i]] = 1\n",
    "\n",
    "    # Get the frequency of the last element\n",
    "    curr_freq = mymap[peek(arr)]\n",
    "\n",
    "    # push it to the stack\n",
    "    push(mystack,([peek(arr),curr_freq]))\n",
    "\n",
    "    # place -1 as next greater freq for the last\n",
    "    # element as it does not have next greater.\n",
    "    res[n-1] = -1\n",
    "\n",
    "    # iterate through array in reverse order\n",
    "    for i in range(n - 2, -1, -1):\n",
    "        curr_freq = mymap[arr[i]]\n",
    "        while len(mystack) > 0 and curr_freq >= mystack[-1][1]:\n",
    "            mystack.pop()\n",
    "\n",
    "        # If the stack is empty, place -1. If it is not empty\n",
    "        # then we will have next higher freq element at the top of the stack.\n",
    "        if (len(mystack) == 0):\n",
    "            res[i] = -1\n",
    "        else:\n",
    "            res[i] = mystack[-1][0]\n",
    "\n",
    "        # push the element at current position\n",
    "        push(mystack,([arr[i],mymap[arr[i]]]))\n",
    "    \n",
    "    return res"
   ]
  },
  {
   "cell_type": "code",
   "execution_count": 3,
   "id": "a254f3e5",
   "metadata": {},
   "outputs": [
    {
     "data": {
      "text/plain": [
       "[-1, -1, 1, 2, 2, 1, -1]"
      ]
     },
     "execution_count": 3,
     "metadata": {},
     "output_type": "execute_result"
    }
   ],
   "source": [
    "NGF([1, 1, 2, 3, 4, 2, 1])"
   ]
  },
  {
   "cell_type": "code",
   "execution_count": 4,
   "id": "0bdb2219",
   "metadata": {},
   "outputs": [
    {
     "data": {
      "text/plain": [
       "[2, -1, -1, 2, 2, -1, -1]"
      ]
     },
     "execution_count": 4,
     "metadata": {},
     "output_type": "execute_result"
    }
   ],
   "source": [
    "NGF([1, 2, 2, 4, 4, 2, 1])"
   ]
  },
  {
   "cell_type": "markdown",
   "id": "3d9bc9d7",
   "metadata": {},
   "source": [
    "Q2"
   ]
  },
  {
   "cell_type": "code",
   "execution_count": 5,
   "id": "529c2e74",
   "metadata": {},
   "outputs": [],
   "source": [
    "def sortStack (stack:list[int])->list[int]:\n",
    "    temp_stack = []\n",
    "    while(len(stack) != 0):\n",
    "         \n",
    "        # pop the top element\n",
    "        temp = peek(stack)\n",
    "        pop(stack)\n",
    " \n",
    "       #temp_stack is not empty and top element of original stack is greater than temp stack\n",
    "        while(len(temp_stack) != 0 and  int(peek(temp_stack)) < int(temp)):          \n",
    "           \n",
    "            # push top value of temp_stack into the original stack\n",
    "            push(stack,peek(temp_stack))\n",
    "            #pop the top value of temp stack\n",
    "            pop(temp_stack)\n",
    " \n",
    "        # push temp in temp stack\n",
    "        push(temp_stack,temp)\n",
    "        \n",
    "    #return reverse of temp stack \n",
    "    return temp_stack[::-1]"
   ]
  },
  {
   "cell_type": "code",
   "execution_count": 6,
   "id": "3c973132",
   "metadata": {},
   "outputs": [
    {
     "data": {
      "text/plain": [
       "[3, 23, 31, 34, 92, 98]"
      ]
     },
     "execution_count": 6,
     "metadata": {},
     "output_type": "execute_result"
    }
   ],
   "source": [
    "sortStack(stack=[34, 3, 31, 98, 92, 23])"
   ]
  },
  {
   "cell_type": "code",
   "execution_count": 7,
   "id": "b2ee9c3d",
   "metadata": {},
   "outputs": [
    {
     "data": {
      "text/plain": [
       "[1, 2, 3, 4, 5, 8]"
      ]
     },
     "execution_count": 7,
     "metadata": {},
     "output_type": "execute_result"
    }
   ],
   "source": [
    "sortStack(stack=[3, 5, 1, 4, 2, 8])"
   ]
  },
  {
   "cell_type": "markdown",
   "id": "f1ec0063",
   "metadata": {},
   "source": [
    "Q3"
   ]
  },
  {
   "cell_type": "code",
   "execution_count": 8,
   "id": "941dbeb8",
   "metadata": {},
   "outputs": [],
   "source": [
    "def empty(stack):\n",
    "    len(stack)==0"
   ]
  },
  {
   "cell_type": "code",
   "execution_count": 9,
   "id": "dbe80b44",
   "metadata": {},
   "outputs": [],
   "source": [
    "def delete_middle(stack:list[int])->list[int]:\n",
    "    #temp stack\n",
    "    temp=[]\n",
    "    #mid of stack\n",
    "    mid=len(stack)//2\n",
    "    \n",
    "    #Task1: move loop till middle and pop topmost element from stack push in temp stack\n",
    "    while len(stack) > mid and stack:        \n",
    "        push(temp,stack.pop())\n",
    "        \n",
    "    #Task2: pop middle element from stack    \n",
    "    stack.pop()\n",
    "    \n",
    "    #Task3: push elements back into stack from temp stack\n",
    "    while temp:\n",
    "        push(stack,temp.pop())\n",
    "    \n",
    "    #delete temp stack    \n",
    "    del(temp)\n",
    "    return stack"
   ]
  },
  {
   "cell_type": "code",
   "execution_count": 10,
   "id": "acd4fcc4",
   "metadata": {},
   "outputs": [
    {
     "data": {
      "text/plain": [
       "[1, 3, 4, 5]"
      ]
     },
     "execution_count": 10,
     "metadata": {},
     "output_type": "execute_result"
    }
   ],
   "source": [
    "delete_middle(stack=[1, 2, 3, 4, 5])"
   ]
  },
  {
   "cell_type": "code",
   "execution_count": 11,
   "id": "07720059",
   "metadata": {},
   "outputs": [
    {
     "data": {
      "text/plain": [
       "[1, 2, 4, 5, 6]"
      ]
     },
     "execution_count": 11,
     "metadata": {},
     "output_type": "execute_result"
    }
   ],
   "source": [
    "delete_middle(stack=[1, 2, 3, 4, 5,6])"
   ]
  },
  {
   "cell_type": "markdown",
   "id": "2325e754",
   "metadata": {},
   "source": [
    "Q5"
   ]
  },
  {
   "cell_type": "code",
   "execution_count": 12,
   "id": "fa9878e0",
   "metadata": {},
   "outputs": [],
   "source": [
    "def reverse_num(num:int)->int:\n",
    "    #convert num into num string stack list\n",
    "    num_stack=[i for i in str(num)]\n",
    "    temp_stack=[]\n",
    "    while num_stack:\n",
    "        #pop items in num_stcak and push items in temp_stack\n",
    "        push(temp_stack,num_stack.pop())\n",
    "    #join stringlist to string and convert into int\n",
    "    return int(\"\".join(temp_stack))"
   ]
  },
  {
   "cell_type": "code",
   "execution_count": 13,
   "id": "167a534e",
   "metadata": {},
   "outputs": [
    {
     "data": {
      "text/plain": [
       "563"
      ]
     },
     "execution_count": 13,
     "metadata": {},
     "output_type": "execute_result"
    }
   ],
   "source": [
    "reverse_num(365)"
   ]
  },
  {
   "cell_type": "code",
   "execution_count": 14,
   "id": "c7597ed3",
   "metadata": {},
   "outputs": [
    {
     "data": {
      "text/plain": [
       "9986"
      ]
     },
     "execution_count": 14,
     "metadata": {},
     "output_type": "execute_result"
    }
   ],
   "source": [
    "reverse_num(6899)"
   ]
  },
  {
   "cell_type": "code",
   "execution_count": 15,
   "id": "db995275",
   "metadata": {},
   "outputs": [
    {
     "data": {
      "text/plain": [
       "86"
      ]
     },
     "execution_count": 15,
     "metadata": {},
     "output_type": "execute_result"
    }
   ],
   "source": [
    "reverse_num(6800)"
   ]
  },
  {
   "cell_type": "markdown",
   "id": "2b9c012a",
   "metadata": {},
   "source": [
    "Q7"
   ]
  },
  {
   "cell_type": "code",
   "execution_count": 16,
   "id": "8a4fc002",
   "metadata": {},
   "outputs": [],
   "source": [
    "def remove_similar(seq:list[str])->int:    \n",
    "    #temp stack to store non similar items\n",
    "    temp_stack = [] \n",
    "    \n",
    "    for i in range(len(seq)):         \n",
    "        # Push the current string if the temp stack is empty\n",
    "        if empty(temp_stack):\n",
    "            push(temp_stack,seq[i])\n",
    "            \n",
    "        else:\n",
    "            Str1 = peek(temp_stack)\n",
    " \n",
    "            # compare the current string with top of temp stack\n",
    "            #pop the topmost if equal push other wise\n",
    "            if (Str1 == seq[i]):\n",
    "                temp_stack.pop()\n",
    " \n",
    "            else:\n",
    "                push(temp_stack,seq[i])\n",
    " \n",
    "    return len(temp_stack)"
   ]
  },
  {
   "cell_type": "code",
   "execution_count": 17,
   "id": "4368ce55",
   "metadata": {},
   "outputs": [
    {
     "data": {
      "text/plain": [
       "3"
      ]
     },
     "execution_count": 17,
     "metadata": {},
     "output_type": "execute_result"
    }
   ],
   "source": [
    "remove_similar(seq=['ab', 'aa', 'aa' ,'bcd','ab'])"
   ]
  },
  {
   "cell_type": "code",
   "execution_count": 18,
   "id": "94930815",
   "metadata": {},
   "outputs": [
    {
     "data": {
      "text/plain": [
       "0"
      ]
     },
     "execution_count": 18,
     "metadata": {},
     "output_type": "execute_result"
    }
   ],
   "source": [
    "remove_similar(seq=['tom','jerry','jerry','tom'])"
   ]
  },
  {
   "cell_type": "code",
   "execution_count": null,
   "id": "ddbbc793",
   "metadata": {},
   "outputs": [],
   "source": []
  }
 ],
 "metadata": {
  "kernelspec": {
   "display_name": "Python 3 (ipykernel)",
   "language": "python",
   "name": "python3"
  },
  "language_info": {
   "codemirror_mode": {
    "name": "ipython",
    "version": 3
   },
   "file_extension": ".py",
   "mimetype": "text/x-python",
   "name": "python",
   "nbconvert_exporter": "python",
   "pygments_lexer": "ipython3",
   "version": "3.9.13"
  }
 },
 "nbformat": 4,
 "nbformat_minor": 5
}
