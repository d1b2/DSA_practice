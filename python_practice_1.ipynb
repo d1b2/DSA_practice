{
 "cells": [
  {
   "cell_type": "markdown",
   "id": "9b6d2503",
   "metadata": {},
   "source": [
    "Q1 Write a Python program to reverse a string without using any built-in string reversal functions."
   ]
  },
  {
   "cell_type": "code",
   "execution_count": 1,
   "id": "dc59c884",
   "metadata": {},
   "outputs": [],
   "source": [
    "def string_reverse(s:str)->str:\n",
    "    temp = \"\"\n",
    "    for i in s:\n",
    "        temp = i + temp\n",
    "    return temp"
   ]
  },
  {
   "cell_type": "code",
   "execution_count": 2,
   "id": "d80c76e6",
   "metadata": {},
   "outputs": [
    {
     "data": {
      "text/plain": [
       "'yz! DcbA'"
      ]
     },
     "execution_count": 2,
     "metadata": {},
     "output_type": "execute_result"
    }
   ],
   "source": [
    "string_reverse(s=\"AbcD !zy\")"
   ]
  },
  {
   "cell_type": "markdown",
   "id": "0c46f354",
   "metadata": {},
   "source": [
    "Q2 Implement a function to check if a given string is a palindrome."
   ]
  },
  {
   "cell_type": "code",
   "execution_count": 3,
   "id": "f410b5b7",
   "metadata": {},
   "outputs": [],
   "source": [
    "def check_pallindrome(s:str)->bool:\n",
    "    reverse=s[::-1]\n",
    "    return s==reverse"
   ]
  },
  {
   "cell_type": "code",
   "execution_count": 4,
   "id": "9e7b328a",
   "metadata": {},
   "outputs": [
    {
     "data": {
      "text/plain": [
       "False"
      ]
     },
     "execution_count": 4,
     "metadata": {},
     "output_type": "execute_result"
    }
   ],
   "source": [
    "check_pallindrome(s=\"AbcD !zy\")"
   ]
  },
  {
   "cell_type": "code",
   "execution_count": 5,
   "id": "fabef4f0",
   "metadata": {},
   "outputs": [
    {
     "data": {
      "text/plain": [
       "True"
      ]
     },
     "execution_count": 5,
     "metadata": {},
     "output_type": "execute_result"
    }
   ],
   "source": [
    "check_pallindrome(s=\"1mam1\")"
   ]
  },
  {
   "cell_type": "markdown",
   "id": "31f7a0ac",
   "metadata": {},
   "source": [
    "Q3 Write a program to find the largest element in a given list."
   ]
  },
  {
   "cell_type": "code",
   "execution_count": 6,
   "id": "99fea2d8",
   "metadata": {},
   "outputs": [],
   "source": [
    "def find_max(arr:list[int])->int:\n",
    "    if len(arr)==0 or arr==None:\n",
    "        return None\n",
    "    return max(arr)"
   ]
  },
  {
   "cell_type": "code",
   "execution_count": 7,
   "id": "fbcb36c8",
   "metadata": {},
   "outputs": [
    {
     "data": {
      "text/plain": [
       "100"
      ]
     },
     "execution_count": 7,
     "metadata": {},
     "output_type": "execute_result"
    }
   ],
   "source": [
    "find_max(arr=[1,5,2,100,9])"
   ]
  },
  {
   "cell_type": "code",
   "execution_count": 8,
   "id": "362d6705",
   "metadata": {},
   "outputs": [],
   "source": [
    "find_max(arr=[])"
   ]
  },
  {
   "cell_type": "markdown",
   "id": "443c7927",
   "metadata": {},
   "source": [
    "Q4 Implement a function to count the occurrence of each element in a list."
   ]
  },
  {
   "cell_type": "code",
   "execution_count": 9,
   "id": "65ec596d",
   "metadata": {},
   "outputs": [],
   "source": [
    "def count_element(arr:list[int])->dict:\n",
    "    if len(arr)==0:\n",
    "        return None\n",
    "    hash_map={}\n",
    "    for i in arr:\n",
    "        if i in hash_map:\n",
    "            hash_map[i]+=1\n",
    "        else:\n",
    "            hash_map[i]=1\n",
    "    return hash_map"
   ]
  },
  {
   "cell_type": "code",
   "execution_count": 10,
   "id": "ea3712c4",
   "metadata": {},
   "outputs": [
    {
     "data": {
      "text/plain": [
       "{1: 2, 5: 1, 2: 3}"
      ]
     },
     "execution_count": 10,
     "metadata": {},
     "output_type": "execute_result"
    }
   ],
   "source": [
    "count_element(arr=[1,5,2,1,2,2])"
   ]
  },
  {
   "cell_type": "markdown",
   "id": "08116c69",
   "metadata": {},
   "source": [
    "Q5 Write a Python program to find the second largest number in a list."
   ]
  },
  {
   "cell_type": "code",
   "execution_count": 11,
   "id": "e835a7df",
   "metadata": {},
   "outputs": [],
   "source": [
    "def second_largest(arr:list[int])->int:\n",
    "    if len(arr)<=1:\n",
    "        return None\n",
    "    #get index of largest\n",
    "    b=arr.index(max(arr))\n",
    "    #pop largest\n",
    "    arr.pop(b)\n",
    "    return max(arr)"
   ]
  },
  {
   "cell_type": "code",
   "execution_count": 12,
   "id": "529d5257",
   "metadata": {},
   "outputs": [
    {
     "data": {
      "text/plain": [
       "9"
      ]
     },
     "execution_count": 12,
     "metadata": {},
     "output_type": "execute_result"
    }
   ],
   "source": [
    "second_largest(arr=[1,5,2,100,9])"
   ]
  },
  {
   "cell_type": "markdown",
   "id": "e7310c9a",
   "metadata": {},
   "source": [
    "Q6 Implement a function to remove duplicate elements from a list."
   ]
  },
  {
   "cell_type": "code",
   "execution_count": 13,
   "id": "3244e978",
   "metadata": {},
   "outputs": [],
   "source": [
    "def remove_duplicates(arr:list[int])->list[int]:\n",
    "    if len(arr)==0:\n",
    "        return None\n",
    "    #no duplicate present\n",
    "    if len(arr)==len(set(arr)):\n",
    "        return arr\n",
    "    return list(set(arr))"
   ]
  },
  {
   "cell_type": "code",
   "execution_count": 14,
   "id": "cb7c0f68",
   "metadata": {},
   "outputs": [
    {
     "data": {
      "text/plain": [
       "[1, 2, 5]"
      ]
     },
     "execution_count": 14,
     "metadata": {},
     "output_type": "execute_result"
    }
   ],
   "source": [
    "remove_duplicates(arr=[1,5,2,1,2,2])"
   ]
  },
  {
   "cell_type": "markdown",
   "id": "b4908dba",
   "metadata": {},
   "source": [
    "Q7 Write a program to calculate the factorial of a given number."
   ]
  },
  {
   "cell_type": "code",
   "execution_count": 15,
   "id": "05109b01",
   "metadata": {},
   "outputs": [],
   "source": [
    "#with recursion\n",
    "def fact_rec(n:int)->int:\n",
    "    if n<=1:\n",
    "        return 1\n",
    "    else:\n",
    "        return n*fact_rec(n-1)"
   ]
  },
  {
   "cell_type": "code",
   "execution_count": 16,
   "id": "f2cfb086",
   "metadata": {},
   "outputs": [
    {
     "data": {
      "text/plain": [
       "720"
      ]
     },
     "execution_count": 16,
     "metadata": {},
     "output_type": "execute_result"
    }
   ],
   "source": [
    "fact_rec(n=6)"
   ]
  },
  {
   "cell_type": "markdown",
   "id": "330d31f3",
   "metadata": {},
   "source": [
    "Q8 Implement a function to check if a given number is prime."
   ]
  },
  {
   "cell_type": "code",
   "execution_count": 17,
   "id": "f551a49c",
   "metadata": {},
   "outputs": [],
   "source": [
    "def prime(n:int)->bool:\n",
    "    if n<=1: \n",
    "        return False\n",
    "    \n",
    "    for i in range(2,n//2):\n",
    "        if(n%i)==0:\n",
    "            return False\n",
    "        \n",
    "    return True"
   ]
  },
  {
   "cell_type": "code",
   "execution_count": 18,
   "id": "22dc42e1",
   "metadata": {},
   "outputs": [
    {
     "data": {
      "text/plain": [
       "True"
      ]
     },
     "execution_count": 18,
     "metadata": {},
     "output_type": "execute_result"
    }
   ],
   "source": [
    "prime(n=2)"
   ]
  },
  {
   "cell_type": "code",
   "execution_count": 19,
   "id": "a21b08a6",
   "metadata": {},
   "outputs": [
    {
     "data": {
      "text/plain": [
       "False"
      ]
     },
     "execution_count": 19,
     "metadata": {},
     "output_type": "execute_result"
    }
   ],
   "source": [
    "prime(n=12)"
   ]
  },
  {
   "cell_type": "code",
   "execution_count": 20,
   "id": "60f23787",
   "metadata": {},
   "outputs": [
    {
     "data": {
      "text/plain": [
       "False"
      ]
     },
     "execution_count": 20,
     "metadata": {},
     "output_type": "execute_result"
    }
   ],
   "source": [
    "prime(n=111)"
   ]
  },
  {
   "cell_type": "markdown",
   "id": "700c8724",
   "metadata": {},
   "source": [
    "Q9 Write a Python program to sort a list of integers in ascending order."
   ]
  },
  {
   "cell_type": "code",
   "execution_count": 21,
   "id": "84d0f01b",
   "metadata": {},
   "outputs": [],
   "source": [
    "def selection_sort(arr:list[int])->list[int]:\n",
    "    if len(arr)<=1:\n",
    "        return arr\n",
    "    n = len(arr)\n",
    "    for i in range(n):\n",
    "        ## to store the index of the minimum element\n",
    "        min_idx = i\n",
    "        for j in range(i+1, n):\n",
    "            if arr[j] < arr[min_idx]:\n",
    "                min_idx = j\n",
    "                \n",
    "        ## swap of the element at i and min_idx\n",
    "        arr[i], arr[min_idx] = arr[min_idx], arr[i]\n",
    "    \n",
    "    return arr"
   ]
  },
  {
   "cell_type": "code",
   "execution_count": 22,
   "id": "46f59285",
   "metadata": {},
   "outputs": [
    {
     "data": {
      "text/plain": [
       "[1, 2, 5, 9, 100]"
      ]
     },
     "execution_count": 22,
     "metadata": {},
     "output_type": "execute_result"
    }
   ],
   "source": [
    "selection_sort(arr=[1,5,2,100,9])"
   ]
  },
  {
   "cell_type": "markdown",
   "id": "2876dfa5",
   "metadata": {},
   "source": [
    "Q10 Implement a function to find the sum of all numbers in a list."
   ]
  },
  {
   "cell_type": "code",
   "execution_count": 23,
   "id": "7a8bf95b",
   "metadata": {},
   "outputs": [],
   "source": [
    "def sum_list(arr:list[int])->int:\n",
    "    if len(arr)==0:\n",
    "        return -1\n",
    "    elif len(arr)==1:\n",
    "        return arr[0]\n",
    "    l_sum=0\n",
    "    for i in arr:\n",
    "        l_sum+=i\n",
    "    return l_sum"
   ]
  },
  {
   "cell_type": "code",
   "execution_count": 24,
   "id": "d7b6808c",
   "metadata": {},
   "outputs": [
    {
     "data": {
      "text/plain": [
       "117"
      ]
     },
     "execution_count": 24,
     "metadata": {},
     "output_type": "execute_result"
    }
   ],
   "source": [
    "sum_list(arr=[1,5,2,100,9])"
   ]
  },
  {
   "cell_type": "markdown",
   "id": "08bc7b37",
   "metadata": {},
   "source": [
    "Q11 Write a program to find the common elements between two lists."
   ]
  },
  {
   "cell_type": "code",
   "execution_count": 25,
   "id": "4648cb4e",
   "metadata": {},
   "outputs": [],
   "source": [
    "def common1(l1:list[int],l2:list[int])->list[int]:\n",
    "    common=[]\n",
    "    for i in set(l1):\n",
    "        if i in set(l2):\n",
    "            common.append(i)\n",
    "    return common"
   ]
  },
  {
   "cell_type": "code",
   "execution_count": 26,
   "id": "b4a899a0",
   "metadata": {},
   "outputs": [
    {
     "data": {
      "text/plain": [
       "[2, 4]"
      ]
     },
     "execution_count": 26,
     "metadata": {},
     "output_type": "execute_result"
    }
   ],
   "source": [
    "common1(l1=[1,2,3,4,5],l2=[2,4,8,10])"
   ]
  },
  {
   "cell_type": "markdown",
   "id": "b206fef7",
   "metadata": {},
   "source": [
    "Q12 Implement a function to check if a given string is an anagram of another string"
   ]
  },
  {
   "cell_type": "code",
   "execution_count": 27,
   "id": "ba907b7e",
   "metadata": {},
   "outputs": [],
   "source": [
    "def check_anagram(s1:str,s2:str)->bool:\n",
    "    if len(s1)!=len(s2):\n",
    "        return False\n",
    "    s1=s1.lower()\n",
    "    s2=s2.lower()\n",
    "    return sorted(s1)==sorted(s2)"
   ]
  },
  {
   "cell_type": "code",
   "execution_count": 28,
   "id": "214422b7",
   "metadata": {},
   "outputs": [
    {
     "data": {
      "text/plain": [
       "True"
      ]
     },
     "execution_count": 28,
     "metadata": {},
     "output_type": "execute_result"
    }
   ],
   "source": [
    "check_anagram(s1=\"Race\",s2=\"Care\")"
   ]
  },
  {
   "cell_type": "code",
   "execution_count": 29,
   "id": "f36de17b",
   "metadata": {},
   "outputs": [
    {
     "data": {
      "text/plain": [
       "False"
      ]
     },
     "execution_count": 29,
     "metadata": {},
     "output_type": "execute_result"
    }
   ],
   "source": [
    "check_anagram(s1=\"Race\",s2=\"Bear\")"
   ]
  },
  {
   "cell_type": "markdown",
   "id": "a23f360c",
   "metadata": {},
   "source": [
    "Q13 Write a Python program to generate all permutations of a given string."
   ]
  },
  {
   "cell_type": "code",
   "execution_count": 30,
   "id": "705032f2",
   "metadata": {},
   "outputs": [],
   "source": [
    "from itertools import permutations\n",
    "\n",
    "def permute(s:str)->None:\n",
    "    s=list(s)\n",
    "    n=len(s)\n",
    "    permutes=permutations(s,n)\n",
    "    l1=[]\n",
    "    for i in permutes:\n",
    "        l1.append(\"\".join(i))\n",
    "    return l1"
   ]
  },
  {
   "cell_type": "code",
   "execution_count": 31,
   "id": "664c5211",
   "metadata": {},
   "outputs": [
    {
     "data": {
      "text/plain": [
       "['abc', 'acb', 'bac', 'bca', 'cab', 'cba']"
      ]
     },
     "execution_count": 31,
     "metadata": {},
     "output_type": "execute_result"
    }
   ],
   "source": [
    "permute(s=\"abc\")"
   ]
  },
  {
   "cell_type": "markdown",
   "id": "7504e1db",
   "metadata": {},
   "source": [
    "Q14 Implement a function to calculate the Fibonacci sequence up to a given number of terms."
   ]
  },
  {
   "cell_type": "code",
   "execution_count": 32,
   "id": "27dfbb8f",
   "metadata": {},
   "outputs": [],
   "source": [
    "#helper function\n",
    "def fib_util(n:int)->int:\n",
    "    if n<=1:\n",
    "        return 1     \n",
    "    return fib_util(n-1)+fib_util(n-2)\n",
    "\n",
    "#main function\n",
    "def fib_sequence(n:int)->list[int]:\n",
    "    l=[]\n",
    "    for i in range(n):\n",
    "        l.append(fib_util(i))\n",
    "    return l"
   ]
  },
  {
   "cell_type": "code",
   "execution_count": 33,
   "id": "a0ff42eb",
   "metadata": {},
   "outputs": [
    {
     "data": {
      "text/plain": [
       "[1, 1, 2, 3, 5]"
      ]
     },
     "execution_count": 33,
     "metadata": {},
     "output_type": "execute_result"
    }
   ],
   "source": [
    "fib_sequence(5)"
   ]
  },
  {
   "cell_type": "code",
   "execution_count": 34,
   "id": "99465135",
   "metadata": {},
   "outputs": [
    {
     "data": {
      "text/plain": [
       "[1, 1, 2, 3, 5, 8, 13, 21]"
      ]
     },
     "execution_count": 34,
     "metadata": {},
     "output_type": "execute_result"
    }
   ],
   "source": [
    "fib_sequence(8)"
   ]
  },
  {
   "cell_type": "markdown",
   "id": "6fd67158",
   "metadata": {},
   "source": [
    "Q15 Write a program to find the median of a list of numbers."
   ]
  },
  {
   "cell_type": "code",
   "execution_count": 35,
   "id": "6eb7fed1",
   "metadata": {},
   "outputs": [],
   "source": [
    "def find_median(arr:list[int])->int:\n",
    "    arr.sort()\n",
    "    mid=len(arr)//2\n",
    "    if len(arr)%2==0:        \n",
    "        median=(arr[mid]+arr[mid-1])/2\n",
    "        return median\n",
    "    else:\n",
    "        return arr[mid]"
   ]
  },
  {
   "cell_type": "code",
   "execution_count": 36,
   "id": "6e20a48b",
   "metadata": {},
   "outputs": [
    {
     "data": {
      "text/plain": [
       "8"
      ]
     },
     "execution_count": 36,
     "metadata": {},
     "output_type": "execute_result"
    }
   ],
   "source": [
    "find_median(arr=[2,4,8,10,11])"
   ]
  },
  {
   "cell_type": "code",
   "execution_count": 37,
   "id": "e71b772e",
   "metadata": {},
   "outputs": [
    {
     "data": {
      "text/plain": [
       "6.0"
      ]
     },
     "execution_count": 37,
     "metadata": {},
     "output_type": "execute_result"
    }
   ],
   "source": [
    "find_median(arr=[2,4,8,10])"
   ]
  },
  {
   "cell_type": "markdown",
   "id": "881ac9ea",
   "metadata": {},
   "source": [
    "Q16 Implement a function to check if a given list is sorted in non-decreasing order."
   ]
  },
  {
   "cell_type": "code",
   "execution_count": 38,
   "id": "4ff2f1cb",
   "metadata": {},
   "outputs": [],
   "source": [
    "#non-decreasing=ascending\n",
    "def check_asc(arr:list[int])->bool:\n",
    "    if len(arr)<1:\n",
    "        return None\n",
    "    elif len(arr)==1:\n",
    "        return True\n",
    "    for i in range (1,len(arr)):\n",
    "        if arr[i-1]>arr[i]:\n",
    "            return False\n",
    "    return True"
   ]
  },
  {
   "cell_type": "code",
   "execution_count": 39,
   "id": "403b946a",
   "metadata": {},
   "outputs": [
    {
     "data": {
      "text/plain": [
       "True"
      ]
     },
     "execution_count": 39,
     "metadata": {},
     "output_type": "execute_result"
    }
   ],
   "source": [
    "check_asc(arr=[1,2,4])"
   ]
  },
  {
   "cell_type": "code",
   "execution_count": 40,
   "id": "0103e584",
   "metadata": {},
   "outputs": [
    {
     "data": {
      "text/plain": [
       "False"
      ]
     },
     "execution_count": 40,
     "metadata": {},
     "output_type": "execute_result"
    }
   ],
   "source": [
    "check_asc(arr=[1,4,2])"
   ]
  },
  {
   "cell_type": "markdown",
   "id": "9ab342f5",
   "metadata": {},
   "source": [
    "Q17 Write a Python program to find the intersection of two lists."
   ]
  },
  {
   "cell_type": "code",
   "execution_count": 41,
   "id": "db55356e",
   "metadata": {},
   "outputs": [],
   "source": [
    "def intersect(l1:list[int],l2:list[int])->list[int]:\n",
    "    return list(set(l1).intersection(set(l2)))"
   ]
  },
  {
   "cell_type": "code",
   "execution_count": 42,
   "id": "57b3f652",
   "metadata": {},
   "outputs": [
    {
     "data": {
      "text/plain": [
       "[2, 4]"
      ]
     },
     "execution_count": 42,
     "metadata": {},
     "output_type": "execute_result"
    }
   ],
   "source": [
    "intersect(l1=[1,2,3,4,5],l2=[2,4,8,10])"
   ]
  },
  {
   "cell_type": "markdown",
   "id": "d1e76ed7",
   "metadata": {},
   "source": [
    "Q18 Implement a function to find the maximum subarray sum in a given list."
   ]
  },
  {
   "cell_type": "code",
   "execution_count": 43,
   "id": "be744f46",
   "metadata": {},
   "outputs": [],
   "source": [
    "def max_sub_sum(arr:list[int])->int:\n",
    "    if not arr:\n",
    "        return None\n",
    "    arr.sort()\n",
    "    \n",
    "    if arr[-1]<0:\n",
    "        return arr[-1]\n",
    "    \n",
    "    elif len(arr)==1:\n",
    "        return arr[0]\n",
    "    \n",
    "    first_positve_index=0\n",
    "    for i in range(len(arr)):\n",
    "        if arr[i]>=0:\n",
    "            first_positive_index=i\n",
    "            break\n",
    "    max_sum=0      \n",
    "    for i in arr[first_positive_index:]:\n",
    "        max_sum+=i\n",
    "    return max_sum"
   ]
  },
  {
   "cell_type": "code",
   "execution_count": 44,
   "id": "2c3a270c",
   "metadata": {},
   "outputs": [
    {
     "data": {
      "text/plain": [
       "20"
      ]
     },
     "execution_count": 44,
     "metadata": {},
     "output_type": "execute_result"
    }
   ],
   "source": [
    "max_sub_sum(arr=[-2,4,7,9,-3,0])"
   ]
  },
  {
   "cell_type": "code",
   "execution_count": 45,
   "id": "809a2d48",
   "metadata": {},
   "outputs": [
    {
     "data": {
      "text/plain": [
       "-2"
      ]
     },
     "execution_count": 45,
     "metadata": {},
     "output_type": "execute_result"
    }
   ],
   "source": [
    "max_sub_sum(arr=[-2,-4,-7,-3])"
   ]
  },
  {
   "cell_type": "markdown",
   "id": "14f40252",
   "metadata": {},
   "source": [
    "Q19 Write a program to remove all vowels from a given string"
   ]
  },
  {
   "cell_type": "code",
   "execution_count": 46,
   "id": "e75a428c",
   "metadata": {},
   "outputs": [],
   "source": [
    "\n",
    "def remove_vowel(s:str)->str:\n",
    "    if len(s)==0:\n",
    "        return None\n",
    "    vowel_list=['a','e','i','o','u','A','E','I','O','U']\n",
    "    s2=\"\"\n",
    "    for i in s:\n",
    "        if i not in vowel_list:\n",
    "            s2+=i\n",
    "    return s2"
   ]
  },
  {
   "cell_type": "code",
   "execution_count": 47,
   "id": "3637c581",
   "metadata": {},
   "outputs": [
    {
     "data": {
      "text/plain": [
       "'Pythnc'"
      ]
     },
     "execution_count": 47,
     "metadata": {},
     "output_type": "execute_result"
    }
   ],
   "source": [
    "remove_vowel(s=\"PythonIc\")"
   ]
  },
  {
   "cell_type": "markdown",
   "id": "ea1465e0",
   "metadata": {},
   "source": [
    "Q20 Implement a function to reverse the order of words in a given sentence"
   ]
  },
  {
   "cell_type": "code",
   "execution_count": 48,
   "id": "aa136d09",
   "metadata": {},
   "outputs": [],
   "source": [
    "def reverse_words(s:str)->str:\n",
    "    if len(s)==0:\n",
    "        return None\n",
    "    s=s.split()\n",
    "    n=len(s)\n",
    "    for i in range(n//2):\n",
    "        s[i],s[n-i-1]=s[n-i-1],s[i]\n",
    "    s=\" \".join(s)\n",
    "    return s"
   ]
  },
  {
   "cell_type": "code",
   "execution_count": 49,
   "id": "133ddc60",
   "metadata": {},
   "outputs": [
    {
     "data": {
      "text/plain": [
       "'you are How'"
      ]
     },
     "execution_count": 49,
     "metadata": {},
     "output_type": "execute_result"
    }
   ],
   "source": [
    "reverse_words(s=\"How are you\")"
   ]
  },
  {
   "cell_type": "markdown",
   "id": "e95c71ad",
   "metadata": {},
   "source": [
    "Q21 Write a Python program to check if two strings are anagrams of each other."
   ]
  },
  {
   "cell_type": "code",
   "execution_count": 50,
   "id": "83d12c96",
   "metadata": {},
   "outputs": [],
   "source": [
    "def check_anagram(s1:str,s2:str)->bool:\n",
    "    if len(s1)!=len(s2) or len(s1)==0:\n",
    "        return False\n",
    "    charset=[0]*26\n",
    "    for i in range(len(s1)):\n",
    "        charset[ord(s1[i])-ord('a')]+=1\n",
    "        charset[ord(s2[i])-ord('a')]-=1\n",
    "    return charset==[0]*26"
   ]
  },
  {
   "cell_type": "code",
   "execution_count": 51,
   "id": "8d9ed2d4",
   "metadata": {},
   "outputs": [
    {
     "data": {
      "text/plain": [
       "True"
      ]
     },
     "execution_count": 51,
     "metadata": {},
     "output_type": "execute_result"
    }
   ],
   "source": [
    " check_anagram(s1 = \"anagram\", s2 = \"nagaram\")"
   ]
  },
  {
   "cell_type": "code",
   "execution_count": 52,
   "id": "2ddac711",
   "metadata": {},
   "outputs": [
    {
     "data": {
      "text/plain": [
       "False"
      ]
     },
     "execution_count": 52,
     "metadata": {},
     "output_type": "execute_result"
    }
   ],
   "source": [
    " check_anagram(s1 = \"rat\", s2 = \"cat\")"
   ]
  },
  {
   "cell_type": "markdown",
   "id": "605e3943",
   "metadata": {},
   "source": [
    "Q22 Implement a function to find the first non-repeating character in a string"
   ]
  },
  {
   "cell_type": "code",
   "execution_count": 53,
   "id": "6c5a588b",
   "metadata": {},
   "outputs": [],
   "source": [
    "#Implement a function to find the first non-repeating character in a string\n",
    "def first_non_repeating(s:str)->str:\n",
    "    if len(s)==0 :\n",
    "        return -1\n",
    "    elif len(s)==len(set(s)):#there is no repeating character\n",
    "        return s[0]\n",
    "              \n",
    "    for i in range(len(s)):\n",
    "        if s.count(s[i])==1:\n",
    "            return s[i]\n",
    "    return -1"
   ]
  },
  {
   "cell_type": "code",
   "execution_count": 54,
   "id": "a84eeadd",
   "metadata": {},
   "outputs": [
    {
     "data": {
      "text/plain": [
       "'a'"
      ]
     },
     "execution_count": 54,
     "metadata": {},
     "output_type": "execute_result"
    }
   ],
   "source": [
    "first_non_repeating(s='abcd')"
   ]
  },
  {
   "cell_type": "code",
   "execution_count": 55,
   "id": "73d6723f",
   "metadata": {},
   "outputs": [
    {
     "data": {
      "text/plain": [
       "'b'"
      ]
     },
     "execution_count": 55,
     "metadata": {},
     "output_type": "execute_result"
    }
   ],
   "source": [
    "first_non_repeating(s='aaabcddd')"
   ]
  },
  {
   "cell_type": "markdown",
   "id": "aced79bf",
   "metadata": {},
   "source": [
    "Q23 Write a program to find the prime factors of a given number."
   ]
  },
  {
   "cell_type": "code",
   "execution_count": 56,
   "id": "54e07f53",
   "metadata": {},
   "outputs": [],
   "source": [
    "def prime_factors(n:int)->list[int]:\n",
    "    #basic check\n",
    "    if n<=1 or n==None:\n",
    "        return-1\n",
    "    \n",
    "    prime_factor_list=[]\n",
    "    #check if 2 is factor\n",
    "    while n%2==0:\n",
    "        prime_factor_list.append(2) #append 2 and divide number by 2\n",
    "        n=n/2\n",
    "        \n",
    "    n_sqrt=int(n**0.5)#calculate square root number\n",
    "    \n",
    "    if n_sqrt<=2:#condition is true only when prime numbers 3,5,7 are remaining check for them and return\n",
    "        if n%3==0:\n",
    "            prime_factor_list.append(3)\n",
    "        elif n%5==0:\n",
    "            prime_factor_list.append(5)\n",
    "        else:\n",
    "            prime_factor_list.append(7)\n",
    "        return prime_factor_list\n",
    "    \n",
    "    for i in range(3,n_sqrt+1,2):#we'll start from 3 and take 2 steps generally prime factors are odd other than 2\n",
    "        while n%i==0:#check if i is factor append to list and divide n by i\n",
    "            prime_factor_list.append(i)\n",
    "            n=n/i\n",
    "    return prime_factor_list\n",
    "        "
   ]
  },
  {
   "cell_type": "code",
   "execution_count": 57,
   "id": "aa88f403",
   "metadata": {},
   "outputs": [
    {
     "data": {
      "text/plain": [
       "[2, 2, 3]"
      ]
     },
     "execution_count": 57,
     "metadata": {},
     "output_type": "execute_result"
    }
   ],
   "source": [
    "prime_factors(n=12)"
   ]
  },
  {
   "cell_type": "code",
   "execution_count": 58,
   "id": "e1cffba0",
   "metadata": {},
   "outputs": [
    {
     "data": {
      "text/plain": [
       "[3, 3, 5, 7]"
      ]
     },
     "execution_count": 58,
     "metadata": {},
     "output_type": "execute_result"
    }
   ],
   "source": [
    "prime_factors(n=315)"
   ]
  },
  {
   "cell_type": "markdown",
   "id": "7c4f13fa",
   "metadata": {},
   "source": [
    "Q24 Implement a function to check if a given number is a power of two"
   ]
  },
  {
   "cell_type": "code",
   "execution_count": 59,
   "id": "3d8ec28e",
   "metadata": {},
   "outputs": [],
   "source": [
    "def power_of_2(n:int)->bool:\n",
    "    if n<=0:\n",
    "        return False\n",
    "    while n%2==0:\n",
    "        n=n/2    \n",
    "    return n==1"
   ]
  },
  {
   "cell_type": "code",
   "execution_count": 60,
   "id": "dd6f7d75",
   "metadata": {},
   "outputs": [
    {
     "data": {
      "text/plain": [
       "False"
      ]
     },
     "execution_count": 60,
     "metadata": {},
     "output_type": "execute_result"
    }
   ],
   "source": [
    "power_of_2(n=48)"
   ]
  },
  {
   "cell_type": "code",
   "execution_count": 61,
   "id": "a2623668",
   "metadata": {},
   "outputs": [
    {
     "data": {
      "text/plain": [
       "True"
      ]
     },
     "execution_count": 61,
     "metadata": {},
     "output_type": "execute_result"
    }
   ],
   "source": [
    "power_of_2(n=1)"
   ]
  },
  {
   "cell_type": "code",
   "execution_count": 62,
   "id": "b04576f5",
   "metadata": {},
   "outputs": [
    {
     "data": {
      "text/plain": [
       "True"
      ]
     },
     "execution_count": 62,
     "metadata": {},
     "output_type": "execute_result"
    }
   ],
   "source": [
    "power_of_2(n=32)"
   ]
  },
  {
   "cell_type": "markdown",
   "id": "b411972b",
   "metadata": {},
   "source": [
    "Q25 Write a Python program to merge two sorted lists into a single sorted list"
   ]
  },
  {
   "cell_type": "code",
   "execution_count": 63,
   "id": "b2957413",
   "metadata": {},
   "outputs": [],
   "source": [
    "def merge(l1:list[int],l2:list[int])->list[int]:\n",
    "    #basic checks\n",
    "    if len(l1)==len(l2)==0:\n",
    "        return[]\n",
    "    elif len(l1)==0:\n",
    "        return l2\n",
    "    elif len(l2)==0:\n",
    "        return l1\n",
    "    \n",
    "    merge_list=[]#empty list\n",
    "    \n",
    "    while len(l1)!=0 and len(l2)!=0:\n",
    "        if l1[0]<=l2[0]:#compare ->pop->append\n",
    "            merge_list.append(l1.pop(0))\n",
    "        else:\n",
    "            merge_list.append(l2.pop(0))\n",
    "    #extend the remainng list\n",
    "    if len(l1)==0  and len(l2)!=0:\n",
    "        merge_list.extend(l2)\n",
    "        \n",
    "    else:\n",
    "        merge_list.extend(l1)\n",
    "    \n",
    "    return merge_list"
   ]
  },
  {
   "cell_type": "code",
   "execution_count": 64,
   "id": "d7edf275",
   "metadata": {},
   "outputs": [
    {
     "data": {
      "text/plain": [
       "[1, 1, 2, 3, 4, 4]"
      ]
     },
     "execution_count": 64,
     "metadata": {},
     "output_type": "execute_result"
    }
   ],
   "source": [
    "merge(l1 = [1,2,4], l2 = [1,3,4])"
   ]
  },
  {
   "cell_type": "code",
   "execution_count": 65,
   "id": "7d9bff9f",
   "metadata": {},
   "outputs": [
    {
     "data": {
      "text/plain": [
       "[]"
      ]
     },
     "execution_count": 65,
     "metadata": {},
     "output_type": "execute_result"
    }
   ],
   "source": [
    "merge(l1 = [], l2 = [])"
   ]
  },
  {
   "cell_type": "code",
   "execution_count": 66,
   "id": "0ee59755",
   "metadata": {},
   "outputs": [
    {
     "data": {
      "text/plain": [
       "[0]"
      ]
     },
     "execution_count": 66,
     "metadata": {},
     "output_type": "execute_result"
    }
   ],
   "source": [
    "merge(l1 = [], l2 = [0])"
   ]
  },
  {
   "cell_type": "code",
   "execution_count": 67,
   "id": "5a145e05",
   "metadata": {},
   "outputs": [
    {
     "data": {
      "text/plain": [
       "[1, 1, 2, 3, 4, 4, 5]"
      ]
     },
     "execution_count": 67,
     "metadata": {},
     "output_type": "execute_result"
    }
   ],
   "source": [
    "merge(l1 = [1,2,4,5], l2 = [1,3,4])"
   ]
  },
  {
   "cell_type": "markdown",
   "id": "8ae42ca1",
   "metadata": {},
   "source": [
    "Q26 Implement a function to find the mode of a list of numbers"
   ]
  },
  {
   "cell_type": "code",
   "execution_count": 68,
   "id": "e6cf391d",
   "metadata": {},
   "outputs": [],
   "source": [
    "def mode(arr:list[int])->list:\n",
    "    #basic check\n",
    "    if len(arr)==0:\n",
    "        return []\n",
    "    \n",
    "    if len(set(arr))==len(arr):#all elements are unique , so all are mode\n",
    "        return arr\n",
    "    \n",
    "    if len(set(arr))==1:# only one unique element is present\n",
    "        return [arr[0]]\n",
    "   \n",
    "    hash_map={}#create  hash_map\n",
    "    for i in range(len(arr)):\n",
    "        if arr[i] in hash_map:\n",
    "            hash_map[arr[i]]+=1\n",
    "        else:\n",
    "            hash_map[arr[i]]=1\n",
    "            \n",
    "    mode_list=[]\n",
    "    for i in hash_map:#traverse through hash_map and compare with max frequency\n",
    "        if hash_map[i]==max(hash_map):\n",
    "            mode_list.append(i)\n",
    "    return mode_list\n",
    "    "
   ]
  },
  {
   "cell_type": "code",
   "execution_count": 69,
   "id": "857e6490",
   "metadata": {},
   "outputs": [
    {
     "data": {
      "text/plain": [
       "[1, 2]"
      ]
     },
     "execution_count": 69,
     "metadata": {},
     "output_type": "execute_result"
    }
   ],
   "source": [
    "mode(arr=[0,0,0,1,1,1,1,2,2,2,2,4])"
   ]
  },
  {
   "cell_type": "code",
   "execution_count": 70,
   "id": "d112f5c8",
   "metadata": {},
   "outputs": [
    {
     "data": {
      "text/plain": [
       "[1]"
      ]
     },
     "execution_count": 70,
     "metadata": {},
     "output_type": "execute_result"
    }
   ],
   "source": [
    "mode(arr=[1,1,1,1])"
   ]
  },
  {
   "cell_type": "code",
   "execution_count": 71,
   "id": "57c1b664",
   "metadata": {},
   "outputs": [
    {
     "data": {
      "text/plain": [
       "[1, 2, 3]"
      ]
     },
     "execution_count": 71,
     "metadata": {},
     "output_type": "execute_result"
    }
   ],
   "source": [
    "mode(arr=[1,2,3])"
   ]
  },
  {
   "cell_type": "code",
   "execution_count": 72,
   "id": "2ddd973f",
   "metadata": {},
   "outputs": [
    {
     "data": {
      "text/plain": [
       "[]"
      ]
     },
     "execution_count": 72,
     "metadata": {},
     "output_type": "execute_result"
    }
   ],
   "source": [
    "mode(arr=[])"
   ]
  },
  {
   "cell_type": "markdown",
   "id": "90536bd0",
   "metadata": {},
   "source": [
    "Q27 Write a program to find the greatest common divisor (GCD) of two numbers"
   ]
  },
  {
   "cell_type": "code",
   "execution_count": 73,
   "id": "6ef95c96",
   "metadata": {},
   "outputs": [],
   "source": [
    "\n",
    "def gcd(a:int, b:int)->int:\n",
    "    #base case\n",
    "    if(b == 0):\n",
    "        return a\n",
    "    if (a==0):\n",
    "        return b\n",
    "    else:\n",
    "        return gcd(b, a % b)"
   ]
  },
  {
   "cell_type": "code",
   "execution_count": 74,
   "id": "13253df9",
   "metadata": {},
   "outputs": [
    {
     "data": {
      "text/plain": [
       "24"
      ]
     },
     "execution_count": 74,
     "metadata": {},
     "output_type": "execute_result"
    }
   ],
   "source": [
    "gcd(0,24)"
   ]
  },
  {
   "cell_type": "code",
   "execution_count": 75,
   "id": "4ddfa906",
   "metadata": {},
   "outputs": [
    {
     "data": {
      "text/plain": [
       "24"
      ]
     },
     "execution_count": 75,
     "metadata": {},
     "output_type": "execute_result"
    }
   ],
   "source": [
    "gcd(24,0)"
   ]
  },
  {
   "cell_type": "code",
   "execution_count": 76,
   "id": "e0565d71",
   "metadata": {},
   "outputs": [
    {
     "data": {
      "text/plain": [
       "1"
      ]
     },
     "execution_count": 76,
     "metadata": {},
     "output_type": "execute_result"
    }
   ],
   "source": [
    "gcd(9,7)"
   ]
  },
  {
   "cell_type": "code",
   "execution_count": 77,
   "id": "198120ba",
   "metadata": {},
   "outputs": [
    {
     "data": {
      "text/plain": [
       "9"
      ]
     },
     "execution_count": 77,
     "metadata": {},
     "output_type": "execute_result"
    }
   ],
   "source": [
    "gcd(171,9)"
   ]
  },
  {
   "cell_type": "markdown",
   "id": "7bc9ce3a",
   "metadata": {},
   "source": [
    "Q28 Implement a function to calculate the square root of a given number"
   ]
  },
  {
   "cell_type": "code",
   "execution_count": 78,
   "id": "ff2469a5",
   "metadata": {},
   "outputs": [],
   "source": [
    "def square_root(n:int)->int:#function return perfect squareroot or int less than squareoot\n",
    "    #basic checks\n",
    "    if n<=0:\n",
    "        return None\n",
    "    if n==1:\n",
    "        return 1\n",
    "    #binary search approach\n",
    "    left=0\n",
    "    right=n//2    \n",
    "    ans=0\n",
    "    \n",
    "    while left<=right:\n",
    "        mid=(left+right)//2\n",
    "        if mid*mid==n:\n",
    "            return mid\n",
    "        elif mid*mid>n:\n",
    "            right=mid-1\n",
    "        elif mid*mid<n:\n",
    "            left=mid+1\n",
    "            ans=mid\n",
    "    return ans\n",
    "            "
   ]
  },
  {
   "cell_type": "code",
   "execution_count": 79,
   "id": "3c993644",
   "metadata": {},
   "outputs": [
    {
     "data": {
      "text/plain": [
       "3"
      ]
     },
     "execution_count": 79,
     "metadata": {},
     "output_type": "execute_result"
    }
   ],
   "source": [
    "square_root(n=9)"
   ]
  },
  {
   "cell_type": "code",
   "execution_count": 80,
   "id": "004178b0",
   "metadata": {},
   "outputs": [
    {
     "data": {
      "text/plain": [
       "2"
      ]
     },
     "execution_count": 80,
     "metadata": {},
     "output_type": "execute_result"
    }
   ],
   "source": [
    "square_root(n=7)"
   ]
  },
  {
   "cell_type": "markdown",
   "id": "1c430e02",
   "metadata": {},
   "source": [
    "Q29 Write a Python program to check if a given string is a valid palindrome ignoring non-alphanumeric characters"
   ]
  },
  {
   "cell_type": "code",
   "execution_count": 81,
   "id": "157f304a",
   "metadata": {},
   "outputs": [],
   "source": [
    "def valid_pallindrome(s:str)->bool:\n",
    "    if len(s)==0:\n",
    "        return False\n",
    "    if len(s)==1:\n",
    "        return True\n",
    "    left=0\n",
    "    right=len(s)-1\n",
    "    while left<=right:\n",
    "        if s[left].isalnum() and s[right].isalnum():\n",
    "            if s[left]!=s[right]:\n",
    "                return False\n",
    "            else:\n",
    "                left+=1\n",
    "                right-=1\n",
    "        elif s[left].isalnum():\n",
    "            right-=1\n",
    "        elif s[right].isalnum():\n",
    "            left+=1\n",
    "        else:\n",
    "            left+=1\n",
    "            right-=1\n",
    "    return True\n",
    "            "
   ]
  },
  {
   "cell_type": "code",
   "execution_count": 82,
   "id": "76d41368",
   "metadata": {},
   "outputs": [
    {
     "data": {
      "text/plain": [
       "True"
      ]
     },
     "execution_count": 82,
     "metadata": {},
     "output_type": "execute_result"
    }
   ],
   "source": [
    "valid_pallindrome(s=\"!!mam\")"
   ]
  },
  {
   "cell_type": "code",
   "execution_count": 83,
   "id": "6ff20aa8",
   "metadata": {},
   "outputs": [
    {
     "data": {
      "text/plain": [
       "True"
      ]
     },
     "execution_count": 83,
     "metadata": {},
     "output_type": "execute_result"
    }
   ],
   "source": [
    "valid_pallindrome(s=\"!m?am\")"
   ]
  },
  {
   "cell_type": "markdown",
   "id": "fdd004c1",
   "metadata": {},
   "source": [
    "Q30 Implement a function to find the minimum element in a rotated sorted list."
   ]
  },
  {
   "cell_type": "code",
   "execution_count": 84,
   "id": "da07e2aa",
   "metadata": {},
   "outputs": [],
   "source": [
    "def find_min(arr:list[int])->int:\n",
    "    #basic checks\n",
    "    if len(arr)==0:\n",
    "        return None\n",
    "    if len(arr)==1:#single element is present whihc is min itself\n",
    "        return arr[0]\n",
    "    #binary search\n",
    "    left,right=0,len(arr)-1\n",
    "    \n",
    "    while left<=right:\n",
    "        mid=(left+right)//2\n",
    "        if arr[mid]>arr[-1]:#compare value at mid to last element\n",
    "            left=mid+1\n",
    "        else:\n",
    "            right=mid-1\n",
    "    \n",
    "    return arr[left]    "
   ]
  },
  {
   "cell_type": "code",
   "execution_count": 85,
   "id": "12c52fe8",
   "metadata": {},
   "outputs": [
    {
     "data": {
      "text/plain": [
       "0"
      ]
     },
     "execution_count": 85,
     "metadata": {},
     "output_type": "execute_result"
    }
   ],
   "source": [
    "find_min(arr=[4,5,6,7,0,1,2])"
   ]
  },
  {
   "cell_type": "code",
   "execution_count": 86,
   "id": "2286dfc9",
   "metadata": {},
   "outputs": [
    {
     "data": {
      "text/plain": [
       "-11"
      ]
     },
     "execution_count": 86,
     "metadata": {},
     "output_type": "execute_result"
    }
   ],
   "source": [
    "find_min(arr=[2,5,6,7,-11,2])"
   ]
  },
  {
   "cell_type": "markdown",
   "id": "2e691c91",
   "metadata": {},
   "source": [
    "Q31 Write a program to find the sum of all even numbers in a list."
   ]
  },
  {
   "cell_type": "code",
   "execution_count": 87,
   "id": "6d26b9ed",
   "metadata": {},
   "outputs": [],
   "source": [
    "def sum_even(arr:list[int])->int:\n",
    "    if len(arr)==0:\n",
    "        return []\n",
    "    even_sum=0\n",
    "    for i in range(len(arr)):\n",
    "        if arr[i]%2==0:\n",
    "            even_sum+=arr[i]\n",
    "    return even_sum"
   ]
  },
  {
   "cell_type": "code",
   "execution_count": 88,
   "id": "5f917e35",
   "metadata": {},
   "outputs": [
    {
     "data": {
      "text/plain": [
       "6"
      ]
     },
     "execution_count": 88,
     "metadata": {},
     "output_type": "execute_result"
    }
   ],
   "source": [
    "sum_even(arr=[1,2,4,5])"
   ]
  },
  {
   "cell_type": "code",
   "execution_count": 89,
   "id": "7ce150b6",
   "metadata": {},
   "outputs": [
    {
     "data": {
      "text/plain": [
       "0"
      ]
     },
     "execution_count": 89,
     "metadata": {},
     "output_type": "execute_result"
    }
   ],
   "source": [
    "sum_even(arr=[1,5])"
   ]
  },
  {
   "cell_type": "markdown",
   "id": "50001903",
   "metadata": {},
   "source": [
    "Q32 Implement a function to calculate the power of a number using recursion"
   ]
  },
  {
   "cell_type": "code",
   "execution_count": 90,
   "id": "45be211a",
   "metadata": {},
   "outputs": [],
   "source": [
    "\n",
    "def power(n:int,p:int)->int:\n",
    "    if n==0 :\n",
    "        return 'invalid'\n",
    "    elif n==1 or p==0:\n",
    "        return 1\n",
    "    \n",
    "    if p>0:#for positive exponents\n",
    "        return n*power(n,p-1)\n",
    "    elif p<0:#for negative exponents\n",
    "        return power(n,p+1)/n"
   ]
  },
  {
   "cell_type": "code",
   "execution_count": 91,
   "id": "cb2429b5",
   "metadata": {},
   "outputs": [
    {
     "data": {
      "text/plain": [
       "32"
      ]
     },
     "execution_count": 91,
     "metadata": {},
     "output_type": "execute_result"
    }
   ],
   "source": [
    "power(n=2,p=5)"
   ]
  },
  {
   "cell_type": "code",
   "execution_count": 92,
   "id": "6c32b110",
   "metadata": {},
   "outputs": [
    {
     "data": {
      "text/plain": [
       "0.25"
      ]
     },
     "execution_count": 92,
     "metadata": {},
     "output_type": "execute_result"
    }
   ],
   "source": [
    "power(n=2,p=-2)"
   ]
  },
  {
   "cell_type": "markdown",
   "id": "e8290302",
   "metadata": {},
   "source": [
    "Q33 Write a Python program to remove duplicates from a list while preserving the order"
   ]
  },
  {
   "cell_type": "code",
   "execution_count": 93,
   "id": "19690837",
   "metadata": {},
   "outputs": [],
   "source": [
    "\n",
    "def remove_duplicates(arr:list[int])->list[int]:\n",
    "    if len(arr)==0 or len(arr)==len(set(arr)): #empty list or list with unique elements\n",
    "        return arr\n",
    "    \n",
    "    unique_list=[]\n",
    "    \n",
    "    while(len(arr)!=0):\n",
    "        if arr[0] not in unique_list:\n",
    "            unique_list.append(arr.pop(0))\n",
    "        else:\n",
    "            arr.pop(0)\n",
    "    \n",
    "    return unique_list\n",
    "        "
   ]
  },
  {
   "cell_type": "code",
   "execution_count": 94,
   "id": "b21ffa92",
   "metadata": {},
   "outputs": [
    {
     "data": {
      "text/plain": [
       "[1, 2, 3, 0, 4, 5, 6]"
      ]
     },
     "execution_count": 94,
     "metadata": {},
     "output_type": "execute_result"
    }
   ],
   "source": [
    "remove_duplicates(arr=[1,2,3,0,4,1,5,2,6])"
   ]
  },
  {
   "cell_type": "markdown",
   "id": "8f466bad",
   "metadata": {},
   "source": [
    "Q34 implement a function to find the longest common prefix among a list of strings."
   ]
  },
  {
   "cell_type": "code",
   "execution_count": 95,
   "id": "3b751b7a",
   "metadata": {},
   "outputs": [],
   "source": [
    "def longestCommonPrefix(strs: list[str]) -> str:\n",
    "    #idea is to sort list then compare char of first and last elements\n",
    "    common=\"\"\n",
    "    strs=sorted(strs)#sort the list\n",
    "    first_str=strs[0]\n",
    "    last_str=strs[-1]\n",
    "\n",
    "    for i in range(min(len(first_str),len(last_str))):\n",
    "        if first_str[i]!=last_str[i]:\n",
    "            return common\n",
    "        common+=first_str[i]\n",
    "    return common"
   ]
  },
  {
   "cell_type": "code",
   "execution_count": 96,
   "id": "b21f68d8",
   "metadata": {},
   "outputs": [
    {
     "data": {
      "text/plain": [
       "'data'"
      ]
     },
     "execution_count": 96,
     "metadata": {},
     "output_type": "execute_result"
    }
   ],
   "source": [
    "longestCommonPrefix(strs=['data','datascience','data_analysis'])"
   ]
  },
  {
   "cell_type": "code",
   "execution_count": 97,
   "id": "8dc75993",
   "metadata": {},
   "outputs": [
    {
     "data": {
      "text/plain": [
       "''"
      ]
     },
     "execution_count": 97,
     "metadata": {},
     "output_type": "execute_result"
    }
   ],
   "source": [
    "longestCommonPrefix(strs=['data','science','analysis'])"
   ]
  },
  {
   "cell_type": "code",
   "execution_count": null,
   "id": "ec50e1be",
   "metadata": {},
   "outputs": [],
   "source": []
  },
  {
   "cell_type": "markdown",
   "id": "36bcf101",
   "metadata": {},
   "source": [
    "Q35 Write a program to check if a given number is a perfect square"
   ]
  },
  {
   "cell_type": "code",
   "execution_count": 98,
   "id": "8a2d3682",
   "metadata": {},
   "outputs": [],
   "source": [
    "def perfect_square(n:int)->bool:\n",
    "    #basic checks\n",
    "    if n<=0:\n",
    "        return None\n",
    "    if n==1:\n",
    "        return 1\n",
    "    #binary search approach\n",
    "    left=0\n",
    "    right=n//2    \n",
    "    ans=0\n",
    "    \n",
    "    while left<=right:\n",
    "        mid=(left+right)//2\n",
    "        if mid*mid==n:\n",
    "            return True\n",
    "        elif mid*mid>n:\n",
    "            right=mid-1\n",
    "        elif mid*mid<n:\n",
    "            left=mid+1\n",
    "            ans=mid\n",
    "    return False"
   ]
  },
  {
   "cell_type": "code",
   "execution_count": 99,
   "id": "68ea69d6",
   "metadata": {},
   "outputs": [
    {
     "data": {
      "text/plain": [
       "True"
      ]
     },
     "execution_count": 99,
     "metadata": {},
     "output_type": "execute_result"
    }
   ],
   "source": [
    "perfect_square(n=16)"
   ]
  },
  {
   "cell_type": "code",
   "execution_count": 100,
   "id": "b72c2cad",
   "metadata": {},
   "outputs": [
    {
     "data": {
      "text/plain": [
       "False"
      ]
     },
     "execution_count": 100,
     "metadata": {},
     "output_type": "execute_result"
    }
   ],
   "source": [
    "perfect_square(n=19)"
   ]
  },
  {
   "cell_type": "markdown",
   "id": "8891b700",
   "metadata": {},
   "source": [
    "Q36 Implement a function to calculate the product of all elements in a list."
   ]
  },
  {
   "cell_type": "code",
   "execution_count": 101,
   "id": "75ac1188",
   "metadata": {},
   "outputs": [],
   "source": [
    "def product(arr:list[int])->int:\n",
    "    #basic checks\n",
    "    if len(arr)==0 or 0 in arr:\n",
    "        return 0\n",
    "    prod=1\n",
    "    for i in range(len(arr)):\n",
    "        prod*=arr[i]\n",
    "    return prod"
   ]
  },
  {
   "cell_type": "code",
   "execution_count": 102,
   "id": "e074723b",
   "metadata": {
    "scrolled": true
   },
   "outputs": [
    {
     "data": {
      "text/plain": [
       "280"
      ]
     },
     "execution_count": 102,
     "metadata": {},
     "output_type": "execute_result"
    }
   ],
   "source": [
    "product(arr=[1,2,4,5,7])"
   ]
  },
  {
   "cell_type": "code",
   "execution_count": 103,
   "id": "a33d1e7c",
   "metadata": {},
   "outputs": [
    {
     "data": {
      "text/plain": [
       "0"
      ]
     },
     "execution_count": 103,
     "metadata": {},
     "output_type": "execute_result"
    }
   ],
   "source": [
    "product(arr=[1,2,0,5,7])"
   ]
  },
  {
   "cell_type": "code",
   "execution_count": 104,
   "id": "71b45d64",
   "metadata": {},
   "outputs": [
    {
     "data": {
      "text/plain": [
       "-70"
      ]
     },
     "execution_count": 104,
     "metadata": {},
     "output_type": "execute_result"
    }
   ],
   "source": [
    "product(arr=[1,-2,5,7])"
   ]
  },
  {
   "cell_type": "markdown",
   "id": "20062f85",
   "metadata": {},
   "source": [
    "Q37 Write a Python program to reverse the order of words in a sentence while preserving the word order."
   ]
  },
  {
   "cell_type": "code",
   "execution_count": 105,
   "id": "75774e34",
   "metadata": {},
   "outputs": [],
   "source": [
    "def reverse_words(sentence:str):\n",
    "    #basic checks\n",
    "    if len(sentence)<=1:\n",
    "        return sentence\n",
    "    #split string in list reverse it and then join again\n",
    "    return \" \".join(sentence.split()[::-1])\n",
    "    "
   ]
  },
  {
   "cell_type": "code",
   "execution_count": 106,
   "id": "f3171e02",
   "metadata": {},
   "outputs": [
    {
     "data": {
      "text/plain": [
       "'science data love I'"
      ]
     },
     "execution_count": 106,
     "metadata": {},
     "output_type": "execute_result"
    }
   ],
   "source": [
    "reverse_words(sentence='I love data science')"
   ]
  },
  {
   "cell_type": "markdown",
   "id": "a2853f78",
   "metadata": {},
   "source": [
    "Q38 Implement a function to find the missing number in a given list of consecutive numbers"
   ]
  },
  {
   "cell_type": "code",
   "execution_count": 107,
   "id": "33f3c9d2",
   "metadata": {},
   "outputs": [],
   "source": [
    "def find_missing(nums:list[int])->int:\n",
    "    #basic check\n",
    "    if len(nums)<=1 or nums==None:\n",
    "        return nums\n",
    "    \n",
    "    for i in range(1,len(nums)):\n",
    "        if nums[i]-nums[i-1]>1:\n",
    "            return nums[i]-1\n",
    "        \n",
    "    return None"
   ]
  },
  {
   "cell_type": "code",
   "execution_count": 108,
   "id": "3e537dfe",
   "metadata": {},
   "outputs": [
    {
     "data": {
      "text/plain": [
       "6"
      ]
     },
     "execution_count": 108,
     "metadata": {},
     "output_type": "execute_result"
    }
   ],
   "source": [
    "find_missing(nums=[4,5,7,8])"
   ]
  },
  {
   "cell_type": "code",
   "execution_count": null,
   "id": "a2d998ac",
   "metadata": {},
   "outputs": [],
   "source": []
  },
  {
   "cell_type": "markdown",
   "id": "3b2ea6b8",
   "metadata": {},
   "source": [
    "Q39 Write a program to find the sum of digits of a given number"
   ]
  },
  {
   "cell_type": "code",
   "execution_count": 109,
   "id": "b6b16dca",
   "metadata": {},
   "outputs": [],
   "source": [
    "def sum_digit(n:int)->int:\n",
    "    #basic checks\n",
    "    if len(str(n))==1 or n==None:\n",
    "        return n\n",
    "    sign_flag=1 if n<0 else 0 #can be ignored\n",
    "    sum_digit=0\n",
    "    n=abs(n)\n",
    "    while(n>0):\n",
    "        sum_digit+=n%10\n",
    "        n=n//10\n",
    "    return sum_digit if sign_flag==0 else -sum_digit"
   ]
  },
  {
   "cell_type": "code",
   "execution_count": 110,
   "id": "ebecfe86",
   "metadata": {},
   "outputs": [
    {
     "data": {
      "text/plain": [
       "15"
      ]
     },
     "execution_count": 110,
     "metadata": {},
     "output_type": "execute_result"
    }
   ],
   "source": [
    "sum_digit(n=12345)"
   ]
  },
  {
   "cell_type": "code",
   "execution_count": 111,
   "id": "e6b7c837",
   "metadata": {},
   "outputs": [
    {
     "data": {
      "text/plain": [
       "-15"
      ]
     },
     "execution_count": 111,
     "metadata": {},
     "output_type": "execute_result"
    }
   ],
   "source": [
    "sum_digit(n=-12345)"
   ]
  },
  {
   "cell_type": "markdown",
   "id": "489b005a",
   "metadata": {},
   "source": [
    "Q40 Implement a function to check if a given string is a valid palindrome considering case sensitivity"
   ]
  },
  {
   "cell_type": "code",
   "execution_count": 112,
   "id": "c30b93f5",
   "metadata": {},
   "outputs": [],
   "source": [
    "def valid_palindrome(s:str)->bool:\n",
    "    if len(s)==1 or s==None:\n",
    "        return True\n",
    "    if len(set(s))==1:#string consists of single repeating character\n",
    "        return True\n",
    "    n=len(s)\n",
    "    for i in range(n//2):\n",
    "        if s[i]!=s[n-i-1]:\n",
    "            return False\n",
    "    return True"
   ]
  },
  {
   "cell_type": "code",
   "execution_count": 113,
   "id": "236946de",
   "metadata": {},
   "outputs": [
    {
     "data": {
      "text/plain": [
       "False"
      ]
     },
     "execution_count": 113,
     "metadata": {},
     "output_type": "execute_result"
    }
   ],
   "source": [
    "valid_palindrome(s='Racecar')"
   ]
  },
  {
   "cell_type": "code",
   "execution_count": 114,
   "id": "e7542c10",
   "metadata": {},
   "outputs": [
    {
     "data": {
      "text/plain": [
       "True"
      ]
     },
     "execution_count": 114,
     "metadata": {},
     "output_type": "execute_result"
    }
   ],
   "source": [
    "valid_palindrome(s='RacecaR')"
   ]
  },
  {
   "cell_type": "markdown",
   "id": "1a8d8d67",
   "metadata": {},
   "source": [
    "Q41 Write a Python program to find the smallest missing positive integer in a list"
   ]
  },
  {
   "cell_type": "code",
   "execution_count": 115,
   "id": "477f3e63",
   "metadata": {},
   "outputs": [],
   "source": [
    "def small_positive(nums:list[int]):\n",
    "    #basic checks\n",
    "    if len(nums)==0:\n",
    "        return None\n",
    "    \n",
    "    n=len(nums)\n",
    "    last_index=0\n",
    "    #remove all negative integers from list\n",
    "    while(n>0):\n",
    "        if nums[last_index]<=0:\n",
    "            nums.pop(last_index)\n",
    "        else:\n",
    "            last_index+=1\n",
    "        n-=1\n",
    "            \n",
    "    #checks after removing negative integers        \n",
    "    if len(nums)==0 or (len(nums)==1 and nums[0]==1):\n",
    "        return None\n",
    "    if  min(nums)>1:\n",
    "        return 1\n",
    "    \n",
    "    #pop minimum positive value and store it in variable   \n",
    "    prev_min=nums.pop(nums.index(min(nums)))\n",
    "    \n",
    "    \n",
    "    while len(nums)>0:#iterate through list\n",
    "        curr_min=nums.pop(nums.index(min(nums)))#pop and store next minimum \n",
    "        if curr_min-prev_min!=1:#compare both minimums\n",
    "            return prev_min+1\n",
    "        prev_min=curr_min\n",
    "        \n",
    "    return prev_min+1 #all elements differ by 1 so return last min value+1\n",
    "    "
   ]
  },
  {
   "cell_type": "code",
   "execution_count": 116,
   "id": "51f55cdf",
   "metadata": {},
   "outputs": [
    {
     "data": {
      "text/plain": [
       "1"
      ]
     },
     "execution_count": 116,
     "metadata": {},
     "output_type": "execute_result"
    }
   ],
   "source": [
    "small_positive(nums=[0, 10, 2, -10, -20])"
   ]
  },
  {
   "cell_type": "code",
   "execution_count": 117,
   "id": "c4194d99",
   "metadata": {},
   "outputs": [
    {
     "data": {
      "text/plain": [
       "4"
      ]
     },
     "execution_count": 117,
     "metadata": {},
     "output_type": "execute_result"
    }
   ],
   "source": [
    "small_positive(nums = [1,14,2,5,3,7,8,12])"
   ]
  },
  {
   "cell_type": "code",
   "execution_count": null,
   "id": "8b30e0b6",
   "metadata": {},
   "outputs": [],
   "source": []
  },
  {
   "cell_type": "markdown",
   "id": "81b1c064",
   "metadata": {},
   "source": [
    "Q42 Implement a function to find the longest palindrome substring in a given string"
   ]
  },
  {
   "cell_type": "code",
   "execution_count": null,
   "id": "370bf9e8",
   "metadata": {},
   "outputs": [],
   "source": []
  },
  {
   "cell_type": "code",
   "execution_count": null,
   "id": "74a4be95",
   "metadata": {},
   "outputs": [],
   "source": []
  },
  {
   "cell_type": "markdown",
   "id": "26642ce1",
   "metadata": {},
   "source": [
    "Q43 Write a program to find the number of occurrences of a given element in a list."
   ]
  },
  {
   "cell_type": "code",
   "execution_count": 118,
   "id": "280f57d3",
   "metadata": {},
   "outputs": [],
   "source": [
    "def occurence(arr:list[int],target)->int:\n",
    "    #basic checks\n",
    "    if len(arr)==0 or arr==None:\n",
    "        return None\n",
    "    elif target not in arr:\n",
    "        return 0\n",
    "    return arr.count(target)\n"
   ]
  },
  {
   "cell_type": "code",
   "execution_count": 119,
   "id": "04e38263",
   "metadata": {},
   "outputs": [
    {
     "data": {
      "text/plain": [
       "3"
      ]
     },
     "execution_count": 119,
     "metadata": {},
     "output_type": "execute_result"
    }
   ],
   "source": [
    "occurence(arr=[0,0,0,1,1,2,2,2,2,-10,-10,-10],target=-10)"
   ]
  },
  {
   "cell_type": "markdown",
   "id": "b7ac335e",
   "metadata": {},
   "source": [
    "Q44 Implement a function to check if a given number is a perfect number."
   ]
  },
  {
   "cell_type": "code",
   "execution_count": 120,
   "id": "ca7c8f3e",
   "metadata": {},
   "outputs": [],
   "source": [
    "def is_perfect(n:int, x=1, s=0)->bool:\n",
    "    #base case\n",
    "    if x >= n:\n",
    "        return s == n\n",
    "    else:\n",
    "        if n % x == 0:\n",
    "            s += x\n",
    "        return is_perfect(n, x + 1, s)"
   ]
  },
  {
   "cell_type": "code",
   "execution_count": 121,
   "id": "dfe19cdf",
   "metadata": {},
   "outputs": [
    {
     "data": {
      "text/plain": [
       "True"
      ]
     },
     "execution_count": 121,
     "metadata": {},
     "output_type": "execute_result"
    }
   ],
   "source": [
    "is_perfect(n=6)"
   ]
  },
  {
   "cell_type": "code",
   "execution_count": 122,
   "id": "494b048e",
   "metadata": {},
   "outputs": [
    {
     "data": {
      "text/plain": [
       "False"
      ]
     },
     "execution_count": 122,
     "metadata": {},
     "output_type": "execute_result"
    }
   ],
   "source": [
    "is_perfect(n=12)"
   ]
  },
  {
   "cell_type": "markdown",
   "id": "0c6dc99e",
   "metadata": {},
   "source": [
    "Q45 Write a Python program to remove all duplicates from a string."
   ]
  },
  {
   "cell_type": "code",
   "execution_count": 123,
   "id": "89dc2cf6",
   "metadata": {},
   "outputs": [],
   "source": [
    "def remove_duplicate(s:str)->str:\n",
    "    if len(s)==0 or s==None:\n",
    "        return None\n",
    "    if len(s)==len(set(s)):#no duplicates present\n",
    "        return s\n",
    "    return \"\".join(set(s))\n",
    "    "
   ]
  },
  {
   "cell_type": "code",
   "execution_count": 124,
   "id": "8d8a6ebc",
   "metadata": {},
   "outputs": [
    {
     "data": {
      "text/plain": [
       "'carime'"
      ]
     },
     "execution_count": 124,
     "metadata": {},
     "output_type": "execute_result"
    }
   ],
   "source": [
    "remove_duplicate(s='icecream')"
   ]
  },
  {
   "cell_type": "code",
   "execution_count": 125,
   "id": "6e76b449",
   "metadata": {},
   "outputs": [
    {
     "data": {
      "text/plain": [
       "'ice'"
      ]
     },
     "execution_count": 125,
     "metadata": {},
     "output_type": "execute_result"
    }
   ],
   "source": [
    "remove_duplicate(s='ice')"
   ]
  },
  {
   "cell_type": "code",
   "execution_count": null,
   "id": "f730bbf9",
   "metadata": {},
   "outputs": [],
   "source": [
    "\n"
   ]
  }
 ],
 "metadata": {
  "kernelspec": {
   "display_name": "Python 3 (ipykernel)",
   "language": "python",
   "name": "python3"
  },
  "language_info": {
   "codemirror_mode": {
    "name": "ipython",
    "version": 3
   },
   "file_extension": ".py",
   "mimetype": "text/x-python",
   "name": "python",
   "nbconvert_exporter": "python",
   "pygments_lexer": "ipython3",
   "version": "3.9.13"
  }
 },
 "nbformat": 4,
 "nbformat_minor": 5
}
