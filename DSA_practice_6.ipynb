{
 "cells": [
  {
   "cell_type": "markdown",
   "id": "c4a6d589",
   "metadata": {},
   "source": [
    "#### Q1"
   ]
  },
  {
   "cell_type": "code",
   "execution_count": 1,
   "id": "baea0ee5",
   "metadata": {},
   "outputs": [],
   "source": [
    "def diStringMatch(s: str) -> list[int]:\n",
    "    ans = []\n",
    "    low = 0\n",
    "    high = len(s)\n",
    "    for i in range(len(s)):\n",
    "        if s[i] == 'I':\n",
    "            ans.append(low)\n",
    "            low+=1\n",
    "        else:\n",
    "            ans.append(high)\n",
    "            high-=1\n",
    "    return ans + [high]"
   ]
  },
  {
   "cell_type": "code",
   "execution_count": 2,
   "id": "1eb30b2b",
   "metadata": {},
   "outputs": [
    {
     "data": {
      "text/plain": [
       "[0, 4, 1, 3, 2]"
      ]
     },
     "execution_count": 2,
     "metadata": {},
     "output_type": "execute_result"
    }
   ],
   "source": [
    "diStringMatch(s = \"IDID\")"
   ]
  },
  {
   "cell_type": "code",
   "execution_count": 3,
   "id": "c0802538",
   "metadata": {},
   "outputs": [
    {
     "data": {
      "text/plain": [
       "[3, 2, 0, 1]"
      ]
     },
     "execution_count": 3,
     "metadata": {},
     "output_type": "execute_result"
    }
   ],
   "source": [
    "diStringMatch(s = \"DDI\")"
   ]
  },
  {
   "cell_type": "markdown",
   "id": "1b17d3e5",
   "metadata": {},
   "source": [
    "#### Q2"
   ]
  },
  {
   "cell_type": "code",
   "execution_count": 4,
   "id": "e6d7b837",
   "metadata": {},
   "outputs": [],
   "source": [
    "def searchMatrix(matrix: list[list[int]], target: int) -> bool:\n",
    "    def binary_search(row,left,right,target):#helper function\n",
    "        while left<=right:\n",
    "            mid=(right+left)//2\n",
    "            if matrix[row][mid]==target:\n",
    "                return True\n",
    "            elif matrix[row][mid]>target:\n",
    "                right=mid-1\n",
    "            else:\n",
    "                left=mid+1\n",
    "        return False\n",
    "\n",
    "    n=len(matrix)#no of rows\n",
    "    m=len(matrix[0])# no colums\n",
    "    for i in range(n):\n",
    "        if matrix[i][0]<=target<=matrix[i][-1]:\n",
    "            return binary_search(i,0,m-1,target)\n",
    "\n",
    "    return False"
   ]
  },
  {
   "cell_type": "code",
   "execution_count": 5,
   "id": "5fabf15e",
   "metadata": {},
   "outputs": [
    {
     "data": {
      "text/plain": [
       "True"
      ]
     },
     "execution_count": 5,
     "metadata": {},
     "output_type": "execute_result"
    }
   ],
   "source": [
    "searchMatrix(matrix = [[1,3,5,7],[10,11,16,20],[23,30,34,60]], target = 3)"
   ]
  },
  {
   "cell_type": "code",
   "execution_count": 6,
   "id": "64a1ae70",
   "metadata": {},
   "outputs": [
    {
     "data": {
      "text/plain": [
       "False"
      ]
     },
     "execution_count": 6,
     "metadata": {},
     "output_type": "execute_result"
    }
   ],
   "source": [
    "searchMatrix(matrix = [[1,3,5,7],[10,11,16,20],[23,30,34,60]], target = 13)"
   ]
  },
  {
   "cell_type": "markdown",
   "id": "f04b9cae",
   "metadata": {},
   "source": [
    "#### Q3"
   ]
  },
  {
   "cell_type": "code",
   "execution_count": 7,
   "id": "e240f560",
   "metadata": {},
   "outputs": [],
   "source": [
    "def validMountainArray(arr: list[int]) -> bool:\n",
    "    if len(arr)<3:\n",
    "        return False   \n",
    "\n",
    "    left,right=0,len(arr)-1\n",
    "    while (left<right):\n",
    "        if arr[left]<arr[left+1] and arr[right]<arr[right-1]:\n",
    "            left+=1\n",
    "            right-=1\n",
    "        elif arr[left]<arr[left+1]:\n",
    "            left +=1\n",
    "        elif arr[right]<arr[right-1]:\n",
    "            right-=1\n",
    "        else:\n",
    "            return False\n",
    "\n",
    "    if left!=0 and right!=len(arr)-1 and left==right :\n",
    "        return True\n",
    "    return False"
   ]
  },
  {
   "cell_type": "code",
   "execution_count": 8,
   "id": "8fc2462f",
   "metadata": {},
   "outputs": [
    {
     "data": {
      "text/plain": [
       "True"
      ]
     },
     "execution_count": 8,
     "metadata": {},
     "output_type": "execute_result"
    }
   ],
   "source": [
    "validMountainArray(arr = [0,3,2,1])"
   ]
  },
  {
   "cell_type": "code",
   "execution_count": 9,
   "id": "6d0b01ac",
   "metadata": {},
   "outputs": [
    {
     "data": {
      "text/plain": [
       "False"
      ]
     },
     "execution_count": 9,
     "metadata": {},
     "output_type": "execute_result"
    }
   ],
   "source": [
    "validMountainArray(arr = [3,5,5])"
   ]
  },
  {
   "cell_type": "markdown",
   "id": "a42a7b3b",
   "metadata": {},
   "source": [
    "#### Q4"
   ]
  },
  {
   "cell_type": "code",
   "execution_count": 10,
   "id": "a9fdd17a",
   "metadata": {},
   "outputs": [],
   "source": [
    "def findMaxLength(nums: list[int]) -> int:        \n",
    "    #sliding window\n",
    "    prefix_sum=0\n",
    "    max_size=0\n",
    "    window={0:-1}\n",
    "    for i in range(len(nums)):\n",
    "        if nums[i]==0:\n",
    "            prefix_sum-=1 \n",
    "        else :\n",
    "            prefix_sum+=1\n",
    "        if prefix_sum in window:\n",
    "            max_size=max(max_size,i-window[prefix_sum])\n",
    "        else:\n",
    "            window[prefix_sum]=i\n",
    "    return max_size"
   ]
  },
  {
   "cell_type": "code",
   "execution_count": 11,
   "id": "af96827f",
   "metadata": {},
   "outputs": [
    {
     "data": {
      "text/plain": [
       "2"
      ]
     },
     "execution_count": 11,
     "metadata": {},
     "output_type": "execute_result"
    }
   ],
   "source": [
    "findMaxLength(nums = [0,1])"
   ]
  },
  {
   "cell_type": "code",
   "execution_count": 12,
   "id": "c2af22e1",
   "metadata": {},
   "outputs": [
    {
     "data": {
      "text/plain": [
       "2"
      ]
     },
     "execution_count": 12,
     "metadata": {},
     "output_type": "execute_result"
    }
   ],
   "source": [
    "findMaxLength(nums = [0,1,0])"
   ]
  },
  {
   "cell_type": "markdown",
   "id": "7dabdeee",
   "metadata": {},
   "source": [
    "#### Q5"
   ]
  },
  {
   "cell_type": "code",
   "execution_count": 13,
   "id": "3b8df183",
   "metadata": {},
   "outputs": [],
   "source": [
    "def min_prod_sum(nums1: list[int], nums2: list[int]) -> int:\n",
    "    nums1.sort()\n",
    "    nums2.sort()\n",
    "    min_sum=0\n",
    "    for i in range(len(nums1)):\n",
    "        min_sum+=nums1[i]*nums2[len(nums1)-i-1]\n",
    "    return min_sum"
   ]
  },
  {
   "cell_type": "code",
   "execution_count": 14,
   "id": "7a24daa2",
   "metadata": {},
   "outputs": [
    {
     "data": {
      "text/plain": [
       "40"
      ]
     },
     "execution_count": 14,
     "metadata": {},
     "output_type": "execute_result"
    }
   ],
   "source": [
    "min_prod_sum(nums1 = [5,3,4,2], nums2 = [4,2,2,5])"
   ]
  },
  {
   "cell_type": "code",
   "execution_count": 15,
   "id": "101a233d",
   "metadata": {},
   "outputs": [
    {
     "data": {
      "text/plain": [
       "65"
      ]
     },
     "execution_count": 15,
     "metadata": {},
     "output_type": "execute_result"
    }
   ],
   "source": [
    "min_prod_sum(nums1 = [2,1,4,5,7], nums2 = [3,2,4,8,6])"
   ]
  },
  {
   "cell_type": "markdown",
   "id": "6f896b67",
   "metadata": {},
   "source": [
    "#### Q6"
   ]
  },
  {
   "cell_type": "code",
   "execution_count": 16,
   "id": "6cc197a2",
   "metadata": {},
   "outputs": [],
   "source": [
    "def findOriginalArray(changed: list[int]) -> list[int]:\n",
    "    if len(changed)%2!=0 or len(changed)<=1:\n",
    "        return []\n",
    "    #sort array\n",
    "    changed.sort()\n",
    "    #create hashmap\n",
    "    hashmap={}\n",
    "    for i in changed:\n",
    "        if i in hashmap:\n",
    "            hashmap[i]+=1\n",
    "        else:\n",
    "            hashmap[i]=1\n",
    "    #empty list\n",
    "    original=[]\n",
    "    for i in changed:\n",
    "        #check if element is present in hasmap and its frequncy is greater than 0\n",
    "        if i in hashmap and hashmap[i]>0:\n",
    "            #decrease frequency of element\n",
    "            hashmap[i]-=1\n",
    "            #check if twice of element is present in hasmap and its frequncy is greater than 0\n",
    "            if 2*i in hashmap and hashmap[2*i]>0:\n",
    "                #append element to list\n",
    "                original.append(i)\n",
    "                #decrease frequency of element\n",
    "                hashmap[2*i]-=1\n",
    "\n",
    "    if len(original)==len(changed)//2:\n",
    "        return original\n",
    "    return []"
   ]
  },
  {
   "cell_type": "code",
   "execution_count": 17,
   "id": "5b37301b",
   "metadata": {},
   "outputs": [
    {
     "data": {
      "text/plain": [
       "[1, 3, 4]"
      ]
     },
     "execution_count": 17,
     "metadata": {},
     "output_type": "execute_result"
    }
   ],
   "source": [
    "findOriginalArray(changed = [1,3,4,2,6,8])"
   ]
  },
  {
   "cell_type": "code",
   "execution_count": 18,
   "id": "83969108",
   "metadata": {},
   "outputs": [
    {
     "data": {
      "text/plain": [
       "[]"
      ]
     },
     "execution_count": 18,
     "metadata": {},
     "output_type": "execute_result"
    }
   ],
   "source": [
    "findOriginalArray(changed = [6,3,0,1])"
   ]
  },
  {
   "cell_type": "markdown",
   "id": "d5abf355",
   "metadata": {},
   "source": [
    "#### Q7"
   ]
  },
  {
   "cell_type": "code",
   "execution_count": 19,
   "id": "f7260d7d",
   "metadata": {},
   "outputs": [],
   "source": [
    " def generateMatrix(n: int) -> list[list[int]]:\n",
    "        if n==1:\n",
    "            return [[1]]\n",
    "        if n==2:\n",
    "            return [[1,2],[4,3]]\n",
    "        # four pointers\n",
    "        left,top=0,0\n",
    "        right,bottom=n-1,n-1\n",
    "        #array\n",
    "        arr=[[0]*n for i in range(n)]\n",
    "        #counter whose values increases on every iteration\n",
    "        c=1\n",
    "        while top<=bottom and left<=right:\n",
    "            #going from left to right\n",
    "            for i in range(left,right+1):\n",
    "                arr[top][i]=c\n",
    "                c+=1\n",
    "            #value of top pointer is increased by 1\n",
    "            top+=1\n",
    "        #going from top to bottom\n",
    "            for i in range(top,bottom+1):\n",
    "                arr[i][right]=c\n",
    "                c+=1\n",
    "            #value of right pointer is decreased by 1\n",
    "            right-=1\n",
    "            if top<=bottom:\n",
    "                #going from right to left\n",
    "                for i in range(right,left-1,-1):\n",
    "                    arr[bottom][i]=c\n",
    "                    c+=1\n",
    "                #value of bottom pointer is decreased by 1\n",
    "                bottom-=1\n",
    "            if left <= right:\n",
    "                #going from bottom to top\n",
    "                for i in range(bottom, top - 1, -1):\n",
    "                    arr[i][left] = c\n",
    "                    c += 1\n",
    "                #value of left pointer is increased by 1\n",
    "                left += 1 \n",
    "    \n",
    "        return arr  "
   ]
  },
  {
   "cell_type": "code",
   "execution_count": 20,
   "id": "92911ac4",
   "metadata": {},
   "outputs": [
    {
     "data": {
      "text/plain": [
       "[[1, 2, 3], [8, 9, 4], [7, 6, 5]]"
      ]
     },
     "execution_count": 20,
     "metadata": {},
     "output_type": "execute_result"
    }
   ],
   "source": [
    "generateMatrix(n=3)"
   ]
  },
  {
   "cell_type": "code",
   "execution_count": 21,
   "id": "1c379a5d",
   "metadata": {},
   "outputs": [
    {
     "data": {
      "text/plain": [
       "[[1]]"
      ]
     },
     "execution_count": 21,
     "metadata": {},
     "output_type": "execute_result"
    }
   ],
   "source": [
    "generateMatrix(n=1)"
   ]
  },
  {
   "cell_type": "markdown",
   "id": "e77ccc16",
   "metadata": {},
   "source": [
    "#### Q8"
   ]
  },
  {
   "cell_type": "code",
   "execution_count": 22,
   "id": "c7286f44",
   "metadata": {},
   "outputs": [],
   "source": [
    "def multiply(mat1: list[list[int]], mat2: list[list[int]]) -> list[list[int]]:\n",
    "    m=len(mat1)#rows of matrix1\n",
    "    k=len(mat1[0])#column of matix 1==row of matrix2\n",
    "    n=len(mat2[0])#column of matix2\n",
    "    #zero matrix\n",
    "    matrix_mult=[[0]*n for i in range(m)]\n",
    "    \n",
    "    # iterate through rows of matrix1\n",
    "    for i in range(m):\n",
    "       # iterate through columns of matrix2\n",
    "        for j in range(n):\n",
    "           # iterate through rows of matrix2==col of matrix1\n",
    "            for z in range(k):\n",
    "                matrix_mult[i][j] += mat1[i][z] * mat2[z][j]\n",
    "    return matrix_mult"
   ]
  },
  {
   "cell_type": "code",
   "execution_count": 23,
   "id": "24c61845",
   "metadata": {},
   "outputs": [
    {
     "data": {
      "text/plain": [
       "[[7, 0, 0], [-7, 0, 3]]"
      ]
     },
     "execution_count": 23,
     "metadata": {},
     "output_type": "execute_result"
    }
   ],
   "source": [
    "multiply(mat1 = [[1,0,0],[-1,0,3]], mat2 = [[7,0,0],[0,0,0],[0,0,1]])"
   ]
  },
  {
   "cell_type": "code",
   "execution_count": 24,
   "id": "2ed255fe",
   "metadata": {},
   "outputs": [
    {
     "data": {
      "text/plain": [
       "[[0]]"
      ]
     },
     "execution_count": 24,
     "metadata": {},
     "output_type": "execute_result"
    }
   ],
   "source": [
    "multiply(mat1 = [[0]], mat2 = [[0]])"
   ]
  },
  {
   "cell_type": "code",
   "execution_count": null,
   "id": "e92f80de",
   "metadata": {},
   "outputs": [],
   "source": []
  }
 ],
 "metadata": {
  "kernelspec": {
   "display_name": "Python 3 (ipykernel)",
   "language": "python",
   "name": "python3"
  },
  "language_info": {
   "codemirror_mode": {
    "name": "ipython",
    "version": 3
   },
   "file_extension": ".py",
   "mimetype": "text/x-python",
   "name": "python",
   "nbconvert_exporter": "python",
   "pygments_lexer": "ipython3",
   "version": "3.9.13"
  }
 },
 "nbformat": 4,
 "nbformat_minor": 5
}
