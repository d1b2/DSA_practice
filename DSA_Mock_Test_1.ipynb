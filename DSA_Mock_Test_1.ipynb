{
 "cells": [
  {
   "cell_type": "markdown",
   "id": "22ab943e",
   "metadata": {},
   "source": [
    "Q1"
   ]
  },
  {
   "cell_type": "code",
   "execution_count": 1,
   "id": "6e47998e",
   "metadata": {},
   "outputs": [],
   "source": [
    "def moveZeroes(nums: list[int]) -> None:\n",
    "    zero_index=0\n",
    "    for i in range(len(nums)):\n",
    "        if nums[i]!=0:\n",
    "            nums[i],nums[zero_index]=nums[zero_index],nums[i]\n",
    "            zero_index+=1"
   ]
  },
  {
   "cell_type": "markdown",
   "id": "52a86e5d",
   "metadata": {},
   "source": [
    "Q2"
   ]
  },
  {
   "cell_type": "code",
   "execution_count": 9,
   "id": "77392625",
   "metadata": {},
   "outputs": [],
   "source": [
    "def firstUniqChar(s: str) -> int:\n",
    "    #create hashmap\n",
    "    hash_char={}\n",
    "    for i in s:\n",
    "        if i in hash_char:\n",
    "            hash_char[i]+=1\n",
    "        else:\n",
    "            hash_char[i]=1\n",
    "    #compare frequency of hashmap\n",
    "    for i in range(len(s)):\n",
    "        if hash_char[s[i]]==1:\n",
    "            return i\n",
    "    return -1\n",
    "\n",
    "            \n"
   ]
  },
  {
   "cell_type": "code",
   "execution_count": null,
   "id": "80b0b7a1",
   "metadata": {},
   "outputs": [],
   "source": []
  }
 ],
 "metadata": {
  "kernelspec": {
   "display_name": "Python 3 (ipykernel)",
   "language": "python",
   "name": "python3"
  },
  "language_info": {
   "codemirror_mode": {
    "name": "ipython",
    "version": 3
   },
   "file_extension": ".py",
   "mimetype": "text/x-python",
   "name": "python",
   "nbconvert_exporter": "python",
   "pygments_lexer": "ipython3",
   "version": "3.9.13"
  }
 },
 "nbformat": 4,
 "nbformat_minor": 5
}
