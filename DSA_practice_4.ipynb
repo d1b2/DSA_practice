{
 "cells": [
  {
   "cell_type": "code",
   "execution_count": null,
   "id": "69d1492a",
   "metadata": {},
   "outputs": [],
   "source": []
  },
  {
   "cell_type": "markdown",
   "id": "197e4554",
   "metadata": {},
   "source": [
    "#### Q1"
   ]
  },
  {
   "cell_type": "code",
   "execution_count": 1,
   "id": "21e70d69",
   "metadata": {},
   "outputs": [],
   "source": [
    "def common_3_array(arr1:list[int],arr2:list[int],arr3:list[int])->list[int]:\n",
    "    common=[]\n",
    "    for i in arr1:\n",
    "        if i in arr2 and i in arr3:\n",
    "            common.append(i)\n",
    "    return common"
   ]
  },
  {
   "cell_type": "code",
   "execution_count": 2,
   "id": "28b92c36",
   "metadata": {},
   "outputs": [
    {
     "data": {
      "text/plain": [
       "[1, 5]"
      ]
     },
     "execution_count": 2,
     "metadata": {},
     "output_type": "execute_result"
    }
   ],
   "source": [
    "arr1 = [1,2,3,4,5]\n",
    "arr2 = [1,2,5,7,9]\n",
    "arr3 = [1,3,4,5,8]\n",
    "common_3_array(arr1,arr2,arr3)"
   ]
  },
  {
   "cell_type": "code",
   "execution_count": 3,
   "id": "7ad9e5f9",
   "metadata": {},
   "outputs": [
    {
     "data": {
      "text/plain": [
       "[5]"
      ]
     },
     "execution_count": 3,
     "metadata": {},
     "output_type": "execute_result"
    }
   ],
   "source": [
    "arr1 = [0,2,3,4,5]\n",
    "arr2 = [1,2,5,7,9]\n",
    "arr3 = [1,3,4,5,8]\n",
    "common_3_array(arr1,arr2,arr3)"
   ]
  },
  {
   "cell_type": "markdown",
   "id": "1ff83257",
   "metadata": {},
   "source": [
    "#### Q2"
   ]
  },
  {
   "cell_type": "code",
   "execution_count": 4,
   "id": "f0366144",
   "metadata": {},
   "outputs": [],
   "source": [
    "def findDifference(nums1: list[int], nums2: list[int]) -> list[list[int]]:\n",
    "    diff1,diff2=[],[]\n",
    "    for i in nums1:\n",
    "        if i not in nums2 and i not in diff1:\n",
    "            diff1.append(i)\n",
    "    \n",
    "    for i in nums2:\n",
    "        if i not in nums1 and i not in diff2:\n",
    "            diff2.append(i)\n",
    "    return[diff1,diff2]"
   ]
  },
  {
   "cell_type": "code",
   "execution_count": 5,
   "id": "b061a947",
   "metadata": {},
   "outputs": [],
   "source": [
    "def findDifference( nums1: list[int], nums2: list[int]) -> list[list[int]]:\n",
    "    return [list(set(nums1)-set(nums2)),list(set(nums2)-set(nums1))]"
   ]
  },
  {
   "cell_type": "code",
   "execution_count": 6,
   "id": "9d797d85",
   "metadata": {},
   "outputs": [
    {
     "data": {
      "text/plain": [
       "[[1, 3], [4, 6]]"
      ]
     },
     "execution_count": 6,
     "metadata": {},
     "output_type": "execute_result"
    }
   ],
   "source": [
    "findDifference(nums1 = [1,2,3], nums2 = [2,4,6])"
   ]
  },
  {
   "cell_type": "code",
   "execution_count": 7,
   "id": "40d47cb1",
   "metadata": {},
   "outputs": [
    {
     "data": {
      "text/plain": [
       "[[3], []]"
      ]
     },
     "execution_count": 7,
     "metadata": {},
     "output_type": "execute_result"
    }
   ],
   "source": [
    "findDifference(nums1 = [1,2,3,3], nums2 = [1,1,2,2])"
   ]
  },
  {
   "cell_type": "code",
   "execution_count": null,
   "id": "47e28d1b",
   "metadata": {},
   "outputs": [],
   "source": []
  },
  {
   "cell_type": "markdown",
   "id": "953d9bcd",
   "metadata": {},
   "source": [
    "#### Q3"
   ]
  },
  {
   "cell_type": "code",
   "execution_count": 8,
   "id": "963db388",
   "metadata": {},
   "outputs": [],
   "source": [
    "\n",
    "    def transpose(self, matrix: list[list[int]]) -> list[list[int]]:\n",
    "        rows=len(matrix)\n",
    "        cols=len(matrix[0])\n",
    "\n",
    "        new_matrix=[[0]*rows for col in range(cols)]\n",
    "\n",
    "\n",
    "        for row in range(rows):\n",
    "            for col in range(cols):\n",
    "                new_matrix[col][row]=matrix[row][col]\n",
    "                \n",
    "                \n",
    "\n",
    "        return new_matrix"
   ]
  },
  {
   "cell_type": "code",
   "execution_count": 9,
   "id": "c1ccfb4e",
   "metadata": {},
   "outputs": [],
   "source": [
    "    def transpose(matrix: list[list[int]]) -> list[list[int]]:\n",
    "        rows=len(matrix)\n",
    "        cols=len(matrix[0])\n",
    "\n",
    "        new_matrix=[]\n",
    "\n",
    "\n",
    "        for col in range(cols):\n",
    "            temp=[]\n",
    "            for row in range(rows):\n",
    "                temp.append(matrix[row][col])\n",
    "            new_matrix.append(temp)\n",
    "                \n",
    "                \n",
    "\n",
    "        return new_matrix"
   ]
  },
  {
   "cell_type": "code",
   "execution_count": 10,
   "id": "d43f8f62",
   "metadata": {},
   "outputs": [
    {
     "data": {
      "text/plain": [
       "[[1, 4, 7], [2, 5, 8], [3, 6, 9]]"
      ]
     },
     "execution_count": 10,
     "metadata": {},
     "output_type": "execute_result"
    }
   ],
   "source": [
    "transpose(matrix = [[1,2,3],[4,5,6],[7,8,9]])"
   ]
  },
  {
   "cell_type": "code",
   "execution_count": 11,
   "id": "07d24398",
   "metadata": {},
   "outputs": [
    {
     "data": {
      "text/plain": [
       "[[1, 4], [2, 5], [3, 6]]"
      ]
     },
     "execution_count": 11,
     "metadata": {},
     "output_type": "execute_result"
    }
   ],
   "source": [
    "transpose(matrix = [[1,2,3],[4,5,6]])"
   ]
  },
  {
   "cell_type": "markdown",
   "id": "73ffe6bc",
   "metadata": {},
   "source": [
    "#### Q4"
   ]
  },
  {
   "cell_type": "code",
   "execution_count": 12,
   "id": "10e75c9c",
   "metadata": {},
   "outputs": [],
   "source": [
    "    def arrayPairSum(nums: list[int]) -> int:\n",
    "        nums.sort()\n",
    "        max_sum=0\n",
    "        n=len(nums)\n",
    "        for i in range(0,n,2):\n",
    "            max_sum+=min(nums[i],nums[i+1])\n",
    "        return max_sum"
   ]
  },
  {
   "cell_type": "code",
   "execution_count": 13,
   "id": "24c5d467",
   "metadata": {},
   "outputs": [
    {
     "data": {
      "text/plain": [
       "4"
      ]
     },
     "execution_count": 13,
     "metadata": {},
     "output_type": "execute_result"
    }
   ],
   "source": [
    "arrayPairSum(nums = [1,4,3,2])"
   ]
  },
  {
   "cell_type": "code",
   "execution_count": 14,
   "id": "2140dd0f",
   "metadata": {},
   "outputs": [
    {
     "data": {
      "text/plain": [
       "9"
      ]
     },
     "execution_count": 14,
     "metadata": {},
     "output_type": "execute_result"
    }
   ],
   "source": [
    "arrayPairSum(nums = [6,2,6,5,1,2])"
   ]
  },
  {
   "cell_type": "markdown",
   "id": "eb426812",
   "metadata": {},
   "source": [
    "#### Q5"
   ]
  },
  {
   "cell_type": "code",
   "execution_count": 15,
   "id": "cce063e6",
   "metadata": {},
   "outputs": [],
   "source": [
    "def arrangeCoins(n: int) -> int:\n",
    "    #using roots of quadractic equation\n",
    "        return int((-1+(1+8*n)**0.5)//2)"
   ]
  },
  {
   "cell_type": "code",
   "execution_count": 16,
   "id": "e46a26ce",
   "metadata": {},
   "outputs": [
    {
     "data": {
      "text/plain": [
       "1"
      ]
     },
     "execution_count": 16,
     "metadata": {},
     "output_type": "execute_result"
    }
   ],
   "source": [
    "arrangeCoins(n=2)"
   ]
  },
  {
   "cell_type": "code",
   "execution_count": 17,
   "id": "08eae0d6",
   "metadata": {},
   "outputs": [
    {
     "data": {
      "text/plain": [
       "3"
      ]
     },
     "execution_count": 17,
     "metadata": {},
     "output_type": "execute_result"
    }
   ],
   "source": [
    "arrangeCoins(n=8)"
   ]
  },
  {
   "cell_type": "markdown",
   "id": "8f1cf538",
   "metadata": {},
   "source": [
    "#### Q6"
   ]
  },
  {
   "cell_type": "code",
   "execution_count": 18,
   "id": "3a294611",
   "metadata": {},
   "outputs": [],
   "source": [
    "def sortedSquares( nums: list[int]) -> list[int]:\n",
    "    for i in range(len(nums)):\n",
    "        nums[i]=nums[i]*nums[i]\n",
    "    \n",
    "    nums.sort()\n",
    "    return nums"
   ]
  },
  {
   "cell_type": "code",
   "execution_count": 19,
   "id": "08e48a6b",
   "metadata": {},
   "outputs": [
    {
     "data": {
      "text/plain": [
       "[0, 1, 9, 16, 100]"
      ]
     },
     "execution_count": 19,
     "metadata": {},
     "output_type": "execute_result"
    }
   ],
   "source": [
    "sortedSquares(nums = [-4,-1,0,3,10])"
   ]
  },
  {
   "cell_type": "code",
   "execution_count": 20,
   "id": "b2a4ea0f",
   "metadata": {},
   "outputs": [
    {
     "data": {
      "text/plain": [
       "[4, 9, 9, 49, 121]"
      ]
     },
     "execution_count": 20,
     "metadata": {},
     "output_type": "execute_result"
    }
   ],
   "source": [
    "sortedSquares(nums = [-7,-3,2,3,11])"
   ]
  },
  {
   "cell_type": "markdown",
   "id": "695efcf6",
   "metadata": {},
   "source": [
    "#### Q7"
   ]
  },
  {
   "cell_type": "code",
   "execution_count": 21,
   "id": "79b0fd3d",
   "metadata": {},
   "outputs": [],
   "source": [
    "def maxCount(m: int, n: int, ops: list[list[int]]) -> int:\n",
    "    matrix=[[0]*n for i in range(m)]\n",
    "    for i in ops:\n",
    "        for r in range(i[0]):\n",
    "            for c in range (i[1]):\n",
    "                matrix[r][c]+=1\n",
    "    return matrix"
   ]
  },
  {
   "cell_type": "code",
   "execution_count": 22,
   "id": "54a61571",
   "metadata": {},
   "outputs": [
    {
     "data": {
      "text/plain": [
       "[[2, 2, 1], [2, 2, 1], [1, 1, 1]]"
      ]
     },
     "execution_count": 22,
     "metadata": {},
     "output_type": "execute_result"
    }
   ],
   "source": [
    "maxCount(m = 3, n = 3, ops = [[2,2],[3,3]])"
   ]
  },
  {
   "cell_type": "code",
   "execution_count": 23,
   "id": "1ea241a7",
   "metadata": {},
   "outputs": [],
   "source": [
    "def maxCount(m: int, n: int, ops: list[list[int]]) -> int:\n",
    "    matrix_len=m*n\n",
    "    if len(ops)==0:\n",
    "        return matrix_len\n",
    "        \n",
    "    min_r=m\n",
    "    min_c=n\n",
    "        \n",
    "    for i in ops:\n",
    "        min_r=min(min_r,i[0])\n",
    "        min_c=min(min_c,i[1])\n",
    "    return min_r*min_c"
   ]
  },
  {
   "cell_type": "code",
   "execution_count": 24,
   "id": "2af4b3d2",
   "metadata": {},
   "outputs": [
    {
     "data": {
      "text/plain": [
       "4"
      ]
     },
     "execution_count": 24,
     "metadata": {},
     "output_type": "execute_result"
    }
   ],
   "source": [
    "maxCount(m = 3, n = 3, ops = [[2,2],[3,3]])"
   ]
  },
  {
   "cell_type": "code",
   "execution_count": 25,
   "id": "8c233e75",
   "metadata": {},
   "outputs": [
    {
     "data": {
      "text/plain": [
       "4"
      ]
     },
     "execution_count": 25,
     "metadata": {},
     "output_type": "execute_result"
    }
   ],
   "source": [
    "m = 3\n",
    "n = 3\n",
    "ops = [[2,2],[3,3],[3,3],[3,3],[2,2],[3,3],[3,3],[3,3],[2,2],[3,3],[3,3],[3,3]]\n",
    "maxCount(m,n,ops)"
   ]
  },
  {
   "cell_type": "code",
   "execution_count": 26,
   "id": "3238c99b",
   "metadata": {},
   "outputs": [
    {
     "data": {
      "text/plain": [
       "9"
      ]
     },
     "execution_count": 26,
     "metadata": {},
     "output_type": "execute_result"
    }
   ],
   "source": [
    "maxCount(m = 3, n = 3, ops = [])"
   ]
  },
  {
   "cell_type": "markdown",
   "id": "8b321318",
   "metadata": {},
   "source": [
    "#### Q8"
   ]
  },
  {
   "cell_type": "code",
   "execution_count": 27,
   "id": "18b133fc",
   "metadata": {},
   "outputs": [],
   "source": [
    "def shuffle(nums: list[int], n: int) -> list[int]:\n",
    "    new_nums=[]\n",
    "    for i in range(0,n):\n",
    "            new_nums.append(nums[i])            \n",
    "            new_nums.append(nums[i+n])            \n",
    "    return new_nums"
   ]
  },
  {
   "cell_type": "code",
   "execution_count": 28,
   "id": "b6f6eec2",
   "metadata": {},
   "outputs": [
    {
     "data": {
      "text/plain": [
       "[2, 3, 5, 4, 1, 7]"
      ]
     },
     "execution_count": 28,
     "metadata": {},
     "output_type": "execute_result"
    }
   ],
   "source": [
    "shuffle(nums = [2,5,1,3,4,7], n = 3)"
   ]
  },
  {
   "cell_type": "code",
   "execution_count": 29,
   "id": "bc18cc5c",
   "metadata": {},
   "outputs": [
    {
     "data": {
      "text/plain": [
       "[1, 4, 2, 3, 3, 2, 4, 1]"
      ]
     },
     "execution_count": 29,
     "metadata": {},
     "output_type": "execute_result"
    }
   ],
   "source": [
    "shuffle(nums = [1,2,3,4,4,3,2,1], n = 4)"
   ]
  },
  {
   "cell_type": "code",
   "execution_count": null,
   "id": "a4fb599f",
   "metadata": {},
   "outputs": [],
   "source": []
  }
 ],
 "metadata": {
  "kernelspec": {
   "display_name": "Python 3 (ipykernel)",
   "language": "python",
   "name": "python3"
  },
  "language_info": {
   "codemirror_mode": {
    "name": "ipython",
    "version": 3
   },
   "file_extension": ".py",
   "mimetype": "text/x-python",
   "name": "python",
   "nbconvert_exporter": "python",
   "pygments_lexer": "ipython3",
   "version": "3.9.13"
  }
 },
 "nbformat": 4,
 "nbformat_minor": 5
}
