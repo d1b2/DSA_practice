{
 "cells": [
  {
   "cell_type": "code",
   "execution_count": null,
   "id": "5b7d7a47",
   "metadata": {},
   "outputs": [],
   "source": []
  },
  {
   "cell_type": "markdown",
   "id": "67219154",
   "metadata": {},
   "source": [
    "Q1"
   ]
  },
  {
   "cell_type": "code",
   "execution_count": 1,
   "id": "122c3d81",
   "metadata": {},
   "outputs": [],
   "source": [
    "def mySqrt(x: int) -> int:\n",
    "    #using binary search\n",
    "    left,right=1,x\n",
    "\n",
    "    while left<=right:\n",
    "        #find mid\n",
    "        mid=(left+right)//2\n",
    "        #compare squre of mid to x and update mide accordinly\n",
    "        if mid*mid==x:\n",
    "            return mid\n",
    "        if mid*mid>x:\n",
    "            right=mid-1\n",
    "        else:\n",
    "            left=mid+1\n",
    "    return right\n"
   ]
  },
  {
   "cell_type": "code",
   "execution_count": 2,
   "id": "abc36336",
   "metadata": {},
   "outputs": [
    {
     "data": {
      "text/plain": [
       "2"
      ]
     },
     "execution_count": 2,
     "metadata": {},
     "output_type": "execute_result"
    }
   ],
   "source": [
    "mySqrt(x = 4)"
   ]
  },
  {
   "cell_type": "code",
   "execution_count": 3,
   "id": "24624577",
   "metadata": {},
   "outputs": [
    {
     "data": {
      "text/plain": [
       "2"
      ]
     },
     "execution_count": 3,
     "metadata": {},
     "output_type": "execute_result"
    }
   ],
   "source": [
    "mySqrt(x = 8)"
   ]
  },
  {
   "cell_type": "markdown",
   "id": "45a732c8",
   "metadata": {},
   "source": [
    "Q2"
   ]
  },
  {
   "cell_type": "code",
   "execution_count": 4,
   "id": "4efdaaa6",
   "metadata": {},
   "outputs": [],
   "source": [
    "def findPeakElement(nums: list[int] )-> int:\n",
    "    #basic checks\n",
    "    if len(nums)==1 or nums[0]>nums[1]:\n",
    "        return 0\n",
    "    elif nums[-1]>nums[-2]:\n",
    "        return len(nums)-1\n",
    "    #two pointers\n",
    "    left=0\n",
    "    right=len(nums)-1\n",
    "    while left<=right:\n",
    "        mid=(left+right)//2 #find middle\n",
    " #if middle element is greater than both elements to its left and right then peak is mid\n",
    "        if nums[mid]>nums[mid+1] and nums[mid]>nums[mid-1]:\n",
    "            return mid\n",
    "        #if middle is greater than element to its right peak is in left half\n",
    "        elif nums[mid]>nums[mid+1]:\n",
    "            right=mid-1\n",
    "        else :\n",
    "            left=mid+1\n"
   ]
  },
  {
   "cell_type": "code",
   "execution_count": 5,
   "id": "20d00204",
   "metadata": {},
   "outputs": [
    {
     "data": {
      "text/plain": [
       "2"
      ]
     },
     "execution_count": 5,
     "metadata": {},
     "output_type": "execute_result"
    }
   ],
   "source": [
    "findPeakElement(nums = [1,2,3,1])"
   ]
  },
  {
   "cell_type": "code",
   "execution_count": 6,
   "id": "30eda7c2",
   "metadata": {},
   "outputs": [
    {
     "data": {
      "text/plain": [
       "5"
      ]
     },
     "execution_count": 6,
     "metadata": {},
     "output_type": "execute_result"
    }
   ],
   "source": [
    "findPeakElement(nums = [1,2,1,3,5,6,4])"
   ]
  },
  {
   "cell_type": "markdown",
   "id": "704dd9a5",
   "metadata": {},
   "source": [
    "Q3"
   ]
  },
  {
   "cell_type": "code",
   "execution_count": 7,
   "id": "f1bd22d4",
   "metadata": {},
   "outputs": [],
   "source": [
    "def missingNumber(nums: list[int]) -> int:\n",
    "    n=len(nums)\n",
    "    return (n*(n+1)//2)- sum(nums)"
   ]
  },
  {
   "cell_type": "code",
   "execution_count": 8,
   "id": "e53c06d9",
   "metadata": {},
   "outputs": [
    {
     "data": {
      "text/plain": [
       "2"
      ]
     },
     "execution_count": 8,
     "metadata": {},
     "output_type": "execute_result"
    }
   ],
   "source": [
    "missingNumber(nums = [3,0,1])"
   ]
  },
  {
   "cell_type": "code",
   "execution_count": 9,
   "id": "b475ef4b",
   "metadata": {},
   "outputs": [
    {
     "data": {
      "text/plain": [
       "8"
      ]
     },
     "execution_count": 9,
     "metadata": {},
     "output_type": "execute_result"
    }
   ],
   "source": [
    "missingNumber(nums = [9,6,4,2,3,5,7,0,1])"
   ]
  },
  {
   "cell_type": "code",
   "execution_count": 10,
   "id": "1815ba47",
   "metadata": {},
   "outputs": [
    {
     "data": {
      "text/plain": [
       "2"
      ]
     },
     "execution_count": 10,
     "metadata": {},
     "output_type": "execute_result"
    }
   ],
   "source": [
    "missingNumber(nums = [0,1])"
   ]
  },
  {
   "cell_type": "markdown",
   "id": "ef26fea5",
   "metadata": {},
   "source": [
    "Q4"
   ]
  },
  {
   "cell_type": "code",
   "execution_count": 11,
   "id": "76be6851",
   "metadata": {},
   "outputs": [],
   "source": [
    "def findDuplicate(nums: list[int]) -> int:\n",
    "    hmap={}\n",
    "    for i in range(len(nums)):\n",
    "        if nums[i] in hmap:\n",
    "            return nums[i]\n",
    "        else:\n",
    "            hmap[nums[i]]=1\n"
   ]
  },
  {
   "cell_type": "code",
   "execution_count": 12,
   "id": "a57148e1",
   "metadata": {},
   "outputs": [
    {
     "data": {
      "text/plain": [
       "2"
      ]
     },
     "execution_count": 12,
     "metadata": {},
     "output_type": "execute_result"
    }
   ],
   "source": [
    "findDuplicate(nums = [1,3,4,2,2])"
   ]
  },
  {
   "cell_type": "code",
   "execution_count": 13,
   "id": "cfea441f",
   "metadata": {},
   "outputs": [
    {
     "data": {
      "text/plain": [
       "3"
      ]
     },
     "execution_count": 13,
     "metadata": {},
     "output_type": "execute_result"
    }
   ],
   "source": [
    "findDuplicate(nums = [3,1,3,4,2])"
   ]
  },
  {
   "cell_type": "markdown",
   "id": "8072694e",
   "metadata": {},
   "source": [
    "Q5"
   ]
  },
  {
   "cell_type": "code",
   "execution_count": 14,
   "id": "14f5d3b9",
   "metadata": {},
   "outputs": [],
   "source": [
    "def intersect(nums1: list[int], nums2: list[int]) -> list[int]:\n",
    "    intersect=[]\n",
    "    hash2={}\n",
    "    for i in range(len(nums2)):\n",
    "        if nums2[i] in hash2:\n",
    "            hash2[nums2[i]]+=1\n",
    "        else:\n",
    "            hash2[nums2[i]]=1\n",
    "\n",
    "    for i in range(len(nums1)):\n",
    "        if nums1[i] in hash2 and hash2[nums1[i]]>0:\n",
    "            intersect.append(nums1[i])\n",
    "            hash2[nums1[i]]-=1\n",
    "\n",
    "    return intersect\n"
   ]
  },
  {
   "cell_type": "code",
   "execution_count": 15,
   "id": "6fe3712f",
   "metadata": {},
   "outputs": [
    {
     "data": {
      "text/plain": [
       "[2, 2]"
      ]
     },
     "execution_count": 15,
     "metadata": {},
     "output_type": "execute_result"
    }
   ],
   "source": [
    "intersect(nums1 = [1,2,2,1], nums2 = [2,2])"
   ]
  },
  {
   "cell_type": "code",
   "execution_count": 16,
   "id": "51d6cd3e",
   "metadata": {},
   "outputs": [
    {
     "data": {
      "text/plain": [
       "[4, 9]"
      ]
     },
     "execution_count": 16,
     "metadata": {},
     "output_type": "execute_result"
    }
   ],
   "source": [
    "intersect(nums1 = [4,9,5], nums2 = [9,4,9,8,4])"
   ]
  },
  {
   "cell_type": "markdown",
   "id": "b5b267ca",
   "metadata": {},
   "source": [
    "Q6"
   ]
  },
  {
   "cell_type": "code",
   "execution_count": 17,
   "id": "b537bf28",
   "metadata": {},
   "outputs": [],
   "source": [
    "def findMin(nums: list[int]) -> int:\n",
    "    n=len(nums)\n",
    "    #binary search \n",
    "    left,right=0,n-1\n",
    "    while left<right:\n",
    "        mid=(left+right)//2\n",
    "        if nums[left]==nums[mid]==nums[right]:#to handle duplicates\n",
    "            left+=1\n",
    "            right-=1\n",
    "        elif nums[mid]>nums[right]:#compare value at mid to last element\n",
    "            left=mid+1\n",
    "        else:\n",
    "            right=mid\n",
    "\n",
    "    return nums[left]"
   ]
  },
  {
   "cell_type": "code",
   "execution_count": 18,
   "id": "2e6fdf9f",
   "metadata": {},
   "outputs": [
    {
     "data": {
      "text/plain": [
       "0"
      ]
     },
     "execution_count": 18,
     "metadata": {},
     "output_type": "execute_result"
    }
   ],
   "source": [
    " findMin(nums = [0,1,2,4,5,6,7])"
   ]
  },
  {
   "cell_type": "code",
   "execution_count": 19,
   "id": "f46e574f",
   "metadata": {},
   "outputs": [
    {
     "data": {
      "text/plain": [
       "0"
      ]
     },
     "execution_count": 19,
     "metadata": {},
     "output_type": "execute_result"
    }
   ],
   "source": [
    "findMin([4,5,6,7,0,1,2])"
   ]
  },
  {
   "cell_type": "markdown",
   "id": "7d2b947e",
   "metadata": {},
   "source": [
    "Q7"
   ]
  },
  {
   "cell_type": "code",
   "execution_count": 20,
   "id": "ca74d797",
   "metadata": {},
   "outputs": [],
   "source": [
    "def searchRange(nums: list[int], target: int) -> list[int]:  \n",
    "        if target not in nums:\n",
    "            return [-1,-1]   \n",
    "        \n",
    "        return [nums.index(target),nums.index(target)+nums.count(target)-1]"
   ]
  },
  {
   "cell_type": "code",
   "execution_count": 21,
   "id": "02d4351f",
   "metadata": {},
   "outputs": [
    {
     "data": {
      "text/plain": [
       "[3, 4]"
      ]
     },
     "execution_count": 21,
     "metadata": {},
     "output_type": "execute_result"
    }
   ],
   "source": [
    "searchRange(nums = [5,7,7,8,8,10], target = 8)"
   ]
  },
  {
   "cell_type": "code",
   "execution_count": 22,
   "id": "3a4c624d",
   "metadata": {},
   "outputs": [
    {
     "data": {
      "text/plain": [
       "[-1, -1]"
      ]
     },
     "execution_count": 22,
     "metadata": {},
     "output_type": "execute_result"
    }
   ],
   "source": [
    "searchRange(nums = [5,7,7,8,8,10], target = 6)"
   ]
  },
  {
   "cell_type": "markdown",
   "id": "6360917d",
   "metadata": {},
   "source": [
    "Q8"
   ]
  },
  {
   "cell_type": "code",
   "execution_count": 23,
   "id": "ec010da1",
   "metadata": {},
   "outputs": [],
   "source": [
    "def intersect(nums1: list[int], nums2: list[int]) -> list[int]:\n",
    "    intersect=[]\n",
    "    hash2={}\n",
    "    for i in range(len(nums2)):\n",
    "        if nums2[i] in hash2:\n",
    "            hash2[nums2[i]]+=1\n",
    "        else:\n",
    "            hash2[nums2[i]]=1\n",
    "\n",
    "    for i in range(len(nums1)):\n",
    "        if nums1[i] in hash2 and hash2[nums1[i]]>0:\n",
    "            intersect.append(nums1[i])\n",
    "            hash2[nums1[i]]-=1\n",
    "\n",
    "    return intersect"
   ]
  },
  {
   "cell_type": "code",
   "execution_count": 24,
   "id": "43941b2e",
   "metadata": {},
   "outputs": [
    {
     "data": {
      "text/plain": [
       "[2, 2]"
      ]
     },
     "execution_count": 24,
     "metadata": {},
     "output_type": "execute_result"
    }
   ],
   "source": [
    "intersect(nums1 = [1,2,2,1], nums2 = [2,2])"
   ]
  },
  {
   "cell_type": "code",
   "execution_count": 25,
   "id": "746f6794",
   "metadata": {},
   "outputs": [
    {
     "data": {
      "text/plain": [
       "[4, 9]"
      ]
     },
     "execution_count": 25,
     "metadata": {},
     "output_type": "execute_result"
    }
   ],
   "source": [
    "intersect(nums1 = [4,9,5], nums2 = [9,4,9,8,4])"
   ]
  }
 ],
 "metadata": {
  "kernelspec": {
   "display_name": "Python 3 (ipykernel)",
   "language": "python",
   "name": "python3"
  },
  "language_info": {
   "codemirror_mode": {
    "name": "ipython",
    "version": 3
   },
   "file_extension": ".py",
   "mimetype": "text/x-python",
   "name": "python",
   "nbconvert_exporter": "python",
   "pygments_lexer": "ipython3",
   "version": "3.9.13"
  }
 },
 "nbformat": 4,
 "nbformat_minor": 5
}
