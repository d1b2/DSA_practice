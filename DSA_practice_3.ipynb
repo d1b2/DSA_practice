{
 "cells": [
  {
   "cell_type": "code",
   "execution_count": null,
   "id": "eaad4537",
   "metadata": {},
   "outputs": [],
   "source": []
  },
  {
   "cell_type": "markdown",
   "id": "ea9f2be2",
   "metadata": {},
   "source": [
    "#### Q1"
   ]
  },
  {
   "cell_type": "code",
   "execution_count": 1,
   "id": "a1097547",
   "metadata": {},
   "outputs": [],
   "source": [
    "def threeSumClosest( nums: list[int], target: int) -> int:\n",
    "        nums.sort()\n",
    "        closest_sum = float('inf')\n",
    "        for i in range(len(nums) - 2):\n",
    "            left = i + 1\n",
    "            right = len(nums) - 1\n",
    "            while left < right:\n",
    "                curr_sum = nums[i] + nums[left] + nums[right]\n",
    "                if abs(curr_sum - target) < abs(closest_sum - target):\n",
    "                    closest_sum = curr_sum\n",
    "                if curr_sum < target:\n",
    "                    left += 1\n",
    "                elif curr_sum > target:\n",
    "                    right -= 1\n",
    "                else:\n",
    "                    return curr_sum\n",
    "        return closest_sum"
   ]
  },
  {
   "cell_type": "code",
   "execution_count": 2,
   "id": "6689414c",
   "metadata": {},
   "outputs": [
    {
     "data": {
      "text/plain": [
       "1"
      ]
     },
     "execution_count": 2,
     "metadata": {},
     "output_type": "execute_result"
    }
   ],
   "source": [
    "nums = [-1,2,1,-4,1]\n",
    "target = 1\n",
    "threeSumClosest( nums, target)"
   ]
  },
  {
   "cell_type": "code",
   "execution_count": 3,
   "id": "904699af",
   "metadata": {},
   "outputs": [
    {
     "data": {
      "text/plain": [
       "2"
      ]
     },
     "execution_count": 3,
     "metadata": {},
     "output_type": "execute_result"
    }
   ],
   "source": [
    "nums = [-1,2,1,-4]\n",
    "target = 1\n",
    "threeSumClosest( nums, target)"
   ]
  },
  {
   "cell_type": "markdown",
   "id": "d2078aa7",
   "metadata": {},
   "source": [
    "#### Q2"
   ]
  },
  {
   "cell_type": "code",
   "execution_count": 4,
   "id": "f2ff1a85",
   "metadata": {},
   "outputs": [],
   "source": [
    "def fourSum( nums: list[int], target: int) -> list[list[int]]:\n",
    "    nums.sort()\n",
    "    sum_list=[]\n",
    "    \n",
    "    for i in range(len(nums)):\n",
    "        for j in range(i+1,len(nums)):\n",
    "            left = j + 1\n",
    "            right = len(nums) - 1\n",
    "            while left < right:\n",
    "                curr_sum = nums[i] + nums[j] + nums[left] + nums[right]\n",
    "                if curr_sum==target:\n",
    "                    if [nums[i],nums[j],nums[left],nums[right]] not in sum_list:\n",
    "                            sum_list.append([nums[i],nums[j],nums[left],nums[right]])\n",
    "                    \n",
    "                    left += 1\n",
    "                    right -= 1\n",
    "                    \n",
    "                elif curr_sum < target:\n",
    "                    left += 1\n",
    "                else :\n",
    "                    right -= 1\n",
    "    return sum_list   "
   ]
  },
  {
   "cell_type": "code",
   "execution_count": 5,
   "id": "2f9c61f6",
   "metadata": {},
   "outputs": [
    {
     "data": {
      "text/plain": [
       "[[2, 2, 2, 2]]"
      ]
     },
     "execution_count": 5,
     "metadata": {},
     "output_type": "execute_result"
    }
   ],
   "source": [
    "nums = [2,2,2,2,2]\n",
    "target = 8\n",
    "fourSum(nums, target)"
   ]
  },
  {
   "cell_type": "code",
   "execution_count": 6,
   "id": "629dc67e",
   "metadata": {},
   "outputs": [
    {
     "data": {
      "text/plain": [
       "[[-2, -1, 1, 2], [-2, 0, 0, 2], [-1, 0, 0, 1]]"
      ]
     },
     "execution_count": 6,
     "metadata": {},
     "output_type": "execute_result"
    }
   ],
   "source": [
    "nums = [1,0,-1,0,-2,2]\n",
    "target = 0\n",
    "fourSum(nums, target)"
   ]
  },
  {
   "cell_type": "markdown",
   "id": "e4541b3f",
   "metadata": {},
   "source": [
    "#### Q3"
   ]
  },
  {
   "cell_type": "code",
   "execution_count": 7,
   "id": "574f57f9",
   "metadata": {},
   "outputs": [],
   "source": [
    "def nextPermutation(nums: list[int]) -> None:\n",
    "        \n",
    "        i = j = len(nums)-1\n",
    "        \n",
    "        while i > 0 and nums[i-1] >= nums[i]:\n",
    "            i -= 1\n",
    "        #Case1 \n",
    "        if i == 0: \n",
    "            nums=nums[-1::-1]\n",
    "            return nums\n",
    "        # Case2\n",
    "        else:\n",
    "            while nums[j] <= nums[i-1]:\n",
    "                j -= 1\n",
    "       \n",
    "            # reverse two numbers\n",
    "            nums[i-1], nums[j] = nums[j], nums[i-1]\n",
    "\n",
    "            # reverse a nums from i to end\n",
    "            nums[i:]= nums[len(nums)-1:i-1:-1]\n",
    "            return nums"
   ]
  },
  {
   "cell_type": "code",
   "execution_count": 8,
   "id": "6b733296",
   "metadata": {},
   "outputs": [
    {
     "data": {
      "text/plain": [
       "[1, 5, 1]"
      ]
     },
     "execution_count": 8,
     "metadata": {},
     "output_type": "execute_result"
    }
   ],
   "source": [
    "nextPermutation(nums = [1,1,5])"
   ]
  },
  {
   "cell_type": "code",
   "execution_count": 9,
   "id": "e74ca217",
   "metadata": {},
   "outputs": [
    {
     "data": {
      "text/plain": [
       "[1, 2, 3]"
      ]
     },
     "execution_count": 9,
     "metadata": {},
     "output_type": "execute_result"
    }
   ],
   "source": [
    "nextPermutation(nums = [3,2,1])"
   ]
  },
  {
   "cell_type": "markdown",
   "id": "55dcfb86",
   "metadata": {},
   "source": [
    "#### Q4"
   ]
  },
  {
   "cell_type": "code",
   "execution_count": 10,
   "id": "a6d205eb",
   "metadata": {},
   "outputs": [],
   "source": [
    "    def searchInsert( nums: list[int], target: int) -> int:\n",
    "        counter=0\n",
    "        for i in range(len(nums)):\n",
    "            if nums[i]>=target:\n",
    "                return counter\n",
    "            counter+=1"
   ]
  },
  {
   "cell_type": "code",
   "execution_count": 11,
   "id": "b8b466ab",
   "metadata": {},
   "outputs": [
    {
     "data": {
      "text/plain": [
       "2"
      ]
     },
     "execution_count": 11,
     "metadata": {},
     "output_type": "execute_result"
    }
   ],
   "source": [
    "nums = [1,3,5,6]\n",
    "target = 5 \n",
    "searchInsert(nums, target)"
   ]
  },
  {
   "cell_type": "code",
   "execution_count": 12,
   "id": "2e04e4cd",
   "metadata": {},
   "outputs": [
    {
     "data": {
      "text/plain": [
       "1"
      ]
     },
     "execution_count": 12,
     "metadata": {},
     "output_type": "execute_result"
    }
   ],
   "source": [
    "searchInsert(nums = [1,3,5,6], target = 2)"
   ]
  },
  {
   "cell_type": "markdown",
   "id": "d3479d1d",
   "metadata": {},
   "source": [
    "#### Q5"
   ]
  },
  {
   "cell_type": "code",
   "execution_count": 13,
   "id": "38c18838",
   "metadata": {},
   "outputs": [],
   "source": [
    "    def plusOne(digits: list[int]) -> list[int]:\n",
    "        strdigits=[str(i) for i in digits]    \n",
    "        number=int(\"\".join(strdigits))+1\n",
    "        numdigits=[int(i) for i in str(number)]\n",
    "        return numdigits"
   ]
  },
  {
   "cell_type": "code",
   "execution_count": 14,
   "id": "577c628a",
   "metadata": {},
   "outputs": [
    {
     "data": {
      "text/plain": [
       "[1, 2, 4]"
      ]
     },
     "execution_count": 14,
     "metadata": {},
     "output_type": "execute_result"
    }
   ],
   "source": [
    "digits = [1,2,3]\n",
    "plusOne(digits)"
   ]
  },
  {
   "cell_type": "code",
   "execution_count": 15,
   "id": "f5c4b034",
   "metadata": {},
   "outputs": [
    {
     "data": {
      "text/plain": [
       "[1, 0]"
      ]
     },
     "execution_count": 15,
     "metadata": {},
     "output_type": "execute_result"
    }
   ],
   "source": [
    "digits = [9]\n",
    "plusOne(digits)"
   ]
  },
  {
   "cell_type": "markdown",
   "id": "794b8884",
   "metadata": {},
   "source": [
    "#### Q6"
   ]
  },
  {
   "cell_type": "code",
   "execution_count": 16,
   "id": "ede0b959",
   "metadata": {},
   "outputs": [],
   "source": [
    "def singleNumber(nums: list[int]) -> int:\n",
    "    num_map={}\n",
    "    for i in nums:\n",
    "        if i in num_map:\n",
    "            num_map[i]+=1\n",
    "        else:\n",
    "            num_map[i]=1\n",
    "    \n",
    "    for i in num_map:\n",
    "        if num_map[i]!=2:\n",
    "            return i\n",
    "        "
   ]
  },
  {
   "cell_type": "code",
   "execution_count": 17,
   "id": "e53c800c",
   "metadata": {},
   "outputs": [],
   "source": [
    "def singleNumber( nums: list[int]) -> int:\n",
    "    xor = 0\n",
    "    for num in nums:\n",
    "        xor = xor ^ num\n",
    "    return xor"
   ]
  },
  {
   "cell_type": "code",
   "execution_count": 18,
   "id": "8442830c",
   "metadata": {},
   "outputs": [
    {
     "data": {
      "text/plain": [
       "4"
      ]
     },
     "execution_count": 18,
     "metadata": {},
     "output_type": "execute_result"
    }
   ],
   "source": [
    "nums = [4,1,2,1,2]\n",
    "singleNumber(nums) "
   ]
  },
  {
   "cell_type": "code",
   "execution_count": 19,
   "id": "2e10fb43",
   "metadata": {},
   "outputs": [
    {
     "data": {
      "text/plain": [
       "1"
      ]
     },
     "execution_count": 19,
     "metadata": {},
     "output_type": "execute_result"
    }
   ],
   "source": [
    "nums = [2,2,1]\n",
    "singleNumber(nums) "
   ]
  },
  {
   "cell_type": "markdown",
   "id": "751c201e",
   "metadata": {},
   "source": [
    "#### Q7"
   ]
  },
  {
   "cell_type": "code",
   "execution_count": 20,
   "id": "75bb91cf",
   "metadata": {},
   "outputs": [],
   "source": [
    "def findMissingRanges( nums, lower, upper):\n",
    "    mis_range=[]\n",
    "    for i in range(1,len(nums)):\n",
    "        if nums[i]<upper and nums[i-1]>lower:\n",
    "            if nums[i]-1!=nums[i-1]:\n",
    "                mis_range.append([nums[i-1]+1,nums[i]-1])\n",
    "    return mis_range\n",
    "                "
   ]
  },
  {
   "cell_type": "code",
   "execution_count": 21,
   "id": "fa6fdc16",
   "metadata": {},
   "outputs": [
    {
     "data": {
      "text/plain": [
       "[[2, 2], [4, 49], [51, 74]]"
      ]
     },
     "execution_count": 21,
     "metadata": {},
     "output_type": "execute_result"
    }
   ],
   "source": [
    "findMissingRanges(nums = [0,1,3,50,75], lower = 0, upper = 99)"
   ]
  },
  {
   "cell_type": "code",
   "execution_count": 22,
   "id": "773047f8",
   "metadata": {},
   "outputs": [
    {
     "data": {
      "text/plain": [
       "[]"
      ]
     },
     "execution_count": 22,
     "metadata": {},
     "output_type": "execute_result"
    }
   ],
   "source": [
    "findMissingRanges(nums = [-1], lower = -1, upper = -1)"
   ]
  },
  {
   "cell_type": "markdown",
   "id": "7f6ad5bd",
   "metadata": {},
   "source": [
    "#### Q8"
   ]
  },
  {
   "cell_type": "code",
   "execution_count": 23,
   "id": "a87aa2b4",
   "metadata": {},
   "outputs": [],
   "source": [
    "def attend_meetings(intervals):\n",
    "    intervals = sorted(intervals, key=lambda x: x[0])\n",
    "    if not intervals or len(intervals) == 1:\n",
    "        return True\n",
    "    intervals = sorted(intervals, key=lambda x: x[0])\n",
    "    for i in range(1,len(intervals)):\n",
    "        if intervals[i-1][1]> intervals[i][0] or intervals[i][0]==intervals[i-1][0]:\n",
    "            return False\n",
    "    return True"
   ]
  },
  {
   "cell_type": "code",
   "execution_count": 24,
   "id": "fbe1bafd",
   "metadata": {},
   "outputs": [
    {
     "data": {
      "text/plain": [
       "True"
      ]
     },
     "execution_count": 24,
     "metadata": {},
     "output_type": "execute_result"
    }
   ],
   "source": [
    "attend_meetings(intervals = [[1,3],[4,6],[8,10],[15,18]])"
   ]
  },
  {
   "cell_type": "code",
   "execution_count": 25,
   "id": "5dd28062",
   "metadata": {},
   "outputs": [
    {
     "data": {
      "text/plain": [
       "False"
      ]
     },
     "execution_count": 25,
     "metadata": {},
     "output_type": "execute_result"
    }
   ],
   "source": [
    "attend_meetings(intervals = [[0,30],[5,10],[15,20]])"
   ]
  },
  {
   "cell_type": "code",
   "execution_count": null,
   "id": "f88dc323",
   "metadata": {},
   "outputs": [],
   "source": []
  }
 ],
 "metadata": {
  "kernelspec": {
   "display_name": "Python 3 (ipykernel)",
   "language": "python",
   "name": "python3"
  },
  "language_info": {
   "codemirror_mode": {
    "name": "ipython",
    "version": 3
   },
   "file_extension": ".py",
   "mimetype": "text/x-python",
   "name": "python",
   "nbconvert_exporter": "python",
   "pygments_lexer": "ipython3",
   "version": "3.9.13"
  }
 },
 "nbformat": 4,
 "nbformat_minor": 5
}
