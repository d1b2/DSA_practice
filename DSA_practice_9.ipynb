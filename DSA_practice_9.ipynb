{
 "cells": [
  {
   "cell_type": "code",
   "execution_count": null,
   "id": "04517f60",
   "metadata": {},
   "outputs": [],
   "source": []
  },
  {
   "cell_type": "markdown",
   "id": "6f45ad86",
   "metadata": {},
   "source": [
    "#### Q1"
   ]
  },
  {
   "cell_type": "code",
   "execution_count": 1,
   "id": "e8a5c7a7",
   "metadata": {},
   "outputs": [],
   "source": [
    "def isPowerOfTwo(n: int) -> bool:\n",
    "    if n<=0:\n",
    "        return False    \n",
    "    elif n==1:\n",
    "        return True\n",
    "    elif n%2==0:\n",
    "        return isPowerOfTwo(n/2)\n",
    "    else:\n",
    "        return False"
   ]
  },
  {
   "cell_type": "code",
   "execution_count": 2,
   "id": "cf96d02e",
   "metadata": {},
   "outputs": [
    {
     "data": {
      "text/plain": [
       "True"
      ]
     },
     "execution_count": 2,
     "metadata": {},
     "output_type": "execute_result"
    }
   ],
   "source": [
    "isPowerOfTwo(n = 1)"
   ]
  },
  {
   "cell_type": "code",
   "execution_count": 3,
   "id": "0a30ce4e",
   "metadata": {},
   "outputs": [
    {
     "data": {
      "text/plain": [
       "False"
      ]
     },
     "execution_count": 3,
     "metadata": {},
     "output_type": "execute_result"
    }
   ],
   "source": [
    "isPowerOfTwo(n = 14)"
   ]
  },
  {
   "cell_type": "markdown",
   "id": "2366d6ca",
   "metadata": {},
   "source": [
    "#### Q2"
   ]
  },
  {
   "cell_type": "code",
   "execution_count": 4,
   "id": "7be24160",
   "metadata": {},
   "outputs": [],
   "source": [
    "def sum_natural_no(n: int)-> int:\n",
    "    if n<=0:\n",
    "        return None\n",
    "    elif n==1:\n",
    "        return 1\n",
    "    else:\n",
    "        return n + sum_natural_no(n-1) "
   ]
  },
  {
   "cell_type": "code",
   "execution_count": 5,
   "id": "8a962a3d",
   "metadata": {},
   "outputs": [
    {
     "data": {
      "text/plain": [
       "6"
      ]
     },
     "execution_count": 5,
     "metadata": {},
     "output_type": "execute_result"
    }
   ],
   "source": [
    "sum_natural_no(n = 3)"
   ]
  },
  {
   "cell_type": "code",
   "execution_count": 6,
   "id": "2e5facff",
   "metadata": {},
   "outputs": [
    {
     "data": {
      "text/plain": [
       "15"
      ]
     },
     "execution_count": 6,
     "metadata": {},
     "output_type": "execute_result"
    }
   ],
   "source": [
    "sum_natural_no(n = 5)"
   ]
  },
  {
   "cell_type": "markdown",
   "id": "1524f2be",
   "metadata": {},
   "source": [
    "#### Q3"
   ]
  },
  {
   "cell_type": "code",
   "execution_count": 7,
   "id": "52eb9dc1",
   "metadata": {},
   "outputs": [],
   "source": [
    "def pos_factorial(N: int)-> int:\n",
    "    if N<=1:\n",
    "        return 1\n",
    "    else:\n",
    "        return N*pos_factorial(N-1)"
   ]
  },
  {
   "cell_type": "code",
   "execution_count": 8,
   "id": "6e16c1f3",
   "metadata": {},
   "outputs": [
    {
     "data": {
      "text/plain": [
       "120"
      ]
     },
     "execution_count": 8,
     "metadata": {},
     "output_type": "execute_result"
    }
   ],
   "source": [
    "pos_factorial(N = 5)"
   ]
  },
  {
   "cell_type": "code",
   "execution_count": 9,
   "id": "893b0bbc",
   "metadata": {},
   "outputs": [
    {
     "data": {
      "text/plain": [
       "24"
      ]
     },
     "execution_count": 9,
     "metadata": {},
     "output_type": "execute_result"
    }
   ],
   "source": [
    "pos_factorial(N = 4)"
   ]
  },
  {
   "cell_type": "markdown",
   "id": "e47e3ecc",
   "metadata": {},
   "source": [
    "#### Q4"
   ]
  },
  {
   "cell_type": "code",
   "execution_count": 10,
   "id": "859fd00a",
   "metadata": {},
   "outputs": [],
   "source": [
    "def exponent(N:int,P:int) :\n",
    "    if N==0:\n",
    "        return None\n",
    "    elif N==1 or P==0:\n",
    "        return 1\n",
    "    elif P>0:\n",
    "        return N * exponent(N,P-1)\n",
    "    else:\n",
    "        return (1/N)*exponent(N,P+1)"
   ]
  },
  {
   "cell_type": "code",
   "execution_count": 11,
   "id": "6e9c3f25",
   "metadata": {},
   "outputs": [
    {
     "data": {
      "text/plain": [
       "25"
      ]
     },
     "execution_count": 11,
     "metadata": {},
     "output_type": "execute_result"
    }
   ],
   "source": [
    "exponent(N = 5, P = 2)"
   ]
  },
  {
   "cell_type": "code",
   "execution_count": 12,
   "id": "3de730f4",
   "metadata": {},
   "outputs": [
    {
     "data": {
      "text/plain": [
       "32"
      ]
     },
     "execution_count": 12,
     "metadata": {},
     "output_type": "execute_result"
    }
   ],
   "source": [
    " exponent(N = 2, P = 5)"
   ]
  },
  {
   "cell_type": "code",
   "execution_count": 13,
   "id": "dcaec8ec",
   "metadata": {},
   "outputs": [
    {
     "data": {
      "text/plain": [
       "0.03125"
      ]
     },
     "execution_count": 13,
     "metadata": {},
     "output_type": "execute_result"
    }
   ],
   "source": [
    " exponent(N = 2, P = -5)"
   ]
  },
  {
   "cell_type": "code",
   "execution_count": 14,
   "id": "29ba9b54",
   "metadata": {},
   "outputs": [
    {
     "data": {
      "text/plain": [
       "-0.03125"
      ]
     },
     "execution_count": 14,
     "metadata": {},
     "output_type": "execute_result"
    }
   ],
   "source": [
    " exponent(N = -2, P = -5)"
   ]
  },
  {
   "cell_type": "code",
   "execution_count": 15,
   "id": "e81c4aa4",
   "metadata": {},
   "outputs": [],
   "source": [
    " exponent(N = 0, P = -5)"
   ]
  },
  {
   "cell_type": "code",
   "execution_count": null,
   "id": "a1c673c8",
   "metadata": {},
   "outputs": [],
   "source": []
  },
  {
   "cell_type": "markdown",
   "id": "b0ed8be8",
   "metadata": {},
   "source": [
    "#### Q5"
   ]
  },
  {
   "cell_type": "code",
   "execution_count": 16,
   "id": "bd89f885",
   "metadata": {},
   "outputs": [],
   "source": [
    "def arr_max(arr:list[int])->int:\n",
    "    if len(arr)==0:\n",
    "        return 0\n",
    "    else:\n",
    "        return max(arr[0],arr_max(arr[1:]))\n",
    "        "
   ]
  },
  {
   "cell_type": "code",
   "execution_count": 17,
   "id": "10b05858",
   "metadata": {},
   "outputs": [
    {
     "data": {
      "text/plain": [
       "8"
      ]
     },
     "execution_count": 17,
     "metadata": {},
     "output_type": "execute_result"
    }
   ],
   "source": [
    "arr_max(arr = [1, 4, 3, -5,  8,-4, 6])"
   ]
  },
  {
   "cell_type": "code",
   "execution_count": 18,
   "id": "5754066a",
   "metadata": {},
   "outputs": [
    {
     "data": {
      "text/plain": [
       "45"
      ]
     },
     "execution_count": 18,
     "metadata": {},
     "output_type": "execute_result"
    }
   ],
   "source": [
    "arr_max(arr=[1, 4, 45, 6, 10, -8])"
   ]
  },
  {
   "cell_type": "markdown",
   "id": "49f35e35",
   "metadata": {},
   "source": [
    "#### Q6"
   ]
  },
  {
   "cell_type": "code",
   "execution_count": 19,
   "id": "bd8fb7c4",
   "metadata": {},
   "outputs": [],
   "source": [
    "def ap(a,d,N):\n",
    "    if N<=0 or d==0:\n",
    "        return a\n",
    "    elif N==1 :\n",
    "        return a\n",
    "    else:\n",
    "        return d + ap(a,d,N-1)"
   ]
  },
  {
   "cell_type": "code",
   "execution_count": 20,
   "id": "572174dc",
   "metadata": {},
   "outputs": [
    {
     "data": {
      "text/plain": [
       "6"
      ]
     },
     "execution_count": 20,
     "metadata": {},
     "output_type": "execute_result"
    }
   ],
   "source": [
    "ap(a = 2, d = 1, N = 5)"
   ]
  },
  {
   "cell_type": "code",
   "execution_count": 21,
   "id": "d67c28e9",
   "metadata": {},
   "outputs": [
    {
     "data": {
      "text/plain": [
       "2"
      ]
     },
     "execution_count": 21,
     "metadata": {},
     "output_type": "execute_result"
    }
   ],
   "source": [
    "ap(a = 2, d = 1, N = 0)"
   ]
  },
  {
   "cell_type": "code",
   "execution_count": 22,
   "id": "cbd0a9c6",
   "metadata": {},
   "outputs": [
    {
     "data": {
      "text/plain": [
       "23"
      ]
     },
     "execution_count": 22,
     "metadata": {},
     "output_type": "execute_result"
    }
   ],
   "source": [
    "ap(a = 5, d = 2, N = 10)"
   ]
  },
  {
   "cell_type": "markdown",
   "id": "5c7c829f",
   "metadata": {},
   "source": [
    "#### Q7"
   ]
  },
  {
   "cell_type": "code",
   "execution_count": 23,
   "id": "23220355",
   "metadata": {},
   "outputs": [],
   "source": [
    "from itertools import permutations\n",
    "\n",
    "def permute(s:str)->None:\n",
    "    s=list(s)\n",
    "    n=len(s)\n",
    "    permutes=permutations(s,n)\n",
    "    for i in permutes:\n",
    "        print(\"\".join(i))\n",
    "        "
   ]
  },
  {
   "cell_type": "code",
   "execution_count": 24,
   "id": "ad66cdee",
   "metadata": {},
   "outputs": [
    {
     "name": "stdout",
     "output_type": "stream",
     "text": [
      "ABC\n",
      "ACB\n",
      "BAC\n",
      "BCA\n",
      "CAB\n",
      "CBA\n"
     ]
    }
   ],
   "source": [
    "permute(\"ABC\")"
   ]
  },
  {
   "cell_type": "code",
   "execution_count": 25,
   "id": "75923734",
   "metadata": {},
   "outputs": [
    {
     "name": "stdout",
     "output_type": "stream",
     "text": [
      "XY\n",
      "YX\n"
     ]
    }
   ],
   "source": [
    "permute(\"XY\")"
   ]
  },
  {
   "cell_type": "markdown",
   "id": "8df69c29",
   "metadata": {},
   "source": [
    "#### Q8"
   ]
  },
  {
   "cell_type": "code",
   "execution_count": 26,
   "id": "e1883785",
   "metadata": {},
   "outputs": [],
   "source": [
    "def array_product(arr:list[int]) -> int:\n",
    "    if len(arr)==0:\n",
    "        return 0\n",
    "    elif len(arr)==1:\n",
    "        return arr[0]\n",
    "    else:\n",
    "        return arr[0]*array_product(arr[1:])"
   ]
  },
  {
   "cell_type": "code",
   "execution_count": 27,
   "id": "5ddf5279",
   "metadata": {},
   "outputs": [
    {
     "data": {
      "text/plain": [
       "120"
      ]
     },
     "execution_count": 27,
     "metadata": {},
     "output_type": "execute_result"
    }
   ],
   "source": [
    "array_product(arr = [1, 2, 3, 4, 5])"
   ]
  },
  {
   "cell_type": "code",
   "execution_count": 28,
   "id": "ca020ce6",
   "metadata": {},
   "outputs": [
    {
     "data": {
      "text/plain": [
       "18"
      ]
     },
     "execution_count": 28,
     "metadata": {},
     "output_type": "execute_result"
    }
   ],
   "source": [
    "array_product(arr = [1, 6, 3])"
   ]
  },
  {
   "cell_type": "code",
   "execution_count": null,
   "id": "cab01813",
   "metadata": {},
   "outputs": [],
   "source": []
  }
 ],
 "metadata": {
  "kernelspec": {
   "display_name": "Python 3 (ipykernel)",
   "language": "python",
   "name": "python3"
  },
  "language_info": {
   "codemirror_mode": {
    "name": "ipython",
    "version": 3
   },
   "file_extension": ".py",
   "mimetype": "text/x-python",
   "name": "python",
   "nbconvert_exporter": "python",
   "pygments_lexer": "ipython3",
   "version": "3.9.13"
  }
 },
 "nbformat": 4,
 "nbformat_minor": 5
}
