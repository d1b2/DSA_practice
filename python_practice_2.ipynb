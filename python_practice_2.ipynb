{
 "cells": [
  {
   "cell_type": "code",
   "execution_count": 1,
   "id": "3de2745d",
   "metadata": {},
   "outputs": [],
   "source": [
    "import pandas as pd\n",
    "import numpy as np\n",
    "from scipy import stats"
   ]
  },
  {
   "cell_type": "markdown",
   "id": "9359ed55",
   "metadata": {},
   "source": [
    "Q1"
   ]
  },
  {
   "cell_type": "code",
   "execution_count": 2,
   "id": "91dd2002",
   "metadata": {},
   "outputs": [
    {
     "name": "stdout",
     "output_type": "stream",
     "text": [
      "Mean of Region A: 11.8\n",
      "Mean of Region B: 20.2\n"
     ]
    }
   ],
   "source": [
    "Region_A= [10, 15, 12, 8, 14]\n",
    "Region_B=[18, 20, 16, 22, 25]\n",
    "\n",
    "print(f'Mean of Region A: {np.mean(Region_A)}')\n",
    "print(f'Mean of Region B: {np.mean(Region_B)}')"
   ]
  },
  {
   "cell_type": "markdown",
   "id": "89b518b8",
   "metadata": {},
   "source": [
    "Q2"
   ]
  },
  {
   "cell_type": "code",
   "execution_count": 3,
   "id": "c2a363a2",
   "metadata": {},
   "outputs": [
    {
     "data": {
      "text/plain": [
       "ModeResult(mode=4, count=3)"
      ]
     },
     "execution_count": 3,
     "metadata": {},
     "output_type": "execute_result"
    }
   ],
   "source": [
    "survey_responses=[4, 5, 2, 3, 5, 4, 3, 2, 4, 5]\n",
    "stats.mode(survey_responses,keepdims=False)"
   ]
  },
  {
   "cell_type": "markdown",
   "id": "773960dd",
   "metadata": {},
   "source": [
    "Q3"
   ]
  },
  {
   "cell_type": "code",
   "execution_count": 4,
   "id": "fe7cd878",
   "metadata": {},
   "outputs": [
    {
     "name": "stdout",
     "output_type": "stream",
     "text": [
      "Median of Department A: 5750.0\n",
      "Median of Department B: 5500.0\n"
     ]
    }
   ],
   "source": [
    "Department_A = [5000, 6000, 5500, 7000]\n",
    "Department_B = [4500, 5500, 5800, 6000, 5200]\n",
    "print(f'Median of Department A: {np.median(Department_A)}')\n",
    "print(f'Median of Department B: {np.median(Department_B)}')"
   ]
  },
  {
   "cell_type": "markdown",
   "id": "a6b734cc",
   "metadata": {},
   "source": [
    "Q4"
   ]
  },
  {
   "cell_type": "code",
   "execution_count": 5,
   "id": "cc618f08",
   "metadata": {},
   "outputs": [
    {
     "data": {
      "text/plain": [
       "1.3000000000000007"
      ]
     },
     "execution_count": 5,
     "metadata": {},
     "output_type": "execute_result"
    }
   ],
   "source": [
    "stock_price=[25.5, 24.8, 26.1, 25.3, 24.9]\n",
    "np.ptp(stock_price)"
   ]
  },
  {
   "cell_type": "markdown",
   "id": "1432750b",
   "metadata": {},
   "source": [
    "Q5"
   ]
  },
  {
   "cell_type": "code",
   "execution_count": 6,
   "id": "22e12999",
   "metadata": {},
   "outputs": [
    {
     "name": "stdout",
     "output_type": "stream",
     "text": [
      "6.160000000000001 6.160000000000001\n"
     ]
    }
   ],
   "source": [
    "Group_A = [85, 90, 92, 88, 91]\n",
    "Group_B = [82, 88, 90, 86, 87]\n",
    "\n",
    "print(np.var(Group_A), np.var(Group_A))"
   ]
  },
  {
   "cell_type": "code",
   "execution_count": 7,
   "id": "e8489107",
   "metadata": {},
   "outputs": [
    {
     "data": {
      "text/plain": [
       "Ttest_indResult(statistic=0.0, pvalue=1.0)"
      ]
     },
     "execution_count": 7,
     "metadata": {},
     "output_type": "execute_result"
    }
   ],
   "source": [
    "#equal variance since ration is less than 4:1\n",
    "stats.ttest_ind(a=Group_A, b=Group_A, equal_var=True)"
   ]
  },
  {
   "cell_type": "markdown",
   "id": "202f9ac1",
   "metadata": {},
   "source": [
    "Q6"
   ]
  },
  {
   "cell_type": "code",
   "execution_count": 8,
   "id": "2d4edba2",
   "metadata": {},
   "outputs": [
    {
     "data": {
      "text/plain": [
       "0.8757511375750132"
      ]
     },
     "execution_count": 8,
     "metadata": {},
     "output_type": "execute_result"
    }
   ],
   "source": [
    "Advertising_Expenditure= [10, 15, 12, 8, 14]\n",
    "Sales= [25, 30, 28, 20, 26]\n",
    "np.corrcoef(Advertising_Expenditure, Sales)[0][1]"
   ]
  },
  {
   "cell_type": "markdown",
   "id": "d1496954",
   "metadata": {},
   "source": [
    "Q7"
   ]
  },
  {
   "cell_type": "code",
   "execution_count": 9,
   "id": "d0b4d7b6",
   "metadata": {},
   "outputs": [
    {
     "data": {
      "text/plain": [
       "7.953949089757174"
      ]
     },
     "execution_count": 9,
     "metadata": {},
     "output_type": "execute_result"
    }
   ],
   "source": [
    "height=[160, 170, 165, 155, 175, 180, 170]\n",
    "np.std(height)"
   ]
  },
  {
   "cell_type": "markdown",
   "id": "1b9b05c5",
   "metadata": {},
   "source": [
    "Q8"
   ]
  },
  {
   "cell_type": "code",
   "execution_count": 10,
   "id": "36f43a4b",
   "metadata": {},
   "outputs": [
    {
     "data": {
      "text/plain": [
       "LinregressResult(slope=-0.4680851063829787, intercept=8.595744680851062, rvalue=-0.520573376708331, pvalue=0.23095550952297988, stderr=0.34333860006713723, intercept_stderr=1.3610370716357003)"
      ]
     },
     "execution_count": 10,
     "metadata": {},
     "output_type": "execute_result"
    }
   ],
   "source": [
    "Employee_Tenure = [2, 3, 5, 4, 6, 2, 4]\n",
    "Job_Satisfaction = [7, 8, 6, 9, 5, 7, 6]\n",
    "\n",
    "stats.linregress(Employee_Tenure, Job_Satisfaction)"
   ]
  },
  {
   "cell_type": "markdown",
   "id": "aa7441d9",
   "metadata": {},
   "source": [
    "Q9"
   ]
  },
  {
   "cell_type": "code",
   "execution_count": 11,
   "id": "9e329147",
   "metadata": {},
   "outputs": [
    {
     "data": {
      "text/plain": [
       "F_onewayResult(statistic=16.0, pvalue=0.003949772803445326)"
      ]
     },
     "execution_count": 11,
     "metadata": {},
     "output_type": "execute_result"
    }
   ],
   "source": [
    "Medication_A = [10, 12, 14, 11, 13]\n",
    "Medication_B = [15, 17, 16, 14, 18]\n",
    "stats.f_oneway(Medication_A,Medication_B)"
   ]
  },
  {
   "cell_type": "markdown",
   "id": "793862f3",
   "metadata": {},
   "source": [
    "Q10"
   ]
  },
  {
   "cell_type": "code",
   "execution_count": 12,
   "id": "7658f15e",
   "metadata": {},
   "outputs": [
    {
     "data": {
      "text/plain": [
       "8.75"
      ]
     },
     "execution_count": 12,
     "metadata": {},
     "output_type": "execute_result"
    }
   ],
   "source": [
    "rating=[8, 9, 7, 6, 8, 10, 9, 8, 7, 8]\n",
    "np.percentile(rating, 75)\n",
    "#np.quantile(rating, 0.75)"
   ]
  },
  {
   "cell_type": "markdown",
   "id": "e2ce3e04",
   "metadata": {},
   "source": [
    "Q11"
   ]
  },
  {
   "cell_type": "code",
   "execution_count": 13,
   "id": "62d163e4",
   "metadata": {},
   "outputs": [
    {
     "data": {
      "text/plain": [
       "Ttest_1sampResult(statistic=1.5126584522688367, pvalue=0.19077595151110102)"
      ]
     },
     "execution_count": 13,
     "metadata": {},
     "output_type": "execute_result"
    }
   ],
   "source": [
    "weights=[10.2, 9.8, 10.0, 10.5, 10.3, 10.1]\n",
    "stats.ttest_1samp(weights, 10)"
   ]
  },
  {
   "cell_type": "markdown",
   "id": "c5da5720",
   "metadata": {},
   "source": [
    "Q12"
   ]
  },
  {
   "cell_type": "code",
   "execution_count": 14,
   "id": "b37c447c",
   "metadata": {},
   "outputs": [],
   "source": [
    "Design_A = [100, 120, 110, 90, 95]\n",
    "Design_B = [80, 85, 90, 95, 100]\n",
    "table = np.array([Design_A, Design_B])\n",
    "statistics,p_val=stats.chi2_contingency(table)[:2]"
   ]
  },
  {
   "cell_type": "markdown",
   "id": "bfb998e5",
   "metadata": {},
   "source": [
    "Q13"
   ]
  },
  {
   "cell_type": "code",
   "execution_count": 15,
   "id": "33410e79",
   "metadata": {},
   "outputs": [
    {
     "name": "stderr",
     "output_type": "stream",
     "text": [
      "C:\\Users\\HP\\anaconda3\\lib\\site-packages\\scipy\\stats\\_stats_py.py:1769: UserWarning: kurtosistest only valid for n>=20 ... continuing anyway, n=10\n",
      "  warnings.warn(\"kurtosistest only valid for n>=20 ... continuing \"\n"
     ]
    },
    {
     "data": {
      "text/plain": [
       "NormaltestResult(statistic=0.13598162315527224, pvalue=0.9342690579964812)"
      ]
     },
     "execution_count": 15,
     "metadata": {},
     "output_type": "execute_result"
    }
   ],
   "source": [
    "cust_satisfaction=[7, 9, 6, 8, 10, 7, 8, 9, 7, 8]\n",
    "#stats.t.interval(confidence=0.95,args1=cust_satisfaction)\n",
    "stats.normaltest(cust_satisfaction)"
   ]
  },
  {
   "cell_type": "code",
   "execution_count": 16,
   "id": "b5c4b232",
   "metadata": {},
   "outputs": [
    {
     "data": {
      "text/plain": [
       "(7.157969611381835, 8.642030388618165)"
      ]
     },
     "execution_count": 16,
     "metadata": {},
     "output_type": "execute_result"
    }
   ],
   "source": [
    "stats.norm.interval(confidence=0.95, loc=np.mean(cust_satisfaction), scale=stats.sem(cust_satisfaction))"
   ]
  },
  {
   "cell_type": "code",
   "execution_count": 17,
   "id": "a69295e8",
   "metadata": {},
   "outputs": [
    {
     "data": {
      "text/plain": [
       "(7.043561120599888, 8.756438879400113)"
      ]
     },
     "execution_count": 17,
     "metadata": {},
     "output_type": "execute_result"
    }
   ],
   "source": [
    "stats.t.interval(confidence=0.95, df=len(cust_satisfaction)-1, loc=np.mean(cust_satisfaction), scale=stats.sem(cust_satisfaction))"
   ]
  },
  {
   "cell_type": "markdown",
   "id": "d2688708",
   "metadata": {},
   "source": [
    "Q14"
   ]
  },
  {
   "cell_type": "code",
   "execution_count": 18,
   "id": "2e551c4d",
   "metadata": {},
   "outputs": [
    {
     "data": {
      "text/plain": [
       "LinregressResult(slope=0.5, intercept=-2.9000000000000004, rvalue=0.6933752452815364, pvalue=0.19417134561205843, stderr=0.30000000000000004, intercept_stderr=6.314269553954757)"
      ]
     },
     "execution_count": 18,
     "metadata": {},
     "output_type": "execute_result"
    }
   ],
   "source": [
    "Temperature = [20, 22, 23, 19, 21]\n",
    "Performance = [8, 7, 9, 6, 8]\n",
    "stats.linregress(Temperature, Performance)"
   ]
  },
  {
   "cell_type": "markdown",
   "id": "d7ef7b84",
   "metadata": {},
   "source": [
    "Q15"
   ]
  },
  {
   "cell_type": "code",
   "execution_count": 19,
   "id": "2383b110",
   "metadata": {},
   "outputs": [
    {
     "data": {
      "text/plain": [
       "MannwhitneyuResult(statistic=17.0, pvalue=0.42063492063492064)"
      ]
     },
     "execution_count": 19,
     "metadata": {},
     "output_type": "execute_result"
    }
   ],
   "source": [
    "Group_A= [4, 3, 5, 2, 4]\n",
    "Group_B= [3, 2, 4, 3, 3]\n",
    "\n",
    "stats.mannwhitneyu(Group_A, Group_B,method=\"exact\")"
   ]
  },
  {
   "cell_type": "markdown",
   "id": "055b030f",
   "metadata": {},
   "source": [
    "Q16"
   ]
  },
  {
   "cell_type": "code",
   "execution_count": 20,
   "id": "d74af10a",
   "metadata": {},
   "outputs": [
    {
     "data": {
      "text/plain": [
       "22.5"
      ]
     },
     "execution_count": 20,
     "metadata": {},
     "output_type": "execute_result"
    }
   ],
   "source": [
    "ages=[25, 30, 35, 40, 45, 50, 55, 60, 65, 70]\n",
    "stats.iqr(ages)"
   ]
  },
  {
   "cell_type": "markdown",
   "id": "e0c309e2",
   "metadata": {},
   "source": [
    "Q17"
   ]
  },
  {
   "cell_type": "code",
   "execution_count": 21,
   "id": "d419ed13",
   "metadata": {},
   "outputs": [
    {
     "data": {
      "text/plain": [
       "KruskalResult(statistic=9.696947935368053, pvalue=0.007840333026249539)"
      ]
     },
     "execution_count": 21,
     "metadata": {},
     "output_type": "execute_result"
    }
   ],
   "source": [
    "Algorithm_A= [0.85, 0.80, 0.82, 0.87, 0.83]\n",
    "Algorithm_B= [0.78, 0.82, 0.84, 0.80, 0.79]\n",
    "Algorithm_C= [0.90, 0.88, 0.89, 0.86, 0.87]\n",
    "\n",
    "stats.kruskal(Algorithm_A, Algorithm_B, Algorithm_C)"
   ]
  },
  {
   "cell_type": "markdown",
   "id": "495174c0",
   "metadata": {},
   "source": [
    "Q18"
   ]
  },
  {
   "cell_type": "code",
   "execution_count": 22,
   "id": "347c0201",
   "metadata": {},
   "outputs": [
    {
     "data": {
      "text/plain": [
       "LinregressResult(slope=-3.506097560975609, intercept=136.3719512195122, rvalue=-0.8979991308594848, pvalue=0.03850178234753776, stderr=0.9918303504036147, intercept_stderr=11.976120462509561)"
      ]
     },
     "execution_count": 22,
     "metadata": {},
     "output_type": "execute_result"
    }
   ],
   "source": [
    "Price = [10, 15, 12, 8, 14]\n",
    "Sales = [100, 80, 90, 110, 95]\n",
    "stats.linregress(Price, Sales)"
   ]
  },
  {
   "cell_type": "markdown",
   "id": "e7afc9ea",
   "metadata": {},
   "source": [
    "Q19"
   ]
  },
  {
   "cell_type": "code",
   "execution_count": 23,
   "id": "e9203b90",
   "metadata": {},
   "outputs": [
    {
     "data": {
      "text/plain": [
       "0.30550504633038933"
      ]
     },
     "execution_count": 23,
     "metadata": {},
     "output_type": "execute_result"
    }
   ],
   "source": [
    "satisfaction=[7, 8, 9, 6, 8, 7, 9, 7, 8, 7]\n",
    "stats.sem(satisfaction)"
   ]
  },
  {
   "cell_type": "markdown",
   "id": "8cfadafb",
   "metadata": {},
   "source": [
    "Q20"
   ]
  },
  {
   "cell_type": "code",
   "execution_count": 24,
   "id": "578f4ecf",
   "metadata": {},
   "outputs": [
    {
     "data": {
      "text/plain": [
       "LinregressResult(slope=1.1524390243902436, intercept=12.201219512195125, rvalue=0.8757511375750133, pvalue=0.051583194188217135, stderr=0.3667840473337744, intercept_stderr=4.428831939664429)"
      ]
     },
     "execution_count": 24,
     "metadata": {},
     "output_type": "execute_result"
    }
   ],
   "source": [
    "Advertising_Expenditure = [10, 15, 12, 8, 14]\n",
    "Sales = [25, 30, 28, 20, 26]\n",
    "stats.linregress(Advertising_Expenditure, Sales)"
   ]
  },
  {
   "cell_type": "code",
   "execution_count": null,
   "id": "d1e68736",
   "metadata": {},
   "outputs": [],
   "source": []
  }
 ],
 "metadata": {
  "kernelspec": {
   "display_name": "Python 3 (ipykernel)",
   "language": "python",
   "name": "python3"
  },
  "language_info": {
   "codemirror_mode": {
    "name": "ipython",
    "version": 3
   },
   "file_extension": ".py",
   "mimetype": "text/x-python",
   "name": "python",
   "nbconvert_exporter": "python",
   "pygments_lexer": "ipython3",
   "version": "3.9.13"
  }
 },
 "nbformat": 4,
 "nbformat_minor": 5
}
