{
 "cells": [
  {
   "cell_type": "markdown",
   "id": "f898bc2d",
   "metadata": {},
   "source": [
    "Q1"
   ]
  },
  {
   "cell_type": "code",
   "execution_count": 1,
   "id": "a079acda",
   "metadata": {},
   "outputs": [],
   "source": [
    "    def removeLoop(head):        \n",
    "         #slow fast pointer\n",
    "        slow = past = head\n",
    "        # Run a loop until fast and fast.next is equal to null\n",
    "        while fast and fast.next:\n",
    "            # Moving slow by 1 & fast by 2\n",
    "            slow = slow.next\n",
    "            fast=fast.next.next\n",
    "            # found the cycle.\n",
    "            if slow == fast: \n",
    "                break\n",
    "        # In case there is no cycle or no meeting point\n",
    "        if (fast is None or fast.next is None) :\n",
    "            return 0\n",
    "        #make slow equal to head\n",
    "        slow=head\n",
    "        # run loop until again slow.next & fast.next don't collab.\n",
    "        while fast.next != slow.next:\n",
    "            # Moving slow and fast by 1.\n",
    "            slow = slow.next\n",
    "            fast = fast.next\n",
    "        #unlink fast .next\n",
    "        fast.next=None\n",
    "        return 1"
   ]
  },
  {
   "cell_type": "markdown",
   "id": "e4cfea5e",
   "metadata": {},
   "source": [
    "Q2"
   ]
  },
  {
   "cell_type": "code",
   "execution_count": 3,
   "id": "f178ae00",
   "metadata": {},
   "outputs": [],
   "source": [
    "    #Task1 : reverse linked list\n",
    "    #Task2: add one to head of reversed list\n",
    "    #Task3: update carry for next calculation\n",
    "    #Task4: if last node's value is greater than 9 then create new node with value of carry\n",
    "    #Task5: reverse list again and return it\n",
    "    def reverseList(head):\n",
    "        if head is None:\n",
    "            return head\n",
    "        \n",
    "        current = head\n",
    "        previous = None\n",
    "        \n",
    "        while current is not None:\n",
    "            temp = current.next\n",
    "            current.next = previous\n",
    "            previous = current\n",
    "            current = temp\n",
    "        \n",
    "        return previous\n",
    "    \n",
    "    \n",
    "    def addOne(head):\n",
    " \n",
    "        # Task1\n",
    "        head = reverseList(head)\n",
    "\n",
    "        k = head\n",
    "        carry = 0\n",
    "        prev = None\n",
    "        #Task2\n",
    "        head.data += 1\n",
    "\n",
    "        # Task3\n",
    "        while(head != None) and (head.data > 9 or carry > 0):\n",
    "            prev = head\n",
    "            head.data += carry\n",
    "            carry = head.data // 10\n",
    "            head.data = head.data % 10\n",
    "            head = head.next\n",
    "         #Task 4\n",
    "        if carry > 0:\n",
    "            prev.next = Node(carry)\n",
    "        # Task5\n",
    "        return reverseList(k)"
   ]
  },
  {
   "cell_type": "markdown",
   "id": "6473862f",
   "metadata": {},
   "source": [
    "Q5"
   ]
  },
  {
   "cell_type": "code",
   "execution_count": 4,
   "id": "8017d951",
   "metadata": {},
   "outputs": [],
   "source": [
    "def oddEvenList(head):\n",
    "        # basic checks\n",
    "        if head==None or head.next==None:\n",
    "            return head\n",
    "        # 2 pointer approach\n",
    "        odd=head\n",
    "        even=head.next\n",
    "        head2=head.next#this pointer stores head of even linked list\n",
    "        \n",
    "        \n",
    "        while odd!=None and odd.next!=None and even!=None and even.next!=None :\n",
    "            #traversing odd nodes\n",
    "            odd.next=odd.next.next\n",
    "            odd=odd.next\n",
    "\n",
    "            #traversing even nodes \n",
    "            even.next=even.next.next\n",
    "            even=even.next         \n",
    "                    \n",
    "        #connecting both odd and even   \n",
    "        odd.next=head2\n",
    "        \n",
    "        return head"
   ]
  },
  {
   "cell_type": "markdown",
   "id": "47a60455",
   "metadata": {},
   "source": [
    "Q6"
   ]
  },
  {
   "cell_type": "code",
   "execution_count": 5,
   "id": "acc7b5f1",
   "metadata": {},
   "outputs": [],
   "source": [
    "    def rotate(head, k):\n",
    "        # basic checks\n",
    "        if head==None or head.next==None or k==0:\n",
    "            return head\n",
    "       \n",
    "        curr = head           \n",
    "        # traverse linked list k times\n",
    "        while k>0 or curr!=None or curr.next!=None:\n",
    "            curr=curr.next\n",
    "            k-=1\n",
    "        #condition k==length of linked list\n",
    "        if curr.next==None:\n",
    "            return head\n",
    "        \n",
    "        curr3=curr.next #store next pointer of current\n",
    "        curr2=curr.next # this stores head of curr3 linked list\n",
    "        curr.next=None #make next pointer of current none\n",
    "        \n",
    "        #traverse linked list length of linked list-k times\n",
    "        while curr3!=None and curr3.next!=None:\n",
    "            curr3=curr3.next\n",
    "        \n",
    "        curr3.next=head #make next pointer of curr3 to head of original linke list\n",
    "        #return head of curr3\n",
    "        return curr2"
   ]
  },
  {
   "cell_type": "markdown",
   "id": "c8a94532",
   "metadata": {},
   "source": [
    "Q7"
   ]
  },
  {
   "cell_type": "code",
   "execution_count": 6,
   "id": "03da4abc",
   "metadata": {},
   "outputs": [],
   "source": [
    "    def nextLargerNodes(head) -> list[int]:\n",
    "        l1=[]\n",
    "        #task 1 get all values in list\n",
    "        while head:\n",
    "            l1.append(head.val)\n",
    "            head = head.next\n",
    "        #task2 create list of zeros with length =length of linked list\n",
    "        l2 =[0]*(len(l1))\n",
    "        #stack to append the index-value and the node value\n",
    "        stack=[]\n",
    "        \n",
    "        for i in range(len(l1)):\n",
    "            \n",
    "            while stack and l1[stack[-1]] <  l1[i]:\n",
    "                l2[stack.pop()] = l1[i]\n",
    "            stack.append(i)\n",
    "            \n",
    "        return l2"
   ]
  },
  {
   "cell_type": "markdown",
   "id": "45ab7973",
   "metadata": {},
   "source": [
    "Q8"
   ]
  },
  {
   "cell_type": "code",
   "execution_count": 7,
   "id": "8c6a24ca",
   "metadata": {},
   "outputs": [],
   "source": [
    "    def removeZeroSumSublists(head) :\n",
    "        #create dummy node with value 0 pointing to current head\n",
    "        dummy = ListNode(0, head)\n",
    "        #dict saving node and prefix sum\n",
    "        d = {0: dummy}\n",
    "        \n",
    "        prefix_sum = 0\n",
    "        while head:\n",
    "            prefix_sum += head.val\n",
    "            d[prefix_sum] = head\n",
    "            head = head.next\n",
    "            \n",
    "        head = dummy\n",
    "        prefix_sum = 0\n",
    "        \n",
    "        while head:\n",
    "            prefix_sum += head.val\n",
    "            head.next = d[prefix_sum].next\n",
    "            head = head.next\n",
    "            \n",
    "        return dummy.next"
   ]
  },
  {
   "cell_type": "code",
   "execution_count": null,
   "id": "d34299fd",
   "metadata": {},
   "outputs": [],
   "source": []
  }
 ],
 "metadata": {
  "kernelspec": {
   "display_name": "Python 3 (ipykernel)",
   "language": "python",
   "name": "python3"
  },
  "language_info": {
   "codemirror_mode": {
    "name": "ipython",
    "version": 3
   },
   "file_extension": ".py",
   "mimetype": "text/x-python",
   "name": "python",
   "nbconvert_exporter": "python",
   "pygments_lexer": "ipython3",
   "version": "3.9.13"
  }
 },
 "nbformat": 4,
 "nbformat_minor": 5
}
