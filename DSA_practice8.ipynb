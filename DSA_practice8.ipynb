{
 "cells": [
  {
   "cell_type": "code",
   "execution_count": null,
   "id": "6818ce15",
   "metadata": {},
   "outputs": [],
   "source": []
  },
  {
   "cell_type": "markdown",
   "id": "af5de658",
   "metadata": {},
   "source": [
    "#### Q1"
   ]
  },
  {
   "cell_type": "code",
   "execution_count": 1,
   "id": "a819bbec",
   "metadata": {},
   "outputs": [],
   "source": [
    "def minimumDeleteSum(s1: str, s2: str) -> int:        \n",
    "        m=len(s1)\n",
    "        n=len(s2)\n",
    "        #2d array to store result of subproblems\n",
    "        dp=[[0]*(n+1) for i in range(m+1)]\n",
    "        \n",
    "        #first row of 2d array\n",
    "        for i in range(n):\n",
    "            dp[0][i+1]=ord(s2[i]) + dp[0][i]\n",
    "        \n",
    "        #first column of 2d array\n",
    "        for i in range(m):\n",
    "            dp[i+1][0] = ord(s1[i]) + dp[i][0]\n",
    "            \n",
    "        #iterating through other elements of 2d array\n",
    "        for i in range(1, m+1):\n",
    "            for j in range(1, n+1):\n",
    "                if ord(s1[i-1])==ord(s2[j-1]):\n",
    "                    dp[i][j]=dp[i-1][j-1]\n",
    "                else:\n",
    "                    dp[i][j]=min(dp[i-1][j]+ord(s1[i-1]),dp[i][j-1]+ord(s2[j-1]))\n",
    "\n",
    "        \n",
    "        return dp[m][n]"
   ]
  },
  {
   "cell_type": "code",
   "execution_count": 2,
   "id": "18d5d84b",
   "metadata": {},
   "outputs": [
    {
     "data": {
      "text/plain": [
       "115"
      ]
     },
     "execution_count": 2,
     "metadata": {},
     "output_type": "execute_result"
    }
   ],
   "source": [
    "minimumDeleteSum(s1 = \"sea\", s2 = \"ea\")"
   ]
  },
  {
   "cell_type": "code",
   "execution_count": 3,
   "id": "7a3a2e71",
   "metadata": {},
   "outputs": [
    {
     "data": {
      "text/plain": [
       "403"
      ]
     },
     "execution_count": 3,
     "metadata": {},
     "output_type": "execute_result"
    }
   ],
   "source": [
    "minimumDeleteSum(s1 = \"delete\", s2 = \"leet\")"
   ]
  },
  {
   "cell_type": "markdown",
   "id": "011a9d38",
   "metadata": {},
   "source": [
    "#### Q2"
   ]
  },
  {
   "cell_type": "code",
   "execution_count": 4,
   "id": "e83b2ac4",
   "metadata": {},
   "outputs": [],
   "source": [
    "def checkValidString(s: str) -> bool:\n",
    "    left,right,star=0,0,0\n",
    "    for i in s:\n",
    "        if i=='(':\n",
    "            left+=1\n",
    "            right-=1\n",
    "        elif i==')':\n",
    "            right+=1\n",
    "            left-=1\n",
    "        else:\n",
    "            star+=1\n",
    "    \n",
    "    if left==right and left==0:\n",
    "        return True\n",
    "    elif (abs(left)+abs(right)+star)%3 ==0:\n",
    "        return True\n",
    "    else: return False\n",
    "    "
   ]
  },
  {
   "cell_type": "code",
   "execution_count": 5,
   "id": "79432b59",
   "metadata": {},
   "outputs": [
    {
     "data": {
      "text/plain": [
       "True"
      ]
     },
     "execution_count": 5,
     "metadata": {},
     "output_type": "execute_result"
    }
   ],
   "source": [
    "checkValidString(s = \"()\")"
   ]
  },
  {
   "cell_type": "code",
   "execution_count": 6,
   "id": "3a0693a4",
   "metadata": {},
   "outputs": [
    {
     "data": {
      "text/plain": [
       "True"
      ]
     },
     "execution_count": 6,
     "metadata": {},
     "output_type": "execute_result"
    }
   ],
   "source": [
    "checkValidString(s = \"(*)\")"
   ]
  },
  {
   "cell_type": "code",
   "execution_count": 7,
   "id": "0c128011",
   "metadata": {},
   "outputs": [
    {
     "data": {
      "text/plain": [
       "True"
      ]
     },
     "execution_count": 7,
     "metadata": {},
     "output_type": "execute_result"
    }
   ],
   "source": [
    "checkValidString(s =\"(*))\")"
   ]
  },
  {
   "cell_type": "code",
   "execution_count": 8,
   "id": "886e3659",
   "metadata": {},
   "outputs": [
    {
     "data": {
      "text/plain": [
       "False"
      ]
     },
     "execution_count": 8,
     "metadata": {},
     "output_type": "execute_result"
    }
   ],
   "source": [
    "checkValidString(s =\"(((((*)))**\")"
   ]
  },
  {
   "cell_type": "code",
   "execution_count": null,
   "id": "e61b98b1",
   "metadata": {},
   "outputs": [],
   "source": []
  },
  {
   "cell_type": "markdown",
   "id": "b573b9b7",
   "metadata": {},
   "source": [
    "#### Q3"
   ]
  },
  {
   "cell_type": "code",
   "execution_count": 9,
   "id": "8ec5e4a4",
   "metadata": {},
   "outputs": [],
   "source": [
    "def minDistance( word1: str, word2: str) -> int:\n",
    "        m, n = len(word1), len(word2)\n",
    "        dp = [[0] * (n + 1) for i in range(m + 1)]\n",
    "        \n",
    "        # fill in the dp array with frequency of common characters\n",
    "        for i in range(1, m + 1):\n",
    "            for j in range(1, n + 1):\n",
    "                if word1[i - 1] == word2[j - 1]:\n",
    "                    dp[i][j] = dp[i - 1][j - 1] + 1\n",
    "                else:\n",
    "                    dp[i][j] = max(dp[i - 1][j], dp[i][j - 1])\n",
    "                    \n",
    "        #dp[m][n] will give common characters in both words\n",
    "        #but requirement is to get minumn no deletion\n",
    "        #length of word1-common characters +lengtht of words2 - common characters\n",
    "        #which becomes following\n",
    "        return m + n - 2 * dp[m][n]"
   ]
  },
  {
   "cell_type": "code",
   "execution_count": 10,
   "id": "20b50174",
   "metadata": {},
   "outputs": [
    {
     "data": {
      "text/plain": [
       "2"
      ]
     },
     "execution_count": 10,
     "metadata": {},
     "output_type": "execute_result"
    }
   ],
   "source": [
    "minDistance(word1 = \"sea\", word2 = \"eat\")"
   ]
  },
  {
   "cell_type": "code",
   "execution_count": 11,
   "id": "83450491",
   "metadata": {},
   "outputs": [
    {
     "data": {
      "text/plain": [
       "4"
      ]
     },
     "execution_count": 11,
     "metadata": {},
     "output_type": "execute_result"
    }
   ],
   "source": [
    "minDistance(word1 = \"leetcode\", word2 = \"etco\")"
   ]
  },
  {
   "cell_type": "code",
   "execution_count": null,
   "id": "8fcf7f9e",
   "metadata": {},
   "outputs": [],
   "source": []
  },
  {
   "cell_type": "markdown",
   "id": "da2a4453",
   "metadata": {},
   "source": [
    "#### Q5"
   ]
  },
  {
   "cell_type": "code",
   "execution_count": 12,
   "id": "0b23e569",
   "metadata": {},
   "outputs": [],
   "source": [
    " def compress(chars: list[str]) -> int:\n",
    "    #empty list and counter for counting groups\n",
    "        group=[]\n",
    "        c=1\n",
    "        for i in range(1,len(chars)):\n",
    "            if chars[i]==chars[i-1]:\n",
    "                c+=1\n",
    "            else:\n",
    "                group.append([chars[i-1],c])\n",
    "                c=1\n",
    "        group.append([chars[-1],c]) \n",
    "        \n",
    "        #clearing chars list\n",
    "        chars.clear()\n",
    "        for i in  group:\n",
    "            # rule 1:If the group's length is 1, append the character to list\n",
    "            if i[1]==1:\n",
    "                chars.append(i[0])\n",
    "            # rule 2: Append the character followed by the group's length    \n",
    "            elif i[1]>1 and i[1]<10:\n",
    "                chars.append(i[0])\n",
    "                chars.append(str(i[1]))\n",
    "            #rule3: Group lengths that are 10 or longer will be split into multiple characters in chars\n",
    "            else:\n",
    "                chars.append(i[0])\n",
    "                for j in str(i[1]):\n",
    "                    chars.append(str(j))\n",
    "        return len(chars)  "
   ]
  },
  {
   "cell_type": "code",
   "execution_count": 13,
   "id": "c2fafee1",
   "metadata": {},
   "outputs": [
    {
     "data": {
      "text/plain": [
       "6"
      ]
     },
     "execution_count": 13,
     "metadata": {},
     "output_type": "execute_result"
    }
   ],
   "source": [
    "compress(chars= [\"a\",\"a\",\"b\",\"b\",\"c\",\"c\",\"c\"])"
   ]
  },
  {
   "cell_type": "code",
   "execution_count": 14,
   "id": "f359ed17",
   "metadata": {},
   "outputs": [
    {
     "data": {
      "text/plain": [
       "4"
      ]
     },
     "execution_count": 14,
     "metadata": {},
     "output_type": "execute_result"
    }
   ],
   "source": [
    "compress(chars =[\"a\",\"b\",\"b\",\"b\",\"b\",\"b\",\"b\",\"b\",\"b\",\"b\",\"b\",\"b\",\"b\"])"
   ]
  },
  {
   "cell_type": "markdown",
   "id": "8f3e8df4",
   "metadata": {},
   "source": [
    "#### Q6"
   ]
  },
  {
   "cell_type": "code",
   "execution_count": 15,
   "id": "f8c7892e",
   "metadata": {},
   "outputs": [],
   "source": [
    "def findAnagrams(s: str, p: str) -> list[int]:\n",
    "    l_index=[]\n",
    "    p_sorted=sorted(list(p))\n",
    "    \n",
    "    for i in range(len(s)):\n",
    "        end=i+len(p)\n",
    "        s1=sorted(list(s[i:end]))\n",
    "        if s1==p_sorted:\n",
    "            l_index.append(i)\n",
    "\n",
    "    \n",
    "    return l_index"
   ]
  },
  {
   "cell_type": "code",
   "execution_count": 16,
   "id": "4dafacb1",
   "metadata": {},
   "outputs": [
    {
     "data": {
      "text/plain": [
       "[0, 6]"
      ]
     },
     "execution_count": 16,
     "metadata": {},
     "output_type": "execute_result"
    }
   ],
   "source": [
    "findAnagrams(s = \"cbaebabacd\", p = \"abc\")"
   ]
  },
  {
   "cell_type": "code",
   "execution_count": 17,
   "id": "c79ddca0",
   "metadata": {},
   "outputs": [
    {
     "data": {
      "text/plain": [
       "[0, 1, 2]"
      ]
     },
     "execution_count": 17,
     "metadata": {},
     "output_type": "execute_result"
    }
   ],
   "source": [
    " findAnagrams(s = \"abab\", p = \"ab\")"
   ]
  },
  {
   "cell_type": "markdown",
   "id": "35863448",
   "metadata": {},
   "source": [
    "#### Q8"
   ]
  },
  {
   "cell_type": "code",
   "execution_count": 18,
   "id": "1a3be040",
   "metadata": {},
   "outputs": [],
   "source": [
    "def buddyStrings(s: str, goal: str) -> bool:        \n",
    "        # base condition\n",
    "        if len(s) != len(goal):\n",
    "            return False\n",
    "        #if both are equal and s has a character with frequency more than 1\n",
    "        if s == goal:\n",
    "            return len(set(s)) < len(s)\n",
    "        count=0\n",
    "        diff = []\n",
    "        for i in range(len(s)):\n",
    "            if s[i] != goal[i]:\n",
    "                diff.append((s[i], goal[i]))\n",
    "                count+=1\n",
    "        # in both count=1 and count>=3 swapping is not possible\n",
    "        if count==1 or count>=3:\n",
    "            return False\n",
    "        # first element of difference is reverse of second element \n",
    "        return diff[0] == diff[1][::-1]"
   ]
  },
  {
   "cell_type": "code",
   "execution_count": 19,
   "id": "05985027",
   "metadata": {},
   "outputs": [
    {
     "data": {
      "text/plain": [
       "True"
      ]
     },
     "execution_count": 19,
     "metadata": {},
     "output_type": "execute_result"
    }
   ],
   "source": [
    " buddyStrings(s = \"ab\", goal = \"ba\")"
   ]
  },
  {
   "cell_type": "code",
   "execution_count": 20,
   "id": "cf50584c",
   "metadata": {},
   "outputs": [
    {
     "data": {
      "text/plain": [
       "False"
      ]
     },
     "execution_count": 20,
     "metadata": {},
     "output_type": "execute_result"
    }
   ],
   "source": [
    " buddyStrings(s = \"ab\", goal = \"ab\")"
   ]
  },
  {
   "cell_type": "code",
   "execution_count": null,
   "id": "2db912be",
   "metadata": {},
   "outputs": [],
   "source": []
  }
 ],
 "metadata": {
  "kernelspec": {
   "display_name": "Python 3 (ipykernel)",
   "language": "python",
   "name": "python3"
  },
  "language_info": {
   "codemirror_mode": {
    "name": "ipython",
    "version": 3
   },
   "file_extension": ".py",
   "mimetype": "text/x-python",
   "name": "python",
   "nbconvert_exporter": "python",
   "pygments_lexer": "ipython3",
   "version": "3.9.13"
  }
 },
 "nbformat": 4,
 "nbformat_minor": 5
}
