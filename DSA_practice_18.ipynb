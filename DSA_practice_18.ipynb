{
 "cells": [
  {
   "cell_type": "markdown",
   "id": "d0a51f4f",
   "metadata": {},
   "source": [
    "Q1"
   ]
  },
  {
   "cell_type": "code",
   "execution_count": 1,
   "id": "10eb03eb",
   "metadata": {},
   "outputs": [],
   "source": [
    "    def merge(intervals: list[list[int]]) -> list[list[int]]:       \n",
    "        intervals.sort()\n",
    "        merge=[]\n",
    "        start=intervals[0][0]\n",
    "        end=intervals[0][1]\n",
    "\n",
    "        for i in range(1, len(intervals)):\n",
    "            # overlap\n",
    "            if end >= intervals[i][0]:\n",
    "                end = max(end, intervals[i][1])\n",
    "                start= min(start,intervals[i][0])\n",
    "            else:\n",
    "                merge.append([start,end])\n",
    "                start=intervals[i][0]\n",
    "                end=intervals[i][1]\n",
    "        if len(merge)!=0 and end>=merge[len(merge)-1][0]:\n",
    "            merge[-1][1]=end\n",
    "        else:\n",
    "            merge.append([start,end])\n",
    "        return merge"
   ]
  },
  {
   "cell_type": "code",
   "execution_count": 2,
   "id": "c91417b2",
   "metadata": {},
   "outputs": [
    {
     "data": {
      "text/plain": [
       "[[1, 6], [8, 18]]"
      ]
     },
     "execution_count": 2,
     "metadata": {},
     "output_type": "execute_result"
    }
   ],
   "source": [
    "merge(intervals=[[1,3],[2,6],[8,10],[15,18]])"
   ]
  },
  {
   "cell_type": "code",
   "execution_count": 3,
   "id": "89503b6f",
   "metadata": {},
   "outputs": [
    {
     "data": {
      "text/plain": [
       "[[0, 4]]"
      ]
     },
     "execution_count": 3,
     "metadata": {},
     "output_type": "execute_result"
    }
   ],
   "source": [
    "merge(intervals = [[1,4],[0,4]])"
   ]
  },
  {
   "cell_type": "markdown",
   "id": "b5112c68",
   "metadata": {},
   "source": [
    "Q2"
   ]
  },
  {
   "cell_type": "code",
   "execution_count": 4,
   "id": "c42614e3",
   "metadata": {},
   "outputs": [],
   "source": [
    "    def sortColors(nums: list[int]) -> None:\n",
    "        \"\"\"\n",
    "        Do not return anything, modify nums in-place instead.\n",
    "        \"\"\"\n",
    "        zero,one,two=0,0,0\n",
    "        for i in nums:\n",
    "            if i==0:\n",
    "                zero+=1\n",
    "            elif i==1:\n",
    "                one+=1\n",
    "            else:\n",
    "                two+=1\n",
    "        nums.clear()\n",
    "        nums+=[0]*zero +[1]*one +[2]*two\n",
    "        return nums"
   ]
  },
  {
   "cell_type": "code",
   "execution_count": 5,
   "id": "843f2b37",
   "metadata": {},
   "outputs": [
    {
     "data": {
      "text/plain": [
       "[0, 0, 0, 1, 1, 2, 2]"
      ]
     },
     "execution_count": 5,
     "metadata": {},
     "output_type": "execute_result"
    }
   ],
   "source": [
    "sortColors(nums=[2,0,2,1,1,0,0])"
   ]
  },
  {
   "cell_type": "code",
   "execution_count": 6,
   "id": "ecd7efad",
   "metadata": {},
   "outputs": [
    {
     "data": {
      "text/plain": [
       "[0, 1, 1, 2, 2]"
      ]
     },
     "execution_count": 6,
     "metadata": {},
     "output_type": "execute_result"
    }
   ],
   "source": [
    "sortColors(nums=[2,2,0,1,1])"
   ]
  },
  {
   "cell_type": "markdown",
   "id": "3e8c2e78",
   "metadata": {},
   "source": [
    "Q3"
   ]
  },
  {
   "cell_type": "code",
   "execution_count": 7,
   "id": "b27cb98b",
   "metadata": {},
   "outputs": [],
   "source": [
    "    def firstBadVersion(n: int) -> int:\n",
    "        l = 1\n",
    "        u = n\n",
    "        while l < u:\n",
    "            mid = l + (u - l) // 2\n",
    "            if isBadVersion(mid) == False:\n",
    "                l = mid + 1\n",
    "            elif isBadVersion(mid) == True:\n",
    "                u = mid\n",
    "\n",
    "        return u"
   ]
  },
  {
   "cell_type": "code",
   "execution_count": null,
   "id": "1d43fb0e",
   "metadata": {},
   "outputs": [],
   "source": []
  },
  {
   "cell_type": "markdown",
   "id": "26b92d63",
   "metadata": {},
   "source": [
    "Q4"
   ]
  },
  {
   "cell_type": "code",
   "execution_count": 8,
   "id": "e7f929eb",
   "metadata": {},
   "outputs": [],
   "source": [
    "\n",
    "    def BucketSort(arr,n):\n",
    "        max_ele=max(arr)\n",
    "        size=max_ele/n\n",
    "        bucketList=[[] for i in range(n)]\n",
    "        for i in range(n):\n",
    "            j=int(arr[i]/size)\n",
    "            if j==n:bucketList[j-1].append(arr[i])\n",
    "            else:bucketList[j].append(arr[i])\n",
    "        for i in bucketList:\n",
    "            if i:i.sort()\n",
    "        k=0\n",
    "        for lst in bucketList:\n",
    "            if lst:\n",
    "                for i in lst:\n",
    "                    arr[k]=i\n",
    "                    k+=1\n",
    "    def maximumGap(nums: list[int]) -> int:\n",
    "        if len(nums)<2:\n",
    "            return 0\n",
    "        #bucket sort takes O(N) time   \n",
    "        BucketSort(nums,len(nums))\n",
    "        max_diff=0\n",
    "        for i in range(1,len(nums)):\n",
    "            max_diff=max(max_diff,nums[i]-nums[i-1])\n",
    "        return max_diff"
   ]
  },
  {
   "cell_type": "code",
   "execution_count": 9,
   "id": "088f3cf1",
   "metadata": {},
   "outputs": [
    {
     "data": {
      "text/plain": [
       "3"
      ]
     },
     "execution_count": 9,
     "metadata": {},
     "output_type": "execute_result"
    }
   ],
   "source": [
    "maximumGap(nums = [3,6,9,1])"
   ]
  },
  {
   "cell_type": "code",
   "execution_count": 10,
   "id": "58c25ffe",
   "metadata": {},
   "outputs": [
    {
     "data": {
      "text/plain": [
       "0"
      ]
     },
     "execution_count": 10,
     "metadata": {},
     "output_type": "execute_result"
    }
   ],
   "source": [
    "maximumGap(nums = [10])"
   ]
  },
  {
   "cell_type": "markdown",
   "id": "f0e46fc9",
   "metadata": {},
   "source": [
    "Q5"
   ]
  },
  {
   "cell_type": "code",
   "execution_count": 11,
   "id": "58acaeac",
   "metadata": {},
   "outputs": [],
   "source": [
    "def containsDuplicate(nums: list[int]) -> bool:\n",
    "        return len(nums)!=len(set(nums))"
   ]
  },
  {
   "cell_type": "code",
   "execution_count": 12,
   "id": "fc5efc7a",
   "metadata": {},
   "outputs": [
    {
     "data": {
      "text/plain": [
       "True"
      ]
     },
     "execution_count": 12,
     "metadata": {},
     "output_type": "execute_result"
    }
   ],
   "source": [
    "containsDuplicate(nums = [1,2,3,1])"
   ]
  },
  {
   "cell_type": "code",
   "execution_count": 13,
   "id": "c48016ac",
   "metadata": {},
   "outputs": [
    {
     "data": {
      "text/plain": [
       "False"
      ]
     },
     "execution_count": 13,
     "metadata": {},
     "output_type": "execute_result"
    }
   ],
   "source": [
    "containsDuplicate(nums = [1,2,3,4])"
   ]
  },
  {
   "cell_type": "markdown",
   "id": "56719452",
   "metadata": {},
   "source": [
    "Q6"
   ]
  },
  {
   "cell_type": "code",
   "execution_count": 14,
   "id": "6d7719f4",
   "metadata": {},
   "outputs": [],
   "source": [
    "    def findMinArrowShots(points: list[list[int]]) -> int:\n",
    "        #sort points on basis of ends\n",
    "        points.sort(key = lambda x: x[1])      \n",
    "        #min arrow 1                                     \n",
    "        count=1\n",
    "        #point first arrow at X end of first balloon\n",
    "        arrow = points[0][1]\n",
    "                                               \n",
    "        for start, end in points: \n",
    "            #if start is grater than arrow then point arrow to next end \n",
    "            #and increase count by1\n",
    "            if arrow < start:                    \n",
    "                arrow = end                      \n",
    "                count += 1                     \n",
    "                                                   \n",
    "        return count                          "
   ]
  },
  {
   "cell_type": "code",
   "execution_count": 15,
   "id": "551ff54e",
   "metadata": {},
   "outputs": [
    {
     "data": {
      "text/plain": [
       "2"
      ]
     },
     "execution_count": 15,
     "metadata": {},
     "output_type": "execute_result"
    }
   ],
   "source": [
    "findMinArrowShots(points = [[10,16],[2,8],[1,6],[7,12]])"
   ]
  },
  {
   "cell_type": "markdown",
   "id": "019341e1",
   "metadata": {},
   "source": [
    "Q8"
   ]
  },
  {
   "cell_type": "code",
   "execution_count": 16,
   "id": "e7601653",
   "metadata": {},
   "outputs": [],
   "source": [
    "    def find132pattern(nums: list[int]) -> bool:\n",
    "        stack = []\n",
    "        s3 = float('-inf')\n",
    "        \n",
    "        for i in range(len(nums)-1, -1, -1):\n",
    "            if nums[i] < s3:\n",
    "                return True\n",
    "            while stack and stack[-1] < nums[i]:\n",
    "                s3 = stack.pop()\n",
    "            stack.append(nums[i])\n",
    "        \n",
    "        return False"
   ]
  },
  {
   "cell_type": "code",
   "execution_count": 17,
   "id": "dd90b458",
   "metadata": {},
   "outputs": [
    {
     "data": {
      "text/plain": [
       "False"
      ]
     },
     "execution_count": 17,
     "metadata": {},
     "output_type": "execute_result"
    }
   ],
   "source": [
    "find132pattern(nums=[1,2,3,4])"
   ]
  },
  {
   "cell_type": "code",
   "execution_count": 18,
   "id": "820ee215",
   "metadata": {},
   "outputs": [
    {
     "data": {
      "text/plain": [
       "True"
      ]
     },
     "execution_count": 18,
     "metadata": {},
     "output_type": "execute_result"
    }
   ],
   "source": [
    "find132pattern(nums = [3,1,4,2])"
   ]
  }
 ],
 "metadata": {
  "kernelspec": {
   "display_name": "Python 3 (ipykernel)",
   "language": "python",
   "name": "python3"
  },
  "language_info": {
   "codemirror_mode": {
    "name": "ipython",
    "version": 3
   },
   "file_extension": ".py",
   "mimetype": "text/x-python",
   "name": "python",
   "nbconvert_exporter": "python",
   "pygments_lexer": "ipython3",
   "version": "3.9.13"
  }
 },
 "nbformat": 4,
 "nbformat_minor": 5
}
