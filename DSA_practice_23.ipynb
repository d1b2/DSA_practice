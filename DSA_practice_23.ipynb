{
 "cells": [
  {
   "cell_type": "markdown",
   "id": "7ed70e6b",
   "metadata": {},
   "source": [
    "Q1"
   ]
  },
  {
   "cell_type": "code",
   "execution_count": 1,
   "id": "a1a80355",
   "metadata": {},
   "outputs": [],
   "source": [
    "#helper function\n",
    "def find_depth_helper(tree:str,n:int,index:list[int])->int:\n",
    "    #base case\n",
    "    if index[0]>=n or tree[index[0]]=='l':\n",
    "        return 0\n",
    "    index[0]+=1\n",
    "    left_sub=find_depth_helper(tree,n,index)#depth of left subtree\n",
    "    index[0]+=1\n",
    "    right_sub=find_depth_helper(tree,n,index)#depth of right subtree\n",
    "    return max(left_sub,right_sub)+1\n",
    "\n",
    "#main function\n",
    "def find_depth(tree:str)->int:\n",
    "    n=len(tree)\n",
    "    index=[0]\n",
    "    return find_depth_helper(tree,n,index)"
   ]
  },
  {
   "cell_type": "code",
   "execution_count": 2,
   "id": "b0d799e3",
   "metadata": {},
   "outputs": [
    {
     "data": {
      "text/plain": [
       "2"
      ]
     },
     "execution_count": 2,
     "metadata": {},
     "output_type": "execute_result"
    }
   ],
   "source": [
    "find_depth(tree='nlnll')"
   ]
  },
  {
   "cell_type": "code",
   "execution_count": 3,
   "id": "6d2c924a",
   "metadata": {},
   "outputs": [
    {
     "data": {
      "text/plain": [
       "3"
      ]
     },
     "execution_count": 3,
     "metadata": {},
     "output_type": "execute_result"
    }
   ],
   "source": [
    "find_depth(tree='nlnnlll')"
   ]
  },
  {
   "cell_type": "code",
   "execution_count": null,
   "id": "d50f16bf",
   "metadata": {},
   "outputs": [],
   "source": []
  },
  {
   "cell_type": "code",
   "execution_count": null,
   "id": "95d466d1",
   "metadata": {},
   "outputs": [],
   "source": []
  },
  {
   "cell_type": "code",
   "execution_count": 4,
   "id": "8a5063cb",
   "metadata": {},
   "outputs": [],
   "source": [
    "class Node:\n",
    "     \n",
    "    # Constructor to create a new node\n",
    "    def __init__(self, data):\n",
    "        self.data = data\n",
    "        self.left = None\n",
    "        self.right = None"
   ]
  },
  {
   "cell_type": "code",
   "execution_count": 5,
   "id": "ca6aa8e7",
   "metadata": {},
   "outputs": [],
   "source": [
    "t1=Node(4)\n",
    "t1.left=Node(5)\n",
    "t1.right=Node(2)\n",
    "t1.right.left=Node(3)\n",
    "t1.right.right=Node(1)\n",
    "t1.right.left.left=Node(6)\n",
    "t1.right.left.right=Node(7)"
   ]
  },
  {
   "cell_type": "code",
   "execution_count": 6,
   "id": "24a6c72a",
   "metadata": {},
   "outputs": [],
   "source": [
    "t2=Node(1)\n",
    "t2.left=Node(2)\n",
    "t2.right=Node(3)\n",
    "t2.left.right=Node(4)\n",
    "t2.left.right.right=Node(5)\n",
    "t2.left.right.right.right=Node(6)"
   ]
  },
  {
   "cell_type": "markdown",
   "id": "ab1449f9",
   "metadata": {},
   "source": [
    "Q2"
   ]
  },
  {
   "cell_type": "code",
   "execution_count": 7,
   "id": "3b34d440",
   "metadata": {},
   "outputs": [],
   "source": [
    "# heplper recursive function print left view of a binary tree\n",
    "def leftViewUtil(root, level, max_level):\n",
    " \n",
    "    # Base Case\n",
    "    if root is None:\n",
    "        return\n",
    " \n",
    "    # If this is the first node of its level\n",
    "    if (max_level[0] < level):\n",
    "        print (root.data, end = \" \")\n",
    "        max_level[0] = level\n",
    " \n",
    "    # Recur for left and right subtree\n",
    "    leftViewUtil(root.left, level + 1, max_level)\n",
    "    leftViewUtil(root.right, level + 1, max_level)\n",
    " \n",
    " \n",
    "# main function\n",
    "def leftView(root):\n",
    "    max_level = [0]\n",
    "    leftViewUtil(root, 1, max_level)"
   ]
  },
  {
   "cell_type": "code",
   "execution_count": 8,
   "id": "473ca944",
   "metadata": {},
   "outputs": [
    {
     "name": "stdout",
     "output_type": "stream",
     "text": [
      "4 5 3 6 "
     ]
    }
   ],
   "source": [
    "leftView(t1)"
   ]
  },
  {
   "cell_type": "code",
   "execution_count": 9,
   "id": "d59fbf28",
   "metadata": {},
   "outputs": [
    {
     "name": "stdout",
     "output_type": "stream",
     "text": [
      "1 2 4 5 6 "
     ]
    }
   ],
   "source": [
    "leftView(t2)"
   ]
  },
  {
   "cell_type": "markdown",
   "id": "d6711b0f",
   "metadata": {},
   "source": [
    "Q3"
   ]
  },
  {
   "cell_type": "code",
   "execution_count": 10,
   "id": "6171686a",
   "metadata": {},
   "outputs": [],
   "source": [
    "t1=Node(1)\n",
    "t1.left=Node(2)\n",
    "t1.right=Node(3)\n",
    "t1.left.left=Node(4)\n",
    "t1.left.right=Node(5)\n",
    "t1.right.left=Node(6)\n",
    "t1.right.left.right=Node(8)\n",
    "t1.right.right=Node(7)"
   ]
  },
  {
   "cell_type": "code",
   "execution_count": 11,
   "id": "61802ce6",
   "metadata": {},
   "outputs": [],
   "source": [
    "t2=Node(1)\n",
    "t2.left=Node(8)\n",
    "t2.left.left=Node(7)"
   ]
  },
  {
   "cell_type": "code",
   "execution_count": 12,
   "id": "b0889c6e",
   "metadata": {},
   "outputs": [],
   "source": [
    "# helper recursive function print right view of a binary tree\n",
    "def rightViewUtil(root, level, max_level):\n",
    " \n",
    "    # Base Case\n",
    "    if root is None:\n",
    "        return\n",
    " \n",
    "    # If this is the first node of its level\n",
    "    if (max_level[0] < level):\n",
    "        print (root.data, end = \" \")\n",
    "        max_level[0] = level\n",
    " \n",
    "    # Recur for right and left subtree\n",
    "    rightViewUtil(root.right, level + 1, max_level)\n",
    "    rightViewUtil(root.left, level + 1, max_level)\n",
    "    \n",
    " \n",
    " \n",
    "#main function\n",
    "def rightView(root):\n",
    "    max_level = [0]\n",
    "    rightViewUtil(root, 1, max_level)"
   ]
  },
  {
   "cell_type": "code",
   "execution_count": 13,
   "id": "dc335ba4",
   "metadata": {},
   "outputs": [
    {
     "name": "stdout",
     "output_type": "stream",
     "text": [
      "1 3 7 8 "
     ]
    }
   ],
   "source": [
    "rightView(t1)"
   ]
  },
  {
   "cell_type": "code",
   "execution_count": 14,
   "id": "6a3af8cb",
   "metadata": {},
   "outputs": [
    {
     "name": "stdout",
     "output_type": "stream",
     "text": [
      "1 8 7 "
     ]
    }
   ],
   "source": [
    "rightView(t2)"
   ]
  },
  {
   "cell_type": "code",
   "execution_count": null,
   "id": "89611317",
   "metadata": {},
   "outputs": [],
   "source": []
  },
  {
   "cell_type": "code",
   "execution_count": null,
   "id": "f23cf985",
   "metadata": {},
   "outputs": [],
   "source": []
  }
 ],
 "metadata": {
  "kernelspec": {
   "display_name": "Python 3 (ipykernel)",
   "language": "python",
   "name": "python3"
  },
  "language_info": {
   "codemirror_mode": {
    "name": "ipython",
    "version": 3
   },
   "file_extension": ".py",
   "mimetype": "text/x-python",
   "name": "python",
   "nbconvert_exporter": "python",
   "pygments_lexer": "ipython3",
   "version": "3.9.13"
  }
 },
 "nbformat": 4,
 "nbformat_minor": 5
}
