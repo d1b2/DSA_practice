{
 "cells": [
  {
   "cell_type": "markdown",
   "id": "1204d1f3",
   "metadata": {},
   "source": [
    "Q17"
   ]
  },
  {
   "cell_type": "code",
   "execution_count": 1,
   "id": "ec26f575",
   "metadata": {},
   "outputs": [],
   "source": [
    "def even_num(num:list[int])->list[int]:\n",
    "    if len(num)<=0:\n",
    "        return []\n",
    "    return [num[i] for i in range(len(num)) if num[i]%2==0]"
   ]
  },
  {
   "cell_type": "code",
   "execution_count": 2,
   "id": "8f2e58d1",
   "metadata": {},
   "outputs": [
    {
     "data": {
      "text/plain": [
       "[2, 4, 6, 8, 10]"
      ]
     },
     "execution_count": 2,
     "metadata": {},
     "output_type": "execute_result"
    }
   ],
   "source": [
    "even_num(num=[1, 2, 3, 4, 5, 6, 7, 8, 9, 10])"
   ]
  },
  {
   "cell_type": "markdown",
   "id": "3fb5d99b",
   "metadata": {},
   "source": [
    "Q18"
   ]
  },
  {
   "cell_type": "code",
   "execution_count": 3,
   "id": "b00c7328",
   "metadata": {},
   "outputs": [],
   "source": [
    "import time\n",
    "\n",
    "def timer(func): \n",
    "    \n",
    "    def wrapper_timer():#wrapper function\n",
    "        start_time = time.time()           \n",
    "        func()  \n",
    "        run_time =time.time()  - start_time\n",
    "        print(f\"Execution time: {run_time:.5f} seconds\")\n",
    "        return \n",
    "    return wrapper_timer\n",
    "\n",
    "@timer\n",
    "def my_function():\n",
    "    # Function code goes here\n",
    "    time.sleep(2)"
   ]
  },
  {
   "cell_type": "code",
   "execution_count": 4,
   "id": "40fba67f",
   "metadata": {},
   "outputs": [
    {
     "name": "stdout",
     "output_type": "stream",
     "text": [
      "Execution time: 2.00400 seconds\n"
     ]
    }
   ],
   "source": [
    "my_function()"
   ]
  },
  {
   "cell_type": "markdown",
   "id": "abfbd10c",
   "metadata": {},
   "source": [
    "Q19"
   ]
  },
  {
   "cell_type": "code",
   "execution_count": 5,
   "id": "51cf69eb",
   "metadata": {},
   "outputs": [],
   "source": [
    "def calculate_mean(numbers)->float:\n",
    "    #basic check to avoid zero division\n",
    "    if len(numbers)<=0:\n",
    "        return 0\n",
    "    sum_num=0\n",
    "    for i in range(len(numbers)):\n",
    "        sum_num+=numbers[i]    \n",
    "    mean=round(sum_num/len(numbers),1)\n",
    "    return mean"
   ]
  },
  {
   "cell_type": "code",
   "execution_count": 6,
   "id": "75307fe1",
   "metadata": {},
   "outputs": [
    {
     "data": {
      "text/plain": [
       "20.0"
      ]
     },
     "execution_count": 6,
     "metadata": {},
     "output_type": "execute_result"
    }
   ],
   "source": [
    "data=[10, 15, 20, 25, 30]\n",
    "calculate_mean(data)"
   ]
  },
  {
   "cell_type": "markdown",
   "id": "e68e3b3e",
   "metadata": {},
   "source": [
    "Q20"
   ]
  },
  {
   "cell_type": "code",
   "execution_count": 7,
   "id": "c2b26a70",
   "metadata": {},
   "outputs": [],
   "source": [
    "from scipy import stats\n",
    "import numpy as np"
   ]
  },
  {
   "cell_type": "code",
   "execution_count": 8,
   "id": "721ca885",
   "metadata": {},
   "outputs": [],
   "source": [
    "def perform_hypothesis_test(sample1, sample2):\n",
    "    #condition to check population variation\n",
    "    if max(np.var(sample1),np.var(sample2))/min(np.var(sample1),np.var(sample2))<4/1:\n",
    "        t_statistic, p_value = stats.ttest_ind(sample1, sample2,equal_var=True)\n",
    "    else:\n",
    "        t_statistic, p_value = stats.ttest_ind(sample1, sample2,equal_var=False)\n",
    "    return p_value"
   ]
  },
  {
   "cell_type": "code",
   "execution_count": 9,
   "id": "945f62fc",
   "metadata": {},
   "outputs": [
    {
     "name": "stdout",
     "output_type": "stream",
     "text": [
      "P-value: 0.10753119493062718\n"
     ]
    }
   ],
   "source": [
    "sample1 = [5, 10, 15, 20, 25]\n",
    "sample2 = [10, 20, 30, 40, 50]\n",
    "p_value = perform_hypothesis_test(sample1, sample2)\n",
    "print(\"P-value:\", p_value)"
   ]
  },
  {
   "cell_type": "code",
   "execution_count": null,
   "id": "5f9a1fc9",
   "metadata": {},
   "outputs": [],
   "source": []
  }
 ],
 "metadata": {
  "kernelspec": {
   "display_name": "Python 3 (ipykernel)",
   "language": "python",
   "name": "python3"
  },
  "language_info": {
   "codemirror_mode": {
    "name": "ipython",
    "version": 3
   },
   "file_extension": ".py",
   "mimetype": "text/x-python",
   "name": "python",
   "nbconvert_exporter": "python",
   "pygments_lexer": "ipython3",
   "version": "3.9.13"
  }
 },
 "nbformat": 4,
 "nbformat_minor": 5
}
