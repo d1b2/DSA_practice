{
 "cells": [
  {
   "cell_type": "markdown",
   "id": "c4a6d589",
   "metadata": {},
   "source": [
    "#### Q1"
   ]
  },
  {
   "cell_type": "code",
   "execution_count": 15,
   "id": "baea0ee5",
   "metadata": {},
   "outputs": [],
   "source": [
    "def construct2DArray(original: list[int], m: int, n: int) -> list[list[int]]:\n",
    "    if m*n<len(original) or m*n>len(original):\n",
    "        return[]\n",
    "    d_2_arr=[]\n",
    "    for i in range(0,len(original),n):\n",
    "        d_2_arr.append(original[i:i+n])        \n",
    "    return d_2_arr\n"
   ]
  },
  {
   "cell_type": "code",
   "execution_count": 16,
   "id": "1eb30b2b",
   "metadata": {},
   "outputs": [
    {
     "data": {
      "text/plain": [
       "[[1, 2], [3, 4]]"
      ]
     },
     "execution_count": 16,
     "metadata": {},
     "output_type": "execute_result"
    }
   ],
   "source": [
    "construct2DArray(original = [1,2,3,4], m = 2, n = 2)"
   ]
  },
  {
   "cell_type": "code",
   "execution_count": 17,
   "id": "c0802538",
   "metadata": {},
   "outputs": [
    {
     "data": {
      "text/plain": [
       "[[1, 2, 3]]"
      ]
     },
     "execution_count": 17,
     "metadata": {},
     "output_type": "execute_result"
    }
   ],
   "source": [
    "construct2DArray(original = [1,2,3], m = 1, n = 3)"
   ]
  },
  {
   "cell_type": "markdown",
   "id": "1b17d3e5",
   "metadata": {},
   "source": [
    "#### Q2"
   ]
  },
  {
   "cell_type": "code",
   "execution_count": 18,
   "id": "e6d7b837",
   "metadata": {},
   "outputs": [],
   "source": [
    "def arrangeCoins(n: int) -> int:\n",
    "    #binary search\n",
    "    left, right = 0, n\n",
    "    while left <= right:\n",
    "        mid = (right + left) // 2\n",
    "        curr = mid * (mid + 1) // 2 #sum of digits from 1 to mid\n",
    "        if curr == n:\n",
    "            return mid\n",
    "        if n < curr:\n",
    "            right = mid - 1\n",
    "        else:\n",
    "            left = mid + 1\n",
    "    return right"
   ]
  },
  {
   "cell_type": "code",
   "execution_count": 19,
   "id": "5fabf15e",
   "metadata": {},
   "outputs": [
    {
     "data": {
      "text/plain": [
       "2"
      ]
     },
     "execution_count": 19,
     "metadata": {},
     "output_type": "execute_result"
    }
   ],
   "source": [
    "arrangeCoins(n=5)"
   ]
  },
  {
   "cell_type": "code",
   "execution_count": 20,
   "id": "64a1ae70",
   "metadata": {},
   "outputs": [
    {
     "data": {
      "text/plain": [
       "3"
      ]
     },
     "execution_count": 20,
     "metadata": {},
     "output_type": "execute_result"
    }
   ],
   "source": [
    "arrangeCoins(n=8)"
   ]
  },
  {
   "cell_type": "markdown",
   "id": "f04b9cae",
   "metadata": {},
   "source": [
    "#### Q3"
   ]
  },
  {
   "cell_type": "code",
   "execution_count": 21,
   "id": "a7025c0d",
   "metadata": {},
   "outputs": [],
   "source": [
    "def sortedSquares(nums: list[int]) -> list[int]:\n",
    "    nums=[i**2 for i in nums]\n",
    "    nums.sort()\n",
    "    return nums"
   ]
  },
  {
   "cell_type": "code",
   "execution_count": 22,
   "id": "8fc2462f",
   "metadata": {},
   "outputs": [
    {
     "data": {
      "text/plain": [
       "[0, 1, 9, 16, 100]"
      ]
     },
     "execution_count": 22,
     "metadata": {},
     "output_type": "execute_result"
    }
   ],
   "source": [
    "sortedSquares(nums = [-4,-1,0,3,10])"
   ]
  },
  {
   "cell_type": "code",
   "execution_count": 23,
   "id": "6d0b01ac",
   "metadata": {},
   "outputs": [
    {
     "data": {
      "text/plain": [
       "[4, 9, 9, 49, 121]"
      ]
     },
     "execution_count": 23,
     "metadata": {},
     "output_type": "execute_result"
    }
   ],
   "source": [
    "sortedSquares(nums = [-7,-3,2,3,11])"
   ]
  },
  {
   "cell_type": "markdown",
   "id": "a42a7b3b",
   "metadata": {},
   "source": [
    "#### Q4"
   ]
  },
  {
   "cell_type": "code",
   "execution_count": 25,
   "id": "a9fdd17a",
   "metadata": {},
   "outputs": [],
   "source": [
    "def findDifference(nums1: list[int], nums2: list[int]) -> list[list[int]]:\n",
    "    nums1_only=[]\n",
    "    nums2_only=[]\n",
    "\n",
    "    for i in set(nums1):\n",
    "        if i not in set(nums2):\n",
    "            nums1_only.append(i)\n",
    "\n",
    "    for i in set(nums2):\n",
    "        if i not in set(nums1):\n",
    "            nums2_only.append(i)\n",
    "\n",
    "    return [nums1_only,nums2_only]"
   ]
  },
  {
   "cell_type": "code",
   "execution_count": 26,
   "id": "7f7ff08b",
   "metadata": {},
   "outputs": [
    {
     "data": {
      "text/plain": [
       "[[1, 3], [4, 6]]"
      ]
     },
     "execution_count": 26,
     "metadata": {},
     "output_type": "execute_result"
    }
   ],
   "source": [
    "findDifference(nums1 = [1,2,3], nums2 = [2,4,6])"
   ]
  },
  {
   "cell_type": "code",
   "execution_count": 27,
   "id": "af96827f",
   "metadata": {},
   "outputs": [
    {
     "data": {
      "text/plain": [
       "[[3], []]"
      ]
     },
     "execution_count": 27,
     "metadata": {},
     "output_type": "execute_result"
    }
   ],
   "source": [
    "findDifference(nums1 = [1,2,3,3], nums2 = [1,1,2,2])"
   ]
  },
  {
   "cell_type": "markdown",
   "id": "7dabdeee",
   "metadata": {},
   "source": [
    "#### Q5"
   ]
  },
  {
   "cell_type": "code",
   "execution_count": 28,
   "id": "3b8df183",
   "metadata": {},
   "outputs": [],
   "source": [
    "def findTheDistanceValue(arr1: list[int], arr2: list[int], d: int) -> int:\n",
    "    cnt=len(arr1)\n",
    "    arr2_max=max(arr2)\n",
    "    for i in range(len(arr1)):\n",
    "        for j in range(len(arr2)):\n",
    "            if abs(arr1[i]-arr2[j])<=d:\n",
    "                cnt-=1\n",
    "                break\n",
    "\n",
    "    return cnt"
   ]
  },
  {
   "cell_type": "code",
   "execution_count": 29,
   "id": "7a24daa2",
   "metadata": {},
   "outputs": [
    {
     "data": {
      "text/plain": [
       "2"
      ]
     },
     "execution_count": 29,
     "metadata": {},
     "output_type": "execute_result"
    }
   ],
   "source": [
    "findTheDistanceValue(arr1 = [4,5,8], arr2 = [10,9,1,8], d = 2)"
   ]
  },
  {
   "cell_type": "code",
   "execution_count": 30,
   "id": "101a233d",
   "metadata": {},
   "outputs": [
    {
     "data": {
      "text/plain": [
       "1"
      ]
     },
     "execution_count": 30,
     "metadata": {},
     "output_type": "execute_result"
    }
   ],
   "source": [
    "findTheDistanceValue(arr1 = [2,1,100,3], arr2 = [-5,-2,10,-3,7], d = 6)"
   ]
  },
  {
   "cell_type": "markdown",
   "id": "6f896b67",
   "metadata": {},
   "source": [
    "#### Q6"
   ]
  },
  {
   "cell_type": "code",
   "execution_count": 32,
   "id": "0c207025",
   "metadata": {},
   "outputs": [],
   "source": [
    "def findDuplicates(nums: list[int]) -> list[int]:\n",
    "    if len(nums)==len(set(nums)):\n",
    "        return []\n",
    "\n",
    "    hash_map={}\n",
    "    for i in range(len(nums)):\n",
    "        if nums[i] in hash_map:\n",
    "            hash_map[nums[i]]+=1\n",
    "        else:\n",
    "            hash_map[nums[i]]=1\n",
    "\n",
    "\n",
    "    return [key for key in hash_map if hash_map[key]==2]\n"
   ]
  },
  {
   "cell_type": "code",
   "execution_count": 33,
   "id": "5b37301b",
   "metadata": {},
   "outputs": [
    {
     "data": {
      "text/plain": [
       "[3, 2]"
      ]
     },
     "execution_count": 33,
     "metadata": {},
     "output_type": "execute_result"
    }
   ],
   "source": [
    "findDuplicates(nums = [4,3,2,7,8,2,3,1])"
   ]
  },
  {
   "cell_type": "code",
   "execution_count": 34,
   "id": "83969108",
   "metadata": {},
   "outputs": [
    {
     "data": {
      "text/plain": [
       "[]"
      ]
     },
     "execution_count": 34,
     "metadata": {},
     "output_type": "execute_result"
    }
   ],
   "source": [
    "findDuplicates(nums = [4,3,2,7,8,1])"
   ]
  },
  {
   "cell_type": "markdown",
   "id": "d5abf355",
   "metadata": {},
   "source": [
    "#### Q7"
   ]
  },
  {
   "cell_type": "code",
   "execution_count": 35,
   "id": "f7260d7d",
   "metadata": {},
   "outputs": [],
   "source": [
    "def findMin(nums: list[int]) -> int:\n",
    "    n=len(nums)\n",
    "    #binary search to find pivot element\n",
    "    left,right=0,n-1\n",
    "    while left<=right:\n",
    "        mid=(left+right)//2\n",
    "        if nums[mid]>nums[-1]:#compare value at mid to last element\n",
    "            left=mid+1\n",
    "        else:\n",
    "            right=mid-1\n",
    "    pivot=left\n",
    "    return nums[pivot]"
   ]
  },
  {
   "cell_type": "code",
   "execution_count": 36,
   "id": "94c87df7",
   "metadata": {},
   "outputs": [
    {
     "data": {
      "text/plain": [
       "1"
      ]
     },
     "execution_count": 36,
     "metadata": {},
     "output_type": "execute_result"
    }
   ],
   "source": [
    "findMin(nums = [3,4,5,1,2])"
   ]
  },
  {
   "cell_type": "code",
   "execution_count": 37,
   "id": "92911ac4",
   "metadata": {},
   "outputs": [
    {
     "data": {
      "text/plain": [
       "0"
      ]
     },
     "execution_count": 37,
     "metadata": {},
     "output_type": "execute_result"
    }
   ],
   "source": [
    "findMin(nums = [4,5,6,7,0,1,2])"
   ]
  },
  {
   "cell_type": "markdown",
   "id": "e77ccc16",
   "metadata": {},
   "source": [
    "#### Q8"
   ]
  },
  {
   "cell_type": "code",
   "execution_count": 38,
   "id": "1cab2612",
   "metadata": {},
   "outputs": [],
   "source": [
    "def findOriginalArray(changed: list[int]) -> list[int]:\n",
    "    if len(changed)%2!=0 or len(changed)<=1:\n",
    "        return []\n",
    "    #sort array\n",
    "    changed.sort()\n",
    "    #create hashmap\n",
    "    hashmap={}\n",
    "    for i in changed:\n",
    "        if i in hashmap:\n",
    "            hashmap[i]+=1\n",
    "        else:\n",
    "            hashmap[i]=1\n",
    "    #empty list\n",
    "    original=[]\n",
    "    for i in changed:\n",
    "        #check if element is present in hasmap and its frequncy is greater than 0\n",
    "        if i in hashmap and hashmap[i]>0:\n",
    "            #decrease frequency of element\n",
    "            hashmap[i]-=1\n",
    "            #check if twice of element is present in hasmap and its frequncy is greater than 0\n",
    "            if 2*i in hashmap and hashmap[2*i]>0:\n",
    "                #append element to list\n",
    "                original.append(i)\n",
    "                #decrease frequency of element\n",
    "                hashmap[2*i]-=1\n",
    "\n",
    "    if len(original)==len(changed)//2:\n",
    "        return original\n",
    "    return []"
   ]
  },
  {
   "cell_type": "code",
   "execution_count": 39,
   "id": "ff869dcd",
   "metadata": {},
   "outputs": [
    {
     "data": {
      "text/plain": [
       "[1, 3, 4]"
      ]
     },
     "execution_count": 39,
     "metadata": {},
     "output_type": "execute_result"
    }
   ],
   "source": [
    "findOriginalArray(changed=[1,3,4,2,6,8])"
   ]
  },
  {
   "cell_type": "code",
   "execution_count": 40,
   "id": "7506c2d9",
   "metadata": {},
   "outputs": [
    {
     "data": {
      "text/plain": [
       "[]"
      ]
     },
     "execution_count": 40,
     "metadata": {},
     "output_type": "execute_result"
    }
   ],
   "source": [
    "findOriginalArray(changed = [6,3,0,1])"
   ]
  },
  {
   "cell_type": "code",
   "execution_count": null,
   "id": "24c61845",
   "metadata": {},
   "outputs": [],
   "source": []
  }
 ],
 "metadata": {
  "kernelspec": {
   "display_name": "Python 3 (ipykernel)",
   "language": "python",
   "name": "python3"
  },
  "language_info": {
   "codemirror_mode": {
    "name": "ipython",
    "version": 3
   },
   "file_extension": ".py",
   "mimetype": "text/x-python",
   "name": "python",
   "nbconvert_exporter": "python",
   "pygments_lexer": "ipython3",
   "version": "3.9.13"
  }
 },
 "nbformat": 4,
 "nbformat_minor": 5
}
