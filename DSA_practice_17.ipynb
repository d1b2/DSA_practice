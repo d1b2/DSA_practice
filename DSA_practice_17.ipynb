{
 "cells": [
  {
   "cell_type": "markdown",
   "id": "d6a19584",
   "metadata": {},
   "source": [
    "Q1"
   ]
  },
  {
   "cell_type": "code",
   "execution_count": 1,
   "id": "c1bd4cc7",
   "metadata": {},
   "outputs": [],
   "source": [
    "from collections import deque"
   ]
  },
  {
   "cell_type": "code",
   "execution_count": 2,
   "id": "f37396bd",
   "metadata": {},
   "outputs": [],
   "source": [
    "\n",
    "    def firstUniqChar(s: str) -> int:\n",
    "        d = {}\n",
    "        q = deque()\n",
    "        for i, x in enumerate(s):\n",
    "            d[x] = d.get(x, 0) + 1\n",
    "            if d[x] == 1:\n",
    "                q.append((x, i))\n",
    "            while q and d[q[0][0]] > 1:\n",
    "                q.popleft()\n",
    "        return -1 if not q else q[0][1]"
   ]
  },
  {
   "cell_type": "markdown",
   "id": "75dbdb22",
   "metadata": {},
   "source": [
    "Q2"
   ]
  },
  {
   "cell_type": "code",
   "execution_count": 3,
   "id": "f63ed047",
   "metadata": {},
   "outputs": [],
   "source": [
    "    def maxSubarraySumCircular(nums: list[int]) -> int:\n",
    "        max_sum = curr_max = min_sum = curr_min = nums[0]\n",
    "\n",
    "        for i in nums[1:]:\n",
    "            curr_max = max(i,curr_max+i)\n",
    "            max_sum = max(curr_max,max_sum)\n",
    "            curr_min = min(i,curr_min+i)\n",
    "            min_sum = min(curr_min,min_sum)\n",
    "\n",
    "        if sum(nums) == min_sum:\n",
    "            return max_sum\n",
    "        return max(max_sum,sum(nums)-min_sum)"
   ]
  },
  {
   "cell_type": "markdown",
   "id": "677b64f5",
   "metadata": {},
   "source": [
    "Q3"
   ]
  },
  {
   "cell_type": "code",
   "execution_count": 4,
   "id": "caf6553f",
   "metadata": {},
   "outputs": [],
   "source": [
    "class Solution:\n",
    "    def countStudents(self, students: list[int], sandwiches: list[int]) -> int:\n",
    "        \n",
    "        count = 0\n",
    "        \n",
    "        while len(students) > count:\n",
    "            #if top of sandwich and student is same\n",
    "            #pop sandwich\n",
    "            if students[0] == sandwiches[0]:\n",
    "                sandwiches.pop(0)\n",
    "                count = 0\n",
    "            #if not then move student atzeor index to las index\n",
    "            else:\n",
    "                students.append(students[0])\n",
    "                count+=1\n",
    "            #pop student at 0 index at every iteration\n",
    "            students.pop(0)\n",
    "            \n",
    "        return len(students)\n"
   ]
  },
  {
   "cell_type": "markdown",
   "id": "73ff301c",
   "metadata": {},
   "source": [
    "Q4"
   ]
  },
  {
   "cell_type": "code",
   "execution_count": 5,
   "id": "2b26e0d9",
   "metadata": {},
   "outputs": [],
   "source": [
    "class RecentCounter:\n",
    "\n",
    "    def __init__(self):\n",
    "        self.queue = []\n",
    "\n",
    "    def ping(self, t: int) -> int:\n",
    "        while self.queue and self.queue[0] + 3000 < t:\n",
    "            self.queue.pop(0)\n",
    "        self.queue.append(t)\n",
    "        return len(self.queue)"
   ]
  },
  {
   "cell_type": "markdown",
   "id": "bf40d981",
   "metadata": {},
   "source": [
    "Q5"
   ]
  },
  {
   "cell_type": "code",
   "execution_count": 6,
   "id": "d67acd53",
   "metadata": {},
   "outputs": [],
   "source": [
    "    def findTheWinner(n: int, k: int) -> int:\n",
    "        dq=deque()\n",
    "        for i in range(1,n+1):\n",
    "            dq.append(i)\n",
    "            \n",
    "        while dq:\n",
    "            temp=k-1\n",
    "            while temp>0:\n",
    "                dq.append(dq.popleft())\n",
    "                temp-=1\n",
    "            ele=dq.popleft()\n",
    "        return ele"
   ]
  },
  {
   "cell_type": "markdown",
   "id": "a900a48e",
   "metadata": {},
   "source": [
    "Q6"
   ]
  },
  {
   "cell_type": "code",
   "execution_count": 7,
   "id": "9aaf11b7",
   "metadata": {},
   "outputs": [],
   "source": [
    "    def deckRevealedIncreasing(deck):\n",
    "        N = len(deck)\n",
    "        index = deque(range(N))\n",
    "        ans = [None] * N\n",
    "        for card in sorted(deck):\n",
    "            #reveal the top card and add it to ans list\n",
    "            ans[index.popleft()] = card\n",
    "            #if cards are remaining then put next top card at the end of queue\n",
    "            if index:\n",
    "                index.append(index.popleft())\n",
    "        return ans"
   ]
  },
  {
   "cell_type": "markdown",
   "id": "a083a0e3",
   "metadata": {},
   "source": [
    "Q7"
   ]
  },
  {
   "cell_type": "code",
   "execution_count": 8,
   "id": "81ad9c25",
   "metadata": {},
   "outputs": [],
   "source": [
    "class FrontMiddleBackQueue:\n",
    "\n",
    "    def __init__(self):\n",
    "        self.queue=[]\n",
    "        \n",
    "\n",
    "    def pushFront(self, val: int) -> None:\n",
    "        self.queue.insert(0,val)\n",
    "        \n",
    "\n",
    "    def pushMiddle(self, val: int) -> None:\n",
    "        mid=len(self.queue)//2\n",
    "        self.queue.insert(mid,val)\n",
    "        \n",
    "\n",
    "    def pushBack(self, val: int) -> None:\n",
    "        self.queue.append(val)\n",
    "\n",
    "        \n",
    "\n",
    "    def popFront(self) -> int:\n",
    "        if len(self.queue)==0:\n",
    "            return -1\n",
    "        ele=self.queue.pop(0)\n",
    "        return ele\n",
    "        \n",
    "\n",
    "    def popMiddle(self) -> int:\n",
    "        if len(self.queue)==0:\n",
    "            return -1\n",
    "        mid=(len(self.queue)-1)//2\n",
    "        ele=self.queue.pop(mid)\n",
    "        return ele\n",
    "        \n",
    "\n",
    "    def popBack(self) -> int:\n",
    "        if len(self.queue)==0:\n",
    "            return -1\n",
    "        ele=self.queue.pop(-1)\n",
    "        return ele"
   ]
  },
  {
   "cell_type": "markdown",
   "id": "db4de79b",
   "metadata": {},
   "source": [
    "Q8"
   ]
  },
  {
   "cell_type": "code",
   "execution_count": 9,
   "id": "0d463438",
   "metadata": {},
   "outputs": [],
   "source": [
    "class DataStream:\n",
    "    def __init__(self, value: int, k: int):\n",
    "        self.value = value\n",
    "        self.k = k\n",
    "        self.deque = deque()\n",
    "        self.count = 0\n",
    "\n",
    "    def consec(self, num: int) -> bool:\n",
    "        if len(self.deque) == self.k:\n",
    "            if self.deque[0] == self.value:\n",
    "                self.count -= 1\n",
    "            self.deque.popleft()\n",
    "        self.deque.append(num)\n",
    "        if num == self.value:\n",
    "            self.count += 1\n",
    "        return self.count == self.k"
   ]
  }
 ],
 "metadata": {
  "kernelspec": {
   "display_name": "Python 3 (ipykernel)",
   "language": "python",
   "name": "python3"
  },
  "language_info": {
   "codemirror_mode": {
    "name": "ipython",
    "version": 3
   },
   "file_extension": ".py",
   "mimetype": "text/x-python",
   "name": "python",
   "nbconvert_exporter": "python",
   "pygments_lexer": "ipython3",
   "version": "3.9.13"
  }
 },
 "nbformat": 4,
 "nbformat_minor": 5
}
