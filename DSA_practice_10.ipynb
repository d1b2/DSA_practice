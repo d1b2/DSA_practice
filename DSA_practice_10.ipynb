{
 "cells": [
  {
   "cell_type": "markdown",
   "id": "eef67760",
   "metadata": {},
   "source": [
    "#### Q1"
   ]
  },
  {
   "cell_type": "code",
   "execution_count": 1,
   "id": "ae1091c8",
   "metadata": {},
   "outputs": [],
   "source": [
    "def isPowerOfThree(n: int) -> bool:\n",
    "    if n<=0:\n",
    "        return False    \n",
    "    elif n==1:\n",
    "        return True\n",
    "    elif n%3==0:\n",
    "        return isPowerOfThree(n/3)\n",
    "    else:\n",
    "        return False"
   ]
  },
  {
   "cell_type": "code",
   "execution_count": 2,
   "id": "4feff52d",
   "metadata": {},
   "outputs": [
    {
     "data": {
      "text/plain": [
       "True"
      ]
     },
     "execution_count": 2,
     "metadata": {},
     "output_type": "execute_result"
    }
   ],
   "source": [
    "isPowerOfThree(n = 27)"
   ]
  },
  {
   "cell_type": "code",
   "execution_count": 3,
   "id": "f21c36f6",
   "metadata": {},
   "outputs": [
    {
     "data": {
      "text/plain": [
       "False"
      ]
     },
     "execution_count": 3,
     "metadata": {},
     "output_type": "execute_result"
    }
   ],
   "source": [
    "isPowerOfThree(n=-1)"
   ]
  },
  {
   "cell_type": "code",
   "execution_count": 4,
   "id": "ea8ac433",
   "metadata": {},
   "outputs": [
    {
     "data": {
      "text/plain": [
       "False"
      ]
     },
     "execution_count": 4,
     "metadata": {},
     "output_type": "execute_result"
    }
   ],
   "source": [
    "isPowerOfThree(n=10)"
   ]
  },
  {
   "cell_type": "markdown",
   "id": "a7eff497",
   "metadata": {},
   "source": [
    "#### Q2"
   ]
  },
  {
   "cell_type": "code",
   "execution_count": 5,
   "id": "a459eaec",
   "metadata": {},
   "outputs": [],
   "source": [
    "def lastRemaining( n: int) -> int:\n",
    "    if n == 1:\n",
    "        return 1\n",
    "    return 2 * ((n // 2 )- lastRemaining(n // 2) + 1)"
   ]
  },
  {
   "cell_type": "code",
   "execution_count": 6,
   "id": "410f5a45",
   "metadata": {},
   "outputs": [
    {
     "data": {
      "text/plain": [
       "6"
      ]
     },
     "execution_count": 6,
     "metadata": {},
     "output_type": "execute_result"
    }
   ],
   "source": [
    "lastRemaining(n = 9)"
   ]
  },
  {
   "cell_type": "code",
   "execution_count": 7,
   "id": "b5648a03",
   "metadata": {},
   "outputs": [
    {
     "data": {
      "text/plain": [
       "4"
      ]
     },
     "execution_count": 7,
     "metadata": {},
     "output_type": "execute_result"
    }
   ],
   "source": [
    "lastRemaining(n=6)"
   ]
  },
  {
   "cell_type": "markdown",
   "id": "a71b3202",
   "metadata": {},
   "source": [
    "#### Q3"
   ]
  },
  {
   "cell_type": "code",
   "execution_count": 8,
   "id": "fdcd428c",
   "metadata": {},
   "outputs": [],
   "source": [
    "#hepler funct\n",
    "def power_set_helper(s:str, index, curr)->None:\n",
    "\n",
    "    if index == len(s):\n",
    "        print(curr,end=\", \")\n",
    "        return\n",
    " \n",
    "    power_set_helper(s, index + 1,curr + s[index])\n",
    "    power_set_helper(s, index + 1, curr)\n",
    "\n",
    "#main funct    \n",
    "def power_set(s:str):\n",
    "    power_set_helper(s, index=0, curr=\"\")"
   ]
  },
  {
   "cell_type": "code",
   "execution_count": 9,
   "id": "eea8dc28",
   "metadata": {},
   "outputs": [
    {
     "name": "stdout",
     "output_type": "stream",
     "text": [
      "abc, ab, ac, a, bc, b, c, , "
     ]
    }
   ],
   "source": [
    "power_set(s=\"abc\")"
   ]
  },
  {
   "cell_type": "code",
   "execution_count": 10,
   "id": "36a97567",
   "metadata": {},
   "outputs": [
    {
     "name": "stdout",
     "output_type": "stream",
     "text": [
      "abcd, abc, abd, ab, acd, ac, ad, a, bcd, bc, bd, b, cd, c, d, , "
     ]
    }
   ],
   "source": [
    "power_set(s=\"abcd\")"
   ]
  },
  {
   "cell_type": "markdown",
   "id": "5b6c41f9",
   "metadata": {},
   "source": [
    "#### Q4"
   ]
  },
  {
   "cell_type": "code",
   "execution_count": 11,
   "id": "ef45c243",
   "metadata": {},
   "outputs": [],
   "source": [
    "def leng_str(s:str):\n",
    "    if s==\"\":\n",
    "        return 0\n",
    "    return 1 + leng_str(s[1:]) "
   ]
  },
  {
   "cell_type": "code",
   "execution_count": 12,
   "id": "61971670",
   "metadata": {},
   "outputs": [
    {
     "data": {
      "text/plain": [
       "4"
      ]
     },
     "execution_count": 12,
     "metadata": {},
     "output_type": "execute_result"
    }
   ],
   "source": [
    "leng_str(\"abcd\")"
   ]
  },
  {
   "cell_type": "code",
   "execution_count": 13,
   "id": "6f98bf7a",
   "metadata": {},
   "outputs": [
    {
     "data": {
      "text/plain": [
       "13"
      ]
     },
     "execution_count": 13,
     "metadata": {},
     "output_type": "execute_result"
    }
   ],
   "source": [
    "leng_str(\"GEEKSFORGEEKS\")"
   ]
  },
  {
   "cell_type": "markdown",
   "id": "89f358a1",
   "metadata": {},
   "source": [
    "#### Q5"
   ]
  },
  {
   "cell_type": "code",
   "execution_count": 14,
   "id": "45e96a35",
   "metadata": {},
   "outputs": [],
   "source": [
    "#helper funct\n",
    "def count_helper(s:str, start:int, end:int, n:int)->int: \n",
    "    # base case\n",
    "    if (n == 1):\n",
    "        return 1\n",
    "    if (n <= 0):\n",
    "        return 0\n",
    "\n",
    "    fix_end = count_helper(s, start + 1, end, n - 1)\n",
    "    fix_start = count_helper(s, start, end - 1, n - 1)\n",
    "    sliding = count_helper(s, start + 1, end - 1, n - 2)\n",
    "\n",
    "    cnt=fix_end+fix_start-sliding\n",
    "\n",
    "    if (s[start] == s[end]):\n",
    "        cnt += 1\n",
    "    return cnt\n",
    "\n",
    "#main funct\n",
    "def count_substrs(s:str)->int:\n",
    "    n=len(s)\n",
    "    return count_helper(s=s, start=0, end=n-1, n=n)"
   ]
  },
  {
   "cell_type": "code",
   "execution_count": 15,
   "id": "d9fbfc80",
   "metadata": {},
   "outputs": [
    {
     "data": {
      "text/plain": [
       "7"
      ]
     },
     "execution_count": 15,
     "metadata": {},
     "output_type": "execute_result"
    }
   ],
   "source": [
    "count_substrs(s = \"abcab\")"
   ]
  },
  {
   "cell_type": "code",
   "execution_count": 16,
   "id": "043a8658",
   "metadata": {},
   "outputs": [
    {
     "data": {
      "text/plain": [
       "4"
      ]
     },
     "execution_count": 16,
     "metadata": {},
     "output_type": "execute_result"
    }
   ],
   "source": [
    "count_substrs(s = \"aba\")"
   ]
  },
  {
   "cell_type": "markdown",
   "id": "25c66bfe",
   "metadata": {},
   "source": [
    "#### Q6"
   ]
  },
  {
   "cell_type": "code",
   "execution_count": 17,
   "id": "0564a956",
   "metadata": {},
   "outputs": [],
   "source": [
    "#helper funct\n",
    "def TowerOfHanoi_helper(n, source_rod, dest_rod, extra_rod):\n",
    "    if n == 0:\n",
    "        return\n",
    "    TowerOfHanoi_helper(n-1, source_rod, extra_rod, dest_rod)#move from source to extra\n",
    "    print(f\"Move disk {n} from rod {source_rod} to rod {dest_rod}\")\n",
    "    TowerOfHanoi_helper(n-1, extra_rod, dest_rod, source_rod)#move from extra to dest\n",
    "\n",
    "#main funct\n",
    "def ToTowerOfHanoi(n):\n",
    "    TowerOfHanoi_helper(n, '1', '2', '3')\n",
    "    return"
   ]
  },
  {
   "cell_type": "code",
   "execution_count": 18,
   "id": "1eaef716",
   "metadata": {},
   "outputs": [
    {
     "name": "stdout",
     "output_type": "stream",
     "text": [
      "Move disk 1 from rod 1 to rod 3\n",
      "Move disk 2 from rod 1 to rod 2\n",
      "Move disk 1 from rod 3 to rod 2\n"
     ]
    }
   ],
   "source": [
    "ToTowerOfHanoi(2)"
   ]
  },
  {
   "cell_type": "code",
   "execution_count": 19,
   "id": "3e2b0849",
   "metadata": {},
   "outputs": [
    {
     "name": "stdout",
     "output_type": "stream",
     "text": [
      "Move disk 1 from rod 1 to rod 2\n",
      "Move disk 2 from rod 1 to rod 3\n",
      "Move disk 1 from rod 2 to rod 3\n",
      "Move disk 3 from rod 1 to rod 2\n",
      "Move disk 1 from rod 3 to rod 1\n",
      "Move disk 2 from rod 3 to rod 2\n",
      "Move disk 1 from rod 1 to rod 2\n"
     ]
    }
   ],
   "source": [
    "ToTowerOfHanoi(3)"
   ]
  },
  {
   "cell_type": "markdown",
   "id": "d2528b8e",
   "metadata": {},
   "source": [
    "#### Q7"
   ]
  },
  {
   "cell_type": "code",
   "execution_count": 20,
   "id": "247a4187",
   "metadata": {},
   "outputs": [],
   "source": [
    "def print_permutations(s, prefix=\"\"):\n",
    "    # Base case: if the string is empty, we have a complete permutation\n",
    "    if len(s) == 0:\n",
    "        print(prefix)\n",
    "    else:\n",
    "        # Iterate through the characters in the string\n",
    "        for i in range(len(s)):\n",
    "            # Choose the current character as the next character in the permutation\n",
    "            next_char = s[i]\n",
    "            # Generate the remaining string by removing the current character\n",
    "            remaining_chars = s[:i] + s[i+1:]\n",
    "            # Recursively generate permutations of the remaining string\n",
    "            print_permutations(remaining_chars, prefix + next_char)"
   ]
  },
  {
   "cell_type": "code",
   "execution_count": 21,
   "id": "f53ba3e2",
   "metadata": {},
   "outputs": [
    {
     "name": "stdout",
     "output_type": "stream",
     "text": [
      "abb\n",
      "abb\n",
      "bab\n",
      "bba\n",
      "bab\n",
      "bba\n"
     ]
    }
   ],
   "source": [
    "print_permutations('abb', prefix=\"\")"
   ]
  },
  {
   "cell_type": "code",
   "execution_count": 22,
   "id": "a6f6b1d8",
   "metadata": {},
   "outputs": [
    {
     "data": {
      "text/plain": [
       "True"
      ]
     },
     "execution_count": 22,
     "metadata": {},
     "output_type": "execute_result"
    }
   ],
   "source": [
    "'A'.isalpha()"
   ]
  },
  {
   "cell_type": "markdown",
   "id": "b8c6b11b",
   "metadata": {},
   "source": [
    "#### Q8"
   ]
  },
  {
   "cell_type": "code",
   "execution_count": 23,
   "id": "38bd0c1d",
   "metadata": {},
   "outputs": [],
   "source": [
    "#helper function\n",
    "def count_helper(s:str,cnt:int)->int:\n",
    "    vowels=['a','e','i','o','u','A','E','I','O','U']\n",
    "    #base case\n",
    "    if len(s)==0:\n",
    "        return cnt\n",
    "    #if first character is alpha and is not in vowels increase count\n",
    "    elif len(s)>0 and s[0].isalpha() and s[0] not in vowels :\n",
    "        cnt+=1\n",
    "        return count_helper(s[1:],cnt)\n",
    "    else:\n",
    "        return count_helper(s[1:],cnt)\n",
    "    \n",
    "#main function    \n",
    "def count_consonant(s:str)->int:\n",
    "    if len(s)==0:\n",
    "        return 0\n",
    "    return count_helper(s,0)"
   ]
  },
  {
   "cell_type": "code",
   "execution_count": 24,
   "id": "9dde6ea1",
   "metadata": {},
   "outputs": [
    {
     "data": {
      "text/plain": [
       "3"
      ]
     },
     "execution_count": 24,
     "metadata": {},
     "output_type": "execute_result"
    }
   ],
   "source": [
    "count_consonant('abcde')"
   ]
  },
  {
   "cell_type": "code",
   "execution_count": 25,
   "id": "3bd32143",
   "metadata": {},
   "outputs": [
    {
     "data": {
      "text/plain": [
       "11"
      ]
     },
     "execution_count": 25,
     "metadata": {},
     "output_type": "execute_result"
    }
   ],
   "source": [
    "count_consonant('today is Pleasant day.')"
   ]
  },
  {
   "cell_type": "code",
   "execution_count": null,
   "id": "ee008b37",
   "metadata": {},
   "outputs": [],
   "source": []
  }
 ],
 "metadata": {
  "kernelspec": {
   "display_name": "Python 3 (ipykernel)",
   "language": "python",
   "name": "python3"
  },
  "language_info": {
   "codemirror_mode": {
    "name": "ipython",
    "version": 3
   },
   "file_extension": ".py",
   "mimetype": "text/x-python",
   "name": "python",
   "nbconvert_exporter": "python",
   "pygments_lexer": "ipython3",
   "version": "3.9.13"
  }
 },
 "nbformat": 4,
 "nbformat_minor": 5
}
