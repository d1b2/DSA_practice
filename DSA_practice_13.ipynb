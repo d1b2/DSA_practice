{
 "cells": [
  {
   "cell_type": "markdown",
   "id": "41935ec3",
   "metadata": {},
   "source": [
    "Q1"
   ]
  },
  {
   "cell_type": "code",
   "execution_count": 1,
   "id": "157df83b",
   "metadata": {},
   "outputs": [],
   "source": [
    "def newList(root1, root2):\n",
    " \n",
    "    ptr1 = root1\n",
    "    ptr2 = root2\n",
    "     \n",
    "    root = None\n",
    "    while (ptr1 != None) :\n",
    "        temp = Node(0)\n",
    "        temp.next = None\n",
    " \n",
    "        # Compare for greater node\n",
    "        if (ptr1.data < ptr2.data):\n",
    "            temp.data = ptr2.data\n",
    "        else:\n",
    "            temp.data = ptr1.data\n",
    " \n",
    "        if (root == None):\n",
    "            root = temp\n",
    "        else :\n",
    "            ptr = root\n",
    "            while (ptr.next != None):\n",
    "                ptr = ptr.next\n",
    " \n",
    "            ptr.next = temp\n",
    "         \n",
    "        ptr1 = ptr1.next\n",
    "        ptr2 = ptr2.next\n",
    "     \n",
    "    return root"
   ]
  },
  {
   "cell_type": "markdown",
   "id": "18388b33",
   "metadata": {},
   "source": [
    "Q2"
   ]
  },
  {
   "cell_type": "code",
   "execution_count": 2,
   "id": "aebee115",
   "metadata": {},
   "outputs": [],
   "source": [
    "    def removeDuplicates(head):\n",
    "        temp = head\n",
    "        if temp is None:\n",
    "            return\n",
    "        while temp.next is not None:\n",
    "            if temp.data == temp.next.data:\n",
    "                new = temp.next.next\n",
    "                temp.next = None\n",
    "                temp.next = new\n",
    "            else:\n",
    "                temp = temp.next\n",
    "        return head"
   ]
  },
  {
   "cell_type": "markdown",
   "id": "3f42c3d2",
   "metadata": {},
   "source": [
    "Q3"
   ]
  },
  {
   "cell_type": "code",
   "execution_count": 3,
   "id": "fc0a2474",
   "metadata": {},
   "outputs": [],
   "source": [
    "def reverse(head, k):        \n",
    "        if head == None:\n",
    "            return None\n",
    "        current = head\n",
    "        next_node = None\n",
    "        prev = None\n",
    "        count = 0\n",
    "  \n",
    "        # Reverse first k nodes of the linked list\n",
    "        while(current is not None and count < k):\n",
    "            next_node = current.next\n",
    "            current.next = prev\n",
    "            prev = current\n",
    "            current = next_node\n",
    "            count += 1\n",
    "  \n",
    "        # recursively call      \n",
    "        if next_node is not None:\n",
    "            head.next = self.reverse(next_node, k)\n",
    "  \n",
    "        # prev is new head of the input list\n",
    "        return prev"
   ]
  },
  {
   "cell_type": "markdown",
   "id": "90c8185e",
   "metadata": {},
   "source": [
    "Q4"
   ]
  },
  {
   "cell_type": "code",
   "execution_count": 4,
   "id": "f404aef0",
   "metadata": {},
   "outputs": [],
   "source": [
    "def reverse_alternate_k_nodes(head, k):\n",
    "    if not head or not head.next or k <= 1:\n",
    "        return head\n",
    "\n",
    "    current = head\n",
    "    prev = None\n",
    "    next_node = None\n",
    "    count = 0\n",
    "\n",
    "    # Reverse k nodes\n",
    "    while current and count < k:\n",
    "        next_node = current.next\n",
    "        current.next = prev\n",
    "        prev = current\n",
    "        current = next_node\n",
    "        count += 1\n",
    "\n",
    "    # Connect the reversed part to the remaining list\n",
    "    if head:\n",
    "        head.next = current\n",
    "\n",
    "    # Skip k nodes\n",
    "    count = 0\n",
    "    while count < k - 1 and current:\n",
    "        current = current.next\n",
    "        count += 1\n",
    "\n",
    "    # Recursively reverse the next k nodes\n",
    "    if current:\n",
    "        current.next = reverse_alternate_k_nodes(current.next, k)\n",
    "\n",
    "    return prev"
   ]
  },
  {
   "cell_type": "markdown",
   "id": "65a0f310",
   "metadata": {},
   "source": [
    "Q5"
   ]
  },
  {
   "cell_type": "code",
   "execution_count": 5,
   "id": "ad6b68c4",
   "metadata": {},
   "outputs": [],
   "source": [
    "def delete_last_occurrence(head, key):\n",
    "    if not head:\n",
    "        return head\n",
    "\n",
    "    prev = None\n",
    "    current = head\n",
    "    last_occurrence = None\n",
    "\n",
    "    # Traverse the linked list\n",
    "    while current:\n",
    "        if current.data == key:\n",
    "            last_occurrence = prev\n",
    "\n",
    "        prev = current\n",
    "        current = current.next\n",
    "\n",
    "    # If the key was found, delete the last occurrence\n",
    "    if last_occurrence:\n",
    "        last_occurrence.next = last_occurrence.next.next if last_occurrence.next else None\n",
    "    else:\n",
    "        # Check if the key is in the head node\n",
    "        if head and head.data == key:\n",
    "            head = head.next\n",
    "\n",
    "    return head"
   ]
  },
  {
   "cell_type": "markdown",
   "id": "92212f68",
   "metadata": {},
   "source": [
    "Q6"
   ]
  },
  {
   "cell_type": "code",
   "execution_count": 6,
   "id": "31c00ad2",
   "metadata": {},
   "outputs": [],
   "source": [
    "def merge_sorted_lists(head1, head2):\n",
    "    if not head1:\n",
    "        return head2\n",
    "    if not head2:\n",
    "        return head1\n",
    "\n",
    "    # Set the head to the smaller value node\n",
    "    if head1.data <= head2.data:\n",
    "        merged_head = head1\n",
    "        head1 = head1.next\n",
    "    else:\n",
    "        merged_head = head2\n",
    "        head2 = head2.next\n",
    "\n",
    "    current = merged_head\n",
    "\n",
    "    # Merge the remaining nodes\n",
    "    while head1 and head2:\n",
    "        if head1.data <= head2.data:\n",
    "            current.next = head1\n",
    "            head1 = head1.next\n",
    "        else:\n",
    "            current.next = head2\n",
    "            head2 = head2.next\n",
    "\n",
    "        current = current.next\n",
    "\n",
    "    # Append the remaining nodes of the non-empty list\n",
    "    if head1:\n",
    "        current.next = head1\n",
    "    elif head2:\n",
    "        current.next = head2\n",
    "\n",
    "    return merged_head"
   ]
  },
  {
   "cell_type": "markdown",
   "id": "42ead9f2",
   "metadata": {},
   "source": [
    "Q7"
   ]
  },
  {
   "cell_type": "code",
   "execution_count": 7,
   "id": "f0ae32f1",
   "metadata": {},
   "outputs": [],
   "source": [
    "def reverse_doubly_linked_list(head):\n",
    "    if not head:\n",
    "        return None\n",
    "\n",
    "    current = head\n",
    "\n",
    "    # Traverse to the last node\n",
    "    while current.next:\n",
    "        current = current.next\n",
    "\n",
    "    # Swap prev and next pointers for all nodes\n",
    "    while current:\n",
    "        current.next, current.prev = current.prev, current.next\n",
    "        current = current.prev\n",
    "\n",
    "    return head"
   ]
  },
  {
   "cell_type": "markdown",
   "id": "ad45bf69",
   "metadata": {},
   "source": [
    "Q8"
   ]
  },
  {
   "cell_type": "code",
   "execution_count": 8,
   "id": "01f1c4c4",
   "metadata": {},
   "outputs": [],
   "source": [
    "def delete_node(head, position):\n",
    "    if not head:\n",
    "        return None\n",
    "\n",
    "    if position == 1:\n",
    "        # If position is 1, update the head and return\n",
    "        new_head = head.next\n",
    "        if new_head:\n",
    "            new_head.prev = None\n",
    "        return new_head\n",
    "\n",
    "    current = head\n",
    "    count = 1\n",
    "\n",
    "    # Traverse to the node at the given position\n",
    "    while current and count < position:\n",
    "        current = current.next\n",
    "        count += 1\n",
    "\n",
    "    # If position is beyond the length of the list, return\n",
    "    if not current:\n",
    "        return head\n",
    "\n",
    "    # Update the links to delete the node\n",
    "    prev_node = current.prev\n",
    "    next_node = current.next\n",
    "\n",
    "    if prev_node:\n",
    "        prev_node.next = next_node\n",
    "\n",
    "    if next_node:\n",
    "        next_node.prev = prev_node\n",
    "\n",
    "    return head"
   ]
  },
  {
   "cell_type": "code",
   "execution_count": null,
   "id": "aca9220f",
   "metadata": {},
   "outputs": [],
   "source": []
  }
 ],
 "metadata": {
  "kernelspec": {
   "display_name": "Python 3 (ipykernel)",
   "language": "python",
   "name": "python3"
  },
  "language_info": {
   "codemirror_mode": {
    "name": "ipython",
    "version": 3
   },
   "file_extension": ".py",
   "mimetype": "text/x-python",
   "name": "python",
   "nbconvert_exporter": "python",
   "pygments_lexer": "ipython3",
   "version": "3.9.13"
  }
 },
 "nbformat": 4,
 "nbformat_minor": 5
}
