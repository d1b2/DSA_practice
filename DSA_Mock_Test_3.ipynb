{
 "cells": [
  {
   "cell_type": "code",
   "execution_count": null,
   "id": "e296afd3",
   "metadata": {},
   "outputs": [],
   "source": [
    "Q1"
   ]
  },
  {
   "cell_type": "code",
   "execution_count": null,
   "id": "d3cf9f76",
   "metadata": {},
   "outputs": [],
   "source": [
    "class Stack_list:\n",
    "    def __init__(self):\n",
    "        self.stack=[]  \n",
    "    #push\n",
    "    def push(self, val: int) -> list:\n",
    "        self.stack.append(val)\n",
    "        return self.stack\n",
    "    #pop\n",
    "    def pop(self) -> list:\n",
    "        if len(self.stack)!=0:\n",
    "            self.stack.pop()\n",
    "            return self.stack\n",
    "        else:\n",
    "            print(\"Stack Underflow \")\n",
    "            exit(1)\n",
    "    # is empty\n",
    "    def isEmpty(self) -> bool:\n",
    "        return len(self.stack)==0"
   ]
  },
  {
   "cell_type": "code",
   "execution_count": null,
   "id": "d22fa791",
   "metadata": {},
   "outputs": [],
   "source": [
    "stack1=Stack_list()"
   ]
  },
  {
   "cell_type": "code",
   "execution_count": null,
   "id": "ef163b40",
   "metadata": {},
   "outputs": [],
   "source": [
    "stack1.push(1)\n",
    "stack1.push(2)\n",
    "stack1.push(3)"
   ]
  },
  {
   "cell_type": "code",
   "execution_count": null,
   "id": "217fce0f",
   "metadata": {},
   "outputs": [],
   "source": [
    "stack1.isEmpty()"
   ]
  },
  {
   "cell_type": "code",
   "execution_count": null,
   "id": "f4df6e0f",
   "metadata": {},
   "outputs": [],
   "source": [
    "stack1.pop()"
   ]
  },
  {
   "cell_type": "code",
   "execution_count": null,
   "id": "e56483e0",
   "metadata": {},
   "outputs": [],
   "source": [
    "stack1.pop()\n",
    "stack1.pop()"
   ]
  },
  {
   "cell_type": "code",
   "execution_count": null,
   "id": "a30d10bd",
   "metadata": {},
   "outputs": [],
   "source": [
    "stack1.pop()"
   ]
  },
  {
   "cell_type": "code",
   "execution_count": null,
   "id": "a0d6958a",
   "metadata": {},
   "outputs": [],
   "source": [
    "stack1.isEmpty()"
   ]
  },
  {
   "cell_type": "markdown",
   "id": "4c172009",
   "metadata": {},
   "source": [
    "Q2"
   ]
  },
  {
   "cell_type": "code",
   "execution_count": null,
   "id": "af62366d",
   "metadata": {},
   "outputs": [],
   "source": [
    "class Queue_list:\n",
    "    def __init__(self):\n",
    "        self.queue=[]  \n",
    "    #enqueue\n",
    "    def enqueue(self, val: int) -> list:\n",
    "        self.queue.append(val)\n",
    "        return self.queue\n",
    "    #dequeue\n",
    "    def dequeue(self) -> None:\n",
    "        if len(self.queue)!=0:\n",
    "            self.queue.pop(0)\n",
    "            return self.queue\n",
    "        else:\n",
    "            print(\"Queue Underflow \")\n",
    "            exit(1)\n",
    "    # is empty\n",
    "    def isEmpty(self) -> bool:\n",
    "        return len(self.queue)==0"
   ]
  },
  {
   "cell_type": "code",
   "execution_count": null,
   "id": "3c54ed6b",
   "metadata": {},
   "outputs": [],
   "source": [
    "q1=Queue_list()"
   ]
  },
  {
   "cell_type": "code",
   "execution_count": null,
   "id": "1dbb94e4",
   "metadata": {},
   "outputs": [],
   "source": [
    "q1.enqueue(1)\n",
    "q1.enqueue(2)\n",
    "q1.enqueue(3)"
   ]
  },
  {
   "cell_type": "code",
   "execution_count": null,
   "id": "c7e76a92",
   "metadata": {},
   "outputs": [],
   "source": [
    "q1.isEmpty()"
   ]
  },
  {
   "cell_type": "code",
   "execution_count": null,
   "id": "45699a24",
   "metadata": {},
   "outputs": [],
   "source": [
    "q1.dequeue()"
   ]
  },
  {
   "cell_type": "code",
   "execution_count": null,
   "id": "8d7c3be1",
   "metadata": {},
   "outputs": [],
   "source": [
    "q1.dequeue()\n",
    "q1.dequeue()"
   ]
  },
  {
   "cell_type": "code",
   "execution_count": null,
   "id": "8661583d",
   "metadata": {},
   "outputs": [],
   "source": [
    "q1.dequeue()"
   ]
  },
  {
   "cell_type": "code",
   "execution_count": null,
   "id": "8fa7226e",
   "metadata": {},
   "outputs": [],
   "source": [
    "q1.isEmpty()"
   ]
  },
  {
   "cell_type": "code",
   "execution_count": null,
   "id": "6d8c2bb4",
   "metadata": {},
   "outputs": [],
   "source": []
  }
 ],
 "metadata": {
  "kernelspec": {
   "display_name": "Python 3 (ipykernel)",
   "language": "python",
   "name": "python3"
  },
  "language_info": {
   "codemirror_mode": {
    "name": "ipython",
    "version": 3
   },
   "file_extension": ".py",
   "mimetype": "text/x-python",
   "name": "python",
   "nbconvert_exporter": "python",
   "pygments_lexer": "ipython3",
   "version": "3.9.13"
  }
 },
 "nbformat": 4,
 "nbformat_minor": 5
}
