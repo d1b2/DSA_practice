{
 "cells": [
  {
   "cell_type": "markdown",
   "id": "d50ce61e",
   "metadata": {},
   "source": [
    "Q1"
   ]
  },
  {
   "cell_type": "code",
   "execution_count": 1,
   "id": "6f4b5ed9",
   "metadata": {},
   "outputs": [],
   "source": [
    "def deleteMiddle(head):\n",
    "        if not head.next:\n",
    "            return None\n",
    "        #task1 find middle of linked list\n",
    "        \n",
    "        #slow and fast pointer\n",
    "        fast=head.next.next\n",
    "        slow=head\n",
    "        #loop will stop when slow is one element before middle\n",
    "        while  fast and fast.next:\n",
    "            slow=slow.next\n",
    "            fast=fast.next.next\n",
    "            \n",
    "        #task2 delete middle link\n",
    "        slow.next=slow.next.next       \n",
    "        \n",
    "        return head"
   ]
  },
  {
   "cell_type": "markdown",
   "id": "e4973ee5",
   "metadata": {},
   "source": [
    "Q2"
   ]
  },
  {
   "cell_type": "code",
   "execution_count": 2,
   "id": "95b75822",
   "metadata": {},
   "outputs": [],
   "source": [
    "    def detectLoop(head):\n",
    "        \n",
    "        # slow fast pointer\n",
    "        slow=head\n",
    "        fast=head.next\n",
    "        \n",
    "        while fast and fast.next:\n",
    "            slow=slow.next\n",
    "            fast=fast.next.next\n",
    "            #condition for loop\n",
    "            if slow==fast:\n",
    "                return True\n",
    "        \n",
    "        return False"
   ]
  },
  {
   "cell_type": "markdown",
   "id": "3e855d17",
   "metadata": {},
   "source": [
    "Q3"
   ]
  },
  {
   "cell_type": "code",
   "execution_count": 3,
   "id": "7fbc9b84",
   "metadata": {},
   "outputs": [],
   "source": [
    "def getNthFromLast(head,n):\n",
    "        #slow fast approach\n",
    "        slow=head\n",
    "        fast=head\n",
    "        #move fast n times ahead\n",
    "        for i in range(n):\n",
    "            #fast exists if n<=length of linked list\n",
    "            if fast:\n",
    "                fast=fast.next\n",
    "            #condition1: n> greater than length of linked list\n",
    "            else:\n",
    "                return -1\n",
    "        \n",
    "        #condition2 : fast becomes null(n=length of linked list) then return first element i.e head\n",
    "        if not fast:\n",
    "            return head.data\n",
    "        #condtiton 3 : fast i not null(n <length of linked list)\n",
    "        #move slow and fast till fast reaches last node(fast.next=none) and return slow.next\n",
    "        while fast.next:\n",
    "            fast=fast.next\n",
    "            slow=slow.next\n"
   ]
  },
  {
   "cell_type": "markdown",
   "id": "9ea32881",
   "metadata": {},
   "source": [
    "Q4"
   ]
  },
  {
   "cell_type": "code",
   "execution_count": 4,
   "id": "32a1d678",
   "metadata": {},
   "outputs": [],
   "source": [
    "\n",
    "    def isPalindrome(head) -> bool:\n",
    "        if head is None:\n",
    "            return head\n",
    "        #slow fast pointer approach\n",
    "        #task1 find middle\n",
    "        slow=head\n",
    "        fast=head\n",
    "        while fast and fast.next:\n",
    "            slow=slow.next\n",
    "            fast=fast.next.next\n",
    "        \n",
    "        #task2 check length is even or odd\n",
    "        #if fast is not none then length is odd in this case slow should move one slow ahead\n",
    "        if fast:            \n",
    "            slow=slow.next            \n",
    "        \n",
    "        #task3 reverse the second half of linked list\n",
    "        previous = None\n",
    "        \n",
    "        while slow:\n",
    "            temp = slow.next\n",
    "            slow.next = previous\n",
    "            previous = slow\n",
    "            slow = temp\n",
    "        #now previous is head of reversed part of list\n",
    "        #task4 traverse first falf from head and second half from last i.e. previous and compare values\n",
    "        while previous :\n",
    "            if head.val!=previous.val:\n",
    "                return False\n",
    "            head=head.next\n",
    "            previous=previous.next\n",
    "        return True"
   ]
  },
  {
   "cell_type": "markdown",
   "id": "f454fce2",
   "metadata": {},
   "source": [
    "Q5"
   ]
  },
  {
   "cell_type": "code",
   "execution_count": 5,
   "id": "601745e2",
   "metadata": {},
   "outputs": [],
   "source": [
    "    def removeLoop(head):        \n",
    "         #slow fast pointer\n",
    "        slow = past = head\n",
    "        # Run a loop until fast and fast.next is equal to null\n",
    "        while fast and fast.next:\n",
    "            # Moving slow by 1 & fast by 2\n",
    "            slow = slow.next\n",
    "            fast=fast.next.next\n",
    "            # found the cycle.\n",
    "            if slow == fast: \n",
    "                break\n",
    "        # In case there is no cycle or no meeting point\n",
    "        if (fast is None or fast.next is None) :\n",
    "            return 0\n",
    "        #make slow equal to head\n",
    "        slow=head\n",
    "        # run loop until again slow.next & fast.next don't collab.\n",
    "        while fast.next != slow.next:\n",
    "            # Moving slow and fast by 1.\n",
    "            slow = slow.next\n",
    "            fast = fast.next\n",
    "        #unlink fast .next\n",
    "        fast.next=None\n",
    "        return 1"
   ]
  },
  {
   "cell_type": "markdown",
   "id": "7b15af94",
   "metadata": {},
   "source": [
    "Q6"
   ]
  },
  {
   "cell_type": "code",
   "execution_count": 6,
   "id": "34612823",
   "metadata": {},
   "outputs": [],
   "source": [
    "def keep_m_del_n(head,m,n):\n",
    "    # if head is none then return none also if m=0 it means keep nothing\n",
    "    if head is None  or m==0:\n",
    "        return None\n",
    "    # if only one element is present and m>0 then return head\n",
    "    elif head.next is None:\n",
    "        return head\n",
    "    # if n=0 it means nothing is to be removed\n",
    "    elif n==0:\n",
    "        return head\n",
    "    \n",
    "    curr=head\n",
    "    temp=head\n",
    "    while curr:\n",
    "        #keep first m elements including current hence iterate m-1 times\n",
    "        for i in range(m-1):\n",
    "            if curr:\n",
    "                curr=curr.next\n",
    "        #if current becomes none return head\n",
    "        if curr is None:\n",
    "                return head\n",
    "        #assign curr to temp vairable\n",
    "        temp=curr\n",
    "        for j in range(n):\n",
    "            if temp:\n",
    "                temp=temp.next\n",
    "        \n",
    "        #change curr.next to temp.next if temp is not none\n",
    "        if temp:\n",
    "            curr.next=temp.next\n",
    "        else:\n",
    "            curr.next=None\n",
    "        curr=curr.next    \n",
    "    return head"
   ]
  },
  {
   "cell_type": "markdown",
   "id": "374e096d",
   "metadata": {},
   "source": [
    "Q7"
   ]
  },
  {
   "cell_type": "code",
   "execution_count": 7,
   "id": "e3e39890",
   "metadata": {},
   "outputs": [],
   "source": [
    "def mergeList(head1, head2):\n",
    "    if head1==None:\n",
    "        return [None,head2]\n",
    "    elif head2==None:\n",
    "        return [head1,None]\n",
    "    #initialise linked lists with head nodes\n",
    "    c1=head1\n",
    "    c2=head2\n",
    "    #if any of node becomes none stop loop\n",
    "    while c1 and c2:\n",
    "        #making temp to store next pointers\n",
    "        temp1=c1.next\n",
    "        \n",
    "        #changing the next pointers\n",
    "        c1.next=c2\n",
    "        c1.next.next=temp1\n",
    "        \n",
    "        \n",
    "        #loop ahead c2 one time and c1 2 times if c1.next is not none\n",
    "        c2=c2.next\n",
    "        if c1.next:\n",
    "            c1=c1.next.next \n",
    "        else:\n",
    "            c1=c1.next\n",
    "\n",
    "    \n",
    "    return [head1, c2]"
   ]
  },
  {
   "cell_type": "markdown",
   "id": "bb97e948",
   "metadata": {},
   "source": [
    "Q8"
   ]
  },
  {
   "cell_type": "code",
   "execution_count": 8,
   "id": "d67ab122",
   "metadata": {},
   "outputs": [],
   "source": [
    "def isCircular(head):\n",
    "    if head == None:\n",
    "        return True\n",
    "  \n",
    "    # Next of head\n",
    "    node = head.next    \n",
    "  \n",
    "    # This loop would stop in both cases \n",
    "    # (1) Not circular node becomes none (2)Circular node==head\n",
    "    while((node is not None) and (node is not head)):\n",
    "        node = node.next\n",
    "  \n",
    "    return(node == head)"
   ]
  },
  {
   "cell_type": "code",
   "execution_count": null,
   "id": "c9a9aab9",
   "metadata": {},
   "outputs": [],
   "source": []
  }
 ],
 "metadata": {
  "kernelspec": {
   "display_name": "Python 3 (ipykernel)",
   "language": "python",
   "name": "python3"
  },
  "language_info": {
   "codemirror_mode": {
    "name": "ipython",
    "version": 3
   },
   "file_extension": ".py",
   "mimetype": "text/x-python",
   "name": "python",
   "nbconvert_exporter": "python",
   "pygments_lexer": "ipython3",
   "version": "3.9.13"
  }
 },
 "nbformat": 4,
 "nbformat_minor": 5
}
