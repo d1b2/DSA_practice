{
 "cells": [
  {
   "cell_type": "code",
   "execution_count": 1,
   "id": "fd18a026",
   "metadata": {},
   "outputs": [],
   "source": [
    "class TreeNode:\n",
    "    def __init__(self, data):\n",
    "        self.data = data\n",
    "        self.left = None\n",
    "        self.right = None\n",
    "\n",
    "\n",
    "class DLLNode:\n",
    "    def __init__(self, data):\n",
    "        self.data = data\n",
    "        self.prev = None\n",
    "        self.next = None"
   ]
  },
  {
   "cell_type": "markdown",
   "id": "c9574345",
   "metadata": {},
   "source": [
    "    Tree with nodes\n",
    "         a\n",
    "        / \\\n",
    "       b    c\n",
    "      / \\   /\\\n",
    "     d   e f  g \n",
    "     \n",
    "    \n",
    "    Value of nodes    \n",
    "         1\n",
    "        / \\\n",
    "       2    3\n",
    "      / \\   /\\\n",
    "     4   5 6  7 "
   ]
  },
  {
   "cell_type": "code",
   "execution_count": 2,
   "id": "ae13f992",
   "metadata": {},
   "outputs": [],
   "source": [
    "#TREE1\n",
    "#Creating nodes\n",
    "a=TreeNode(1)\n",
    "b=TreeNode(2)\n",
    "c=TreeNode(3)\n",
    "d=TreeNode(4)\n",
    "e=TreeNode(5)\n",
    "f=TreeNode(6)\n",
    "g=TreeNode(7)\n",
    "#makinng connections\n",
    "a.left=b\n",
    "a.right=c\n",
    "b.left=d\n",
    "b.right=e\n",
    "c.left=f\n",
    "c.right=g"
   ]
  },
  {
   "cell_type": "markdown",
   "id": "198e3610",
   "metadata": {},
   "source": [
    "Q1"
   ]
  },
  {
   "cell_type": "code",
   "execution_count": 3,
   "id": "68c678c9",
   "metadata": {},
   "outputs": [],
   "source": [
    "def convert_BT_2_DLL(root):\n",
    "    if root is None:\n",
    "        return None\n",
    "    \n",
    "    stack = []  \n",
    "    prev_node = None  \n",
    "    current = root  # Start from the root node\n",
    "    head = None  # Pointer to store the head of doubly linked list\n",
    "    \n",
    "    while current or stack:\n",
    "        # Traverse all the way to the left, pushing each node in the stack\n",
    "        while current:\n",
    "            stack.append(current)\n",
    "            current = current.left\n",
    "        \n",
    "        current = stack.pop()  # Process the nodes from the stack one by one\n",
    "        \n",
    "        doubly_node = DLLNode(current.data)  # Convert the node to a doubly linked list node\n",
    "        \n",
    "        if prev_node is None:\n",
    "            # If it's the first node, update the head pointer\n",
    "            head = doubly_node\n",
    "        else:\n",
    "            # Connect the previous node with the current node\n",
    "            prev_node.next = doubly_node\n",
    "            doubly_node.prev = prev_node\n",
    "        \n",
    "        prev_node = doubly_node  # Update the previous node\n",
    "        \n",
    "        current = current.right  # Move to the right child\n",
    "    \n",
    "    return head  "
   ]
  },
  {
   "cell_type": "code",
   "execution_count": 4,
   "id": "65fc1e7b",
   "metadata": {},
   "outputs": [],
   "source": [
    "def inOrder(root):\n",
    "    if root:\n",
    "        ## recursive call for the left subtree\n",
    "        inOrder(root.left)\n",
    "        print(str(root.data)+ \" \", end=' ')\n",
    "        ## recursive call for the right subtree\n",
    "        inOrder(root.right)"
   ]
  },
  {
   "cell_type": "code",
   "execution_count": 5,
   "id": "5289c953",
   "metadata": {},
   "outputs": [
    {
     "name": "stdout",
     "output_type": "stream",
     "text": [
      "Printing inorder traversal of Binary tree\n",
      "4  2  5  1  6  3  7  <__main__.TreeNode object at 0x000001AA082234F0>\n"
     ]
    }
   ],
   "source": [
    "print(\"Printing inorder traversal of Binary tree\")\n",
    "inOrder(a)\n",
    "print(a)"
   ]
  },
  {
   "cell_type": "code",
   "execution_count": 6,
   "id": "a2defab0",
   "metadata": {},
   "outputs": [
    {
     "name": "stdout",
     "output_type": "stream",
     "text": [
      "\n",
      "Printing Linked list\n",
      "4  2  5  1  6  3  7  <__main__.DLLNode object at 0x000001AA081ED220>\n"
     ]
    }
   ],
   "source": [
    "# Convert the binary tree to a doubly linked list\n",
    "head = convert_BT_2_DLL(a)\n",
    "# Print the doubly linked list\n",
    "current = head\n",
    "print(\"\\nPrinting Linked list\")\n",
    "while current:\n",
    "    print(str(current.data)+\" \", end=\" \")\n",
    "    current = current.next\n",
    "print(head)"
   ]
  },
  {
   "cell_type": "markdown",
   "id": "0d8a4bda",
   "metadata": {},
   "source": [
    "Q2"
   ]
  },
  {
   "cell_type": "code",
   "execution_count": 7,
   "id": "c584fe55",
   "metadata": {},
   "outputs": [],
   "source": [
    "def flip_BT(root):\n",
    "     \n",
    "    # Base Cases\n",
    "    if root is None:\n",
    "        return root\n",
    "     \n",
    "    if (root.left is None and root.right is None):#leaf node\n",
    "        return root\n",
    " \n",
    "    # Recursively call to lef and right subtrees\n",
    "    flipped_left = flip_BT(root.left)\n",
    "    flipped_right = flip_BT(root.right)\n",
    "    \n",
    "    root.left=None #left child of root none\n",
    "    root.right = flipped_left \n",
    "    \n",
    "    curr=flipped_left\n",
    "    #moving to rightmost node of fliped left subtree\n",
    "    while curr.right:\n",
    "        curr=curr.right\n",
    "    \n",
    "    curr.right=flipped_right\n",
    "    \n",
    "    return root"
   ]
  },
  {
   "cell_type": "code",
   "execution_count": 8,
   "id": "2f094d59",
   "metadata": {},
   "outputs": [
    {
     "name": "stdout",
     "output_type": "stream",
     "text": [
      "Printing inorder traversal of Binary tree\n",
      "4  2  5  1  6  3  7  <__main__.TreeNode object at 0x000001AA082234F0>\n"
     ]
    }
   ],
   "source": [
    "print(\"Printing inorder traversal of Binary tree\")\n",
    "inOrder(a)\n",
    "print(a)"
   ]
  },
  {
   "cell_type": "code",
   "execution_count": 9,
   "id": "ba468917",
   "metadata": {},
   "outputs": [
    {
     "name": "stdout",
     "output_type": "stream",
     "text": [
      "Printing inorder traversal of Binary tree after flipping\n",
      "1  2  4  5  3  6  7  <__main__.TreeNode object at 0x000001AA082234F0>\n"
     ]
    }
   ],
   "source": [
    "b = flip_BT(a)\n",
    "print(\"Printing inorder traversal of Binary tree after flipping\")\n",
    "inOrder(b)\n",
    "print(b)"
   ]
  },
  {
   "cell_type": "markdown",
   "id": "6f091b0c",
   "metadata": {},
   "source": [
    "Q3"
   ]
  },
  {
   "cell_type": "markdown",
   "id": "8ae5d4fd",
   "metadata": {},
   "source": [
    "            6\n",
    "         /    \\\n",
    "        3      5\n",
    "      /   \\     \\\n",
    "     2     5     4\n",
    "         /   \\\n",
    "        7     4\n"
   ]
  },
  {
   "cell_type": "code",
   "execution_count": 10,
   "id": "55cd3889",
   "metadata": {},
   "outputs": [],
   "source": [
    "#TREE1\n",
    "#Creating nodes\n",
    "root=TreeNode(6)\n",
    "root.left=TreeNode(3)\n",
    "root.right=TreeNode(5)\n",
    "root.right.right=TreeNode(4)\n",
    "root.left.left=TreeNode(2)\n",
    "root.left.right=TreeNode(5)\n",
    "root.left.right.left=TreeNode(7)\n",
    "root.left.right.right=TreeNode(4)"
   ]
  },
  {
   "cell_type": "code",
   "execution_count": 11,
   "id": "6b5b22b5",
   "metadata": {},
   "outputs": [],
   "source": [
    "def print_path(root:TreeNode,string:str)->None:\n",
    "    if root is None:\n",
    "        return None\n",
    "    if root.left is None and root.right is None:#condition of leaf node\n",
    "        print(string+str(root.data))#when leaf node then print string\n",
    "        return\n",
    "    #call to left subtree\n",
    "    print_path(root.left,string+str(root.data)+\"->\") \n",
    "    #call to right subtree\n",
    "    print_path(root.right,string+str(root.data)+\"->\")"
   ]
  },
  {
   "cell_type": "code",
   "execution_count": 12,
   "id": "d7062da0",
   "metadata": {},
   "outputs": [
    {
     "name": "stdout",
     "output_type": "stream",
     "text": [
      "6->3->2\n",
      "6->3->5->7\n",
      "6->3->5->4\n",
      "6->5->4\n"
     ]
    }
   ],
   "source": [
    "print_path(root,\"\")"
   ]
  },
  {
   "cell_type": "markdown",
   "id": "1d1f6624",
   "metadata": {},
   "source": [
    "Q4"
   ]
  },
  {
   "cell_type": "code",
   "execution_count": 13,
   "id": "27fcf6fc",
   "metadata": {},
   "outputs": [],
   "source": [
    "def check_tree(inorder:list[int], preorder:list[int], postorder:list[int])->bool:\n",
    "    #zero length same tree\n",
    "    if len(inorder) == len(preorder) == len(postorder) == 0:\n",
    "        return True\n",
    "    #lenght of all three not same then tree are diffrent\n",
    "    if len(inorder) != len(preorder) or len(inorder) != len(postorder):       \n",
    "        return False\n",
    "    \n",
    "    #if same number of unique elements not present then tree are diffrent\n",
    "    if set(inorder) != set(preorder) or set(inorder) != set(postorder):\n",
    "        return False\n",
    "    #single element present also since above conditions are fals so len of unique elements are same\n",
    "    if len(inorder) == len(preorder) == len(postorder) == 1:\n",
    "        return True\n",
    "    \n",
    "    root = preorder[0]  # First element of preorder is the root\n",
    "    \n",
    "    root_index_inorder = inorder.index(root)  # Find the index of the root in inorder\n",
    "    \n",
    "    #inorder left subtree and right subtree elements\n",
    "    left_inorder = inorder[:root_index_inorder]  \n",
    "    right_inorder = inorder[root_index_inorder + 1:]\n",
    "    \n",
    "    #preorder left subtree and right subtree elements\n",
    "    left_preorder = preorder[1:root_index_inorder + 1]  \n",
    "    right_preorder = preorder[root_index_inorder + 1:]  \n",
    "    \n",
    "    #postorder left subtree and right subtree elements\n",
    "    left_postorder = postorder[:root_index_inorder]  \n",
    "    right_postorder = postorder[root_index_inorder:-1] \n",
    "    \n",
    "    #call to left subtrees\n",
    "    left_subtree_flag=check_tree(left_inorder, left_preorder, left_postorder)\n",
    "    #call to right subtrees\n",
    "    right_subtree_flag=check_tree(right_inorder, right_preorder, right_postorder)\n",
    "    \n",
    "    return left_subtree_flag and left_subtree_flag\n",
    "           "
   ]
  },
  {
   "cell_type": "code",
   "execution_count": 14,
   "id": "f5e2f753",
   "metadata": {},
   "outputs": [
    {
     "name": "stdout",
     "output_type": "stream",
     "text": [
      "True\n"
     ]
    }
   ],
   "source": [
    "inorder = [4, 2, 5, 1, 3]\n",
    "preorder = [1, 2, 4, 5, 3]\n",
    "postorder = [4, 5, 2, 3, 1]\n",
    "print(check_tree(inorder, preorder, postorder))  "
   ]
  },
  {
   "cell_type": "code",
   "execution_count": 15,
   "id": "cdedd74a",
   "metadata": {},
   "outputs": [
    {
     "name": "stdout",
     "output_type": "stream",
     "text": [
      "False\n"
     ]
    }
   ],
   "source": [
    "inorder = [4, 2, 5, 1, 3]\n",
    "preorder = [1, 2, 4, 3, 5]\n",
    "postorder = [4, 5, 2, 3, 1]\n",
    "print(check_tree(inorder, preorder, postorder)) "
   ]
  },
  {
   "cell_type": "code",
   "execution_count": null,
   "id": "348b8b87",
   "metadata": {},
   "outputs": [],
   "source": []
  }
 ],
 "metadata": {
  "kernelspec": {
   "display_name": "Python 3 (ipykernel)",
   "language": "python",
   "name": "python3"
  },
  "language_info": {
   "codemirror_mode": {
    "name": "ipython",
    "version": 3
   },
   "file_extension": ".py",
   "mimetype": "text/x-python",
   "name": "python",
   "nbconvert_exporter": "python",
   "pygments_lexer": "ipython3",
   "version": "3.9.13"
  }
 },
 "nbformat": 4,
 "nbformat_minor": 5
}
