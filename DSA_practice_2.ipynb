{
 "cells": [
  {
   "cell_type": "code",
   "execution_count": null,
   "id": "09e1c913",
   "metadata": {},
   "outputs": [],
   "source": []
  },
  {
   "cell_type": "markdown",
   "id": "b21d6311",
   "metadata": {},
   "source": [
    "#### Q1"
   ]
  },
  {
   "cell_type": "code",
   "execution_count": 1,
   "id": "aeedb6fe",
   "metadata": {},
   "outputs": [],
   "source": [
    "def arrayPairSum(nums: list[int]) -> int:\n",
    "    nums.sort()\n",
    "    max_sum=0\n",
    "    n=len(nums)\n",
    "    for i in range(0,n,2):\n",
    "        max_sum+=min(nums[i],nums[i+1])\n",
    "    return max_sum"
   ]
  },
  {
   "cell_type": "code",
   "execution_count": 2,
   "id": "7ca83e91",
   "metadata": {},
   "outputs": [
    {
     "data": {
      "text/plain": [
       "9"
      ]
     },
     "execution_count": 2,
     "metadata": {},
     "output_type": "execute_result"
    }
   ],
   "source": [
    "nums = [6,2,6,5,1,2]\n",
    "arrayPairSum(nums)"
   ]
  },
  {
   "cell_type": "code",
   "execution_count": 3,
   "id": "f85c5185",
   "metadata": {},
   "outputs": [
    {
     "data": {
      "text/plain": [
       "4"
      ]
     },
     "execution_count": 3,
     "metadata": {},
     "output_type": "execute_result"
    }
   ],
   "source": [
    "nums = [1,4,3,2]\n",
    "arrayPairSum(nums)"
   ]
  },
  {
   "cell_type": "markdown",
   "id": "8975a3b9",
   "metadata": {},
   "source": [
    "#### Q2"
   ]
  },
  {
   "cell_type": "code",
   "execution_count": 4,
   "id": "56bfb8ce",
   "metadata": {},
   "outputs": [],
   "source": [
    "def distributeCandies(candyType: list[int]) -> int:\n",
    "    unique_candies=len(set(candyType))\n",
    "    return min(unique_candies,len(candyType)//2)"
   ]
  },
  {
   "cell_type": "code",
   "execution_count": 5,
   "id": "a3d328fb",
   "metadata": {},
   "outputs": [
    {
     "data": {
      "text/plain": [
       "2"
      ]
     },
     "execution_count": 5,
     "metadata": {},
     "output_type": "execute_result"
    }
   ],
   "source": [
    "candyType = [1,1,2,3]\n",
    "distributeCandies(candyType)"
   ]
  },
  {
   "cell_type": "code",
   "execution_count": 6,
   "id": "47e31258",
   "metadata": {},
   "outputs": [
    {
     "data": {
      "text/plain": [
       "3"
      ]
     },
     "execution_count": 6,
     "metadata": {},
     "output_type": "execute_result"
    }
   ],
   "source": [
    "candyType = [1,1,2,2,3,3]\n",
    "distributeCandies(candyType)"
   ]
  },
  {
   "cell_type": "markdown",
   "id": "869a1a3b",
   "metadata": {},
   "source": [
    "#### Q3"
   ]
  },
  {
   "cell_type": "code",
   "execution_count": 7,
   "id": "92a8e368",
   "metadata": {},
   "outputs": [],
   "source": [
    "def findLHS(nums: list[int]) -> int:\n",
    "    num_dict= {}\n",
    "    max_LHS = 0\n",
    "    for i in nums:\n",
    "        if i not in num_dict:\n",
    "            num_dict[i] = 1\n",
    "        else:\n",
    "            num_dict[i]+=1\n",
    "    for i in num_dict:\n",
    "        if i+1 in num_dict.keys():\n",
    "            max_LHS = max(max_LHS, num_dict[i]+num_dict[i+1])\n",
    "    return max_LHS"
   ]
  },
  {
   "cell_type": "code",
   "execution_count": 8,
   "id": "0f5e8f33",
   "metadata": {},
   "outputs": [
    {
     "data": {
      "text/plain": [
       "5"
      ]
     },
     "execution_count": 8,
     "metadata": {},
     "output_type": "execute_result"
    }
   ],
   "source": [
    "nums = [1,3,2,2,5,2,3,7]\n",
    "findLHS(nums)"
   ]
  },
  {
   "cell_type": "code",
   "execution_count": 9,
   "id": "39859b6b",
   "metadata": {},
   "outputs": [
    {
     "data": {
      "text/plain": [
       "2"
      ]
     },
     "execution_count": 9,
     "metadata": {},
     "output_type": "execute_result"
    }
   ],
   "source": [
    "nums = [1,2,3,4]\n",
    "findLHS(nums)"
   ]
  },
  {
   "cell_type": "markdown",
   "id": "dcfe245a",
   "metadata": {},
   "source": [
    "#### Q4"
   ]
  },
  {
   "cell_type": "code",
   "execution_count": 10,
   "id": "f45bae71",
   "metadata": {},
   "outputs": [],
   "source": [
    "def canPlaceFlowers( flowerbed: list[int], n: int) -> bool:\n",
    "        count = 0\n",
    "        for i in range(len(flowerbed)):           \n",
    "            if flowerbed[i] == 0:#check current ,right and left plots               \n",
    "                left_plot = (i == 0) or (flowerbed[i - 1] == 0)\n",
    "                right_plot = (i == len(flowerbed) - 1) or (flowerbed[i + 1] == 0)                \n",
    "                \n",
    "                if left_plot and right_plot:#both are empty plant flower\n",
    "                    flowerbed[i] = 1\n",
    "                    count += 1\n",
    "                    if count >= n:\n",
    "                        return True\n",
    "        \n",
    "        return count >= n"
   ]
  },
  {
   "cell_type": "code",
   "execution_count": 11,
   "id": "975eabd5",
   "metadata": {},
   "outputs": [
    {
     "data": {
      "text/plain": [
       "True"
      ]
     },
     "execution_count": 11,
     "metadata": {},
     "output_type": "execute_result"
    }
   ],
   "source": [
    "flowerbed = [1,0,0,0,1]\n",
    "n = 1\n",
    "canPlaceFlowers(flowerbed, n)"
   ]
  },
  {
   "cell_type": "code",
   "execution_count": 12,
   "id": "2695e778",
   "metadata": {},
   "outputs": [
    {
     "data": {
      "text/plain": [
       "False"
      ]
     },
     "execution_count": 12,
     "metadata": {},
     "output_type": "execute_result"
    }
   ],
   "source": [
    "flowerbed = [1,0,0,0,1]\n",
    "n = 2\n",
    "canPlaceFlowers(flowerbed, n)"
   ]
  },
  {
   "cell_type": "markdown",
   "id": "90ad093f",
   "metadata": {},
   "source": [
    "#### Q5"
   ]
  },
  {
   "cell_type": "code",
   "execution_count": 13,
   "id": "2b4a4f8b",
   "metadata": {},
   "outputs": [],
   "source": [
    "def maximumProduct(nums: list[int]) -> int:\n",
    "        #take 2 mins (min1<min2)and 3 max(max1>max2>max3)\n",
    "        min1, min2 = float('inf'), float('inf')\n",
    "        max1, max2, max3 = float('-inf'), float('-inf'), float('-inf')\n",
    "        for n in nums:\n",
    "            if n <= min1:\n",
    "                min2 = min1\n",
    "                min1 = n\n",
    "            elif n <= min2:\n",
    "                min2 = n\n",
    "            if n >= max1:\n",
    "                max3 = max2\n",
    "                max2 = max1\n",
    "                max1 = n\n",
    "            elif n >= max2:\n",
    "                max3 = max2\n",
    "                max2 = n\n",
    "            elif n >= max3:\n",
    "                max3 = n\n",
    "        \n",
    "        return max(min1 * min2 * max1, max1 * max2 * max3)"
   ]
  },
  {
   "cell_type": "code",
   "execution_count": 14,
   "id": "104c76d8",
   "metadata": {},
   "outputs": [
    {
     "data": {
      "text/plain": [
       "6"
      ]
     },
     "execution_count": 14,
     "metadata": {},
     "output_type": "execute_result"
    }
   ],
   "source": [
    "nums = [1,2,3]\n",
    "maximumProduct(nums)"
   ]
  },
  {
   "cell_type": "code",
   "execution_count": 15,
   "id": "b6cf5af7",
   "metadata": {},
   "outputs": [
    {
     "data": {
      "text/plain": [
       "-6"
      ]
     },
     "execution_count": 15,
     "metadata": {},
     "output_type": "execute_result"
    }
   ],
   "source": [
    "nums = [-1,-2,-3]\n",
    "maximumProduct(nums)"
   ]
  },
  {
   "cell_type": "markdown",
   "id": "5ffe7c34",
   "metadata": {},
   "source": [
    "#### Q6"
   ]
  },
  {
   "cell_type": "code",
   "execution_count": 16,
   "id": "9c29a32b",
   "metadata": {},
   "outputs": [],
   "source": [
    "def twoSum( nums: list[int], target: int) -> list[int]:\n",
    "        for i in range(len(nums)):\n",
    "            for j in range (i+1, len(nums)):\n",
    "                if nums[i]+nums[j]==target:\n",
    "                    return [i,j]"
   ]
  },
  {
   "cell_type": "code",
   "execution_count": 17,
   "id": "11247e65",
   "metadata": {},
   "outputs": [
    {
     "data": {
      "text/plain": [
       "[1, 4]"
      ]
     },
     "execution_count": 17,
     "metadata": {},
     "output_type": "execute_result"
    }
   ],
   "source": [
    "nums = [-1,0,3,5,9,12]\n",
    "target = 9\n",
    "twoSum(nums, target)"
   ]
  },
  {
   "cell_type": "code",
   "execution_count": 18,
   "id": "61eb5db1",
   "metadata": {},
   "outputs": [
    {
     "data": {
      "text/plain": [
       "[0, 1]"
      ]
     },
     "execution_count": 18,
     "metadata": {},
     "output_type": "execute_result"
    }
   ],
   "source": [
    "nums = [2,7,11,15]\n",
    "target = 9\n",
    "twoSum(nums, target)"
   ]
  },
  {
   "cell_type": "markdown",
   "id": "bf833c02",
   "metadata": {},
   "source": [
    "#### Q7"
   ]
  },
  {
   "cell_type": "code",
   "execution_count": 19,
   "id": "d6fd2fb4",
   "metadata": {},
   "outputs": [],
   "source": [
    "    def isMonotonic(nums: list[int]) -> bool:\n",
    "        inc_counter=1\n",
    "        dec_counter=1\n",
    "        for i in range(1,len(nums)):\n",
    "            \n",
    "            if nums[i]>nums[i-1]:\n",
    "                inc_counter+=1\n",
    "            elif nums[i]<nums[i-1]:\n",
    "                dec_counter+=1\n",
    "            else:\n",
    "                inc_counter+=1\n",
    "                dec_counter+=1\n",
    "        print(f'Dec:{dec_counter}, Inc:{inc_counter}')\n",
    "        if dec_counter==len(nums) or inc_counter==len(nums):\n",
    "            return True\n",
    "        else:\n",
    "            return False"
   ]
  },
  {
   "cell_type": "code",
   "execution_count": 20,
   "id": "f158861b",
   "metadata": {},
   "outputs": [
    {
     "name": "stdout",
     "output_type": "stream",
     "text": [
      "Dec:4, Inc:2\n"
     ]
    },
    {
     "data": {
      "text/plain": [
       "True"
      ]
     },
     "execution_count": 20,
     "metadata": {},
     "output_type": "execute_result"
    }
   ],
   "source": [
    "nums = [6,5,4,4]\n",
    "isMonotonic(nums)"
   ]
  },
  {
   "cell_type": "code",
   "execution_count": 21,
   "id": "1020f0bd",
   "metadata": {},
   "outputs": [
    {
     "name": "stdout",
     "output_type": "stream",
     "text": [
      "Dec:2, Inc:4\n"
     ]
    },
    {
     "data": {
      "text/plain": [
       "True"
      ]
     },
     "execution_count": 21,
     "metadata": {},
     "output_type": "execute_result"
    }
   ],
   "source": [
    "nums =[1,2,2,3]\n",
    "isMonotonic(nums)"
   ]
  },
  {
   "cell_type": "markdown",
   "id": "9e40d73f",
   "metadata": {},
   "source": [
    "#### Q8"
   ]
  },
  {
   "cell_type": "code",
   "execution_count": 22,
   "id": "dee0cd39",
   "metadata": {},
   "outputs": [],
   "source": [
    "def smallestRangeI(nums: list[int], k: int) -> int:\n",
    "    return max(0,max(nums)-min(nums)-2*k)"
   ]
  },
  {
   "cell_type": "code",
   "execution_count": 23,
   "id": "0788cf5f",
   "metadata": {},
   "outputs": [
    {
     "data": {
      "text/plain": [
       "0"
      ]
     },
     "execution_count": 23,
     "metadata": {},
     "output_type": "execute_result"
    }
   ],
   "source": [
    "nums = [1]\n",
    "k = 0\n",
    "smallestRangeI(nums, k)"
   ]
  },
  {
   "cell_type": "code",
   "execution_count": 24,
   "id": "8a0f8a4f",
   "metadata": {},
   "outputs": [
    {
     "data": {
      "text/plain": [
       "6"
      ]
     },
     "execution_count": 24,
     "metadata": {},
     "output_type": "execute_result"
    }
   ],
   "source": [
    "nums = [0,10]\n",
    "k = 2\n",
    "smallestRangeI(nums, k)"
   ]
  },
  {
   "cell_type": "code",
   "execution_count": null,
   "id": "c29354e8",
   "metadata": {},
   "outputs": [],
   "source": []
  }
 ],
 "metadata": {
  "kernelspec": {
   "display_name": "Python 3 (ipykernel)",
   "language": "python",
   "name": "python3"
  },
  "language_info": {
   "codemirror_mode": {
    "name": "ipython",
    "version": 3
   },
   "file_extension": ".py",
   "mimetype": "text/x-python",
   "name": "python",
   "nbconvert_exporter": "python",
   "pygments_lexer": "ipython3",
   "version": "3.9.13"
  }
 },
 "nbformat": 4,
 "nbformat_minor": 5
}
