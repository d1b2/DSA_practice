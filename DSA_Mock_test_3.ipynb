{
 "cells": [
  {
   "cell_type": "markdown",
   "id": "7440f8a0",
   "metadata": {},
   "source": [
    "Q1"
   ]
  },
  {
   "cell_type": "code",
   "execution_count": 1,
   "id": "d8a420ac",
   "metadata": {},
   "outputs": [],
   "source": [
    "class Stack_list:\n",
    "    def __init__(self):\n",
    "        self.stack=[]  \n",
    "    #push\n",
    "    def push(self, val: int) -> list:\n",
    "        self.stack.append(val)\n",
    "        return self.stack\n",
    "    #pop\n",
    "    def pop(self) -> list:\n",
    "        if len(self.stack)!=0:\n",
    "            self.stack.pop()\n",
    "            return self.stack\n",
    "        else:\n",
    "            print(\"Stack Underflow \")\n",
    "            exit(1)\n",
    "    # is empty\n",
    "    def isEmpty(self) -> bool:\n",
    "        return len(self.stack)==0"
   ]
  },
  {
   "cell_type": "code",
   "execution_count": 2,
   "id": "bcb31410",
   "metadata": {},
   "outputs": [],
   "source": [
    "stack1=Stack_list()"
   ]
  },
  {
   "cell_type": "code",
   "execution_count": 3,
   "id": "c261426b",
   "metadata": {},
   "outputs": [
    {
     "data": {
      "text/plain": [
       "[1, 2, 3]"
      ]
     },
     "execution_count": 3,
     "metadata": {},
     "output_type": "execute_result"
    }
   ],
   "source": [
    "stack1.push(1)\n",
    "stack1.push(2)\n",
    "stack1.push(3)"
   ]
  },
  {
   "cell_type": "code",
   "execution_count": 4,
   "id": "a99576e2",
   "metadata": {},
   "outputs": [
    {
     "data": {
      "text/plain": [
       "False"
      ]
     },
     "execution_count": 4,
     "metadata": {},
     "output_type": "execute_result"
    }
   ],
   "source": [
    "stack1.isEmpty()"
   ]
  },
  {
   "cell_type": "code",
   "execution_count": 5,
   "id": "c87daa36",
   "metadata": {},
   "outputs": [
    {
     "data": {
      "text/plain": [
       "[1, 2]"
      ]
     },
     "execution_count": 5,
     "metadata": {},
     "output_type": "execute_result"
    }
   ],
   "source": [
    "stack1.pop()"
   ]
  },
  {
   "cell_type": "code",
   "execution_count": 6,
   "id": "fe27486a",
   "metadata": {},
   "outputs": [
    {
     "data": {
      "text/plain": [
       "[]"
      ]
     },
     "execution_count": 6,
     "metadata": {},
     "output_type": "execute_result"
    }
   ],
   "source": [
    "stack1.pop()\n",
    "stack1.pop()"
   ]
  },
  {
   "cell_type": "code",
   "execution_count": 7,
   "id": "f16917f7",
   "metadata": {},
   "outputs": [
    {
     "name": "stdout",
     "output_type": "stream",
     "text": [
      "Stack Underflow \n"
     ]
    }
   ],
   "source": [
    "stack1.pop()"
   ]
  },
  {
   "cell_type": "code",
   "execution_count": 8,
   "id": "ac6adbe9",
   "metadata": {},
   "outputs": [
    {
     "data": {
      "text/plain": [
       "True"
      ]
     },
     "execution_count": 8,
     "metadata": {},
     "output_type": "execute_result"
    }
   ],
   "source": [
    "stack1.isEmpty()"
   ]
  },
  {
   "cell_type": "markdown",
   "id": "2a5eef42",
   "metadata": {},
   "source": [
    "Q2"
   ]
  },
  {
   "cell_type": "code",
   "execution_count": 9,
   "id": "df3484f7",
   "metadata": {},
   "outputs": [],
   "source": [
    "class Queue_list:\n",
    "    def __init__(self):\n",
    "        self.queue=[]  \n",
    "    #enqueue\n",
    "    def enqueue(self, val: int) -> list:\n",
    "        self.queue.append(val)\n",
    "        return self.queue\n",
    "    #dequeue\n",
    "    def dequeue(self) -> None:\n",
    "        if len(self.queue)!=0:\n",
    "            self.queue.pop(0)\n",
    "            return self.queue\n",
    "        else:\n",
    "            print(\"Queue Underflow \")\n",
    "            exit(1)\n",
    "    # is empty\n",
    "    def isEmpty(self) -> bool:\n",
    "        return len(self.queue)==0"
   ]
  },
  {
   "cell_type": "code",
   "execution_count": 10,
   "id": "eeb84b38",
   "metadata": {},
   "outputs": [],
   "source": [
    "q1=Queue_list()"
   ]
  },
  {
   "cell_type": "code",
   "execution_count": 11,
   "id": "27847fad",
   "metadata": {},
   "outputs": [
    {
     "data": {
      "text/plain": [
       "[1, 2, 3]"
      ]
     },
     "execution_count": 11,
     "metadata": {},
     "output_type": "execute_result"
    }
   ],
   "source": [
    "q1.enqueue(1)\n",
    "q1.enqueue(2)\n",
    "q1.enqueue(3)"
   ]
  },
  {
   "cell_type": "code",
   "execution_count": 12,
   "id": "0f8da08f",
   "metadata": {},
   "outputs": [
    {
     "data": {
      "text/plain": [
       "False"
      ]
     },
     "execution_count": 12,
     "metadata": {},
     "output_type": "execute_result"
    }
   ],
   "source": [
    "q1.isEmpty()"
   ]
  },
  {
   "cell_type": "code",
   "execution_count": 13,
   "id": "65ca0911",
   "metadata": {},
   "outputs": [
    {
     "data": {
      "text/plain": [
       "[2, 3]"
      ]
     },
     "execution_count": 13,
     "metadata": {},
     "output_type": "execute_result"
    }
   ],
   "source": [
    "q1.dequeue()"
   ]
  },
  {
   "cell_type": "code",
   "execution_count": 14,
   "id": "3a3feb35",
   "metadata": {},
   "outputs": [
    {
     "data": {
      "text/plain": [
       "[]"
      ]
     },
     "execution_count": 14,
     "metadata": {},
     "output_type": "execute_result"
    }
   ],
   "source": [
    "q1.dequeue()\n",
    "q1.dequeue()"
   ]
  },
  {
   "cell_type": "code",
   "execution_count": 15,
   "id": "5db2b4a7",
   "metadata": {},
   "outputs": [
    {
     "name": "stdout",
     "output_type": "stream",
     "text": [
      "Queue Underflow \n"
     ]
    }
   ],
   "source": [
    "q1.dequeue()"
   ]
  },
  {
   "cell_type": "code",
   "execution_count": 16,
   "id": "933d9876",
   "metadata": {},
   "outputs": [
    {
     "data": {
      "text/plain": [
       "True"
      ]
     },
     "execution_count": 16,
     "metadata": {},
     "output_type": "execute_result"
    }
   ],
   "source": [
    "q1.isEmpty()"
   ]
  },
  {
   "cell_type": "code",
   "execution_count": null,
   "id": "a935fdbd",
   "metadata": {},
   "outputs": [],
   "source": []
  }
 ],
 "metadata": {
  "kernelspec": {
   "display_name": "Python 3 (ipykernel)",
   "language": "python",
   "name": "python3"
  },
  "language_info": {
   "codemirror_mode": {
    "name": "ipython",
    "version": 3
   },
   "file_extension": ".py",
   "mimetype": "text/x-python",
   "name": "python",
   "nbconvert_exporter": "python",
   "pygments_lexer": "ipython3",
   "version": "3.9.13"
  }
 },
 "nbformat": 4,
 "nbformat_minor": 5
}
