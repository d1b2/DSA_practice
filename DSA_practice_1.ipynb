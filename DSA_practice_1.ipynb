{
 "cells": [
  {
   "cell_type": "markdown",
   "id": "2a56db52",
   "metadata": {},
   "source": [
    "Q1"
   ]
  },
  {
   "cell_type": "markdown",
   "id": "dcb6d877",
   "metadata": {},
   "source": [
    "Brute_force"
   ]
  },
  {
   "cell_type": "code",
   "execution_count": 1,
   "id": "fcff61dc",
   "metadata": {},
   "outputs": [],
   "source": [
    "def twoSum(nums: list[int], target: int) -> list[int]:\n",
    "        for i in range(len(nums)):\n",
    "            for j in range (i+1, len(nums)):\n",
    "                if nums[i]+nums[j]==target:\n",
    "                    return [i,j]\n",
    "                "
   ]
  },
  {
   "cell_type": "code",
   "execution_count": 2,
   "id": "58bdf388",
   "metadata": {},
   "outputs": [
    {
     "data": {
      "text/plain": [
       "[0, 1]"
      ]
     },
     "execution_count": 2,
     "metadata": {},
     "output_type": "execute_result"
    }
   ],
   "source": [
    "nums = [2,7,11,15]\n",
    "target = 9\n",
    "twoSum(nums,target)"
   ]
  },
  {
   "cell_type": "markdown",
   "id": "c610b8cd",
   "metadata": {},
   "source": [
    "Improved code"
   ]
  },
  {
   "cell_type": "code",
   "execution_count": 3,
   "id": "2ea25884",
   "metadata": {},
   "outputs": [],
   "source": [
    "def twoSum(nums: list[int], target: int) -> list[int]:\n",
    "    nums_hashmap = {}\n",
    "    for i in range(len(nums)):\n",
    "        nums_hashmap[nums[i]] = i\n",
    "    \n",
    "    for i in range(len(nums)):\n",
    "        difference = target - nums[i]\n",
    "        if difference in nums_hashmap and nums_hashmap[difference] != i:\n",
    "            return [i, nums_hashmap[difference]] "
   ]
  },
  {
   "cell_type": "code",
   "execution_count": 4,
   "id": "60a3a316",
   "metadata": {},
   "outputs": [
    {
     "data": {
      "text/plain": [
       "[0, 2]"
      ]
     },
     "execution_count": 4,
     "metadata": {},
     "output_type": "execute_result"
    }
   ],
   "source": [
    "nums =[3,2,3]\n",
    "target = 6\n",
    "twoSum(nums,target)"
   ]
  },
  {
   "cell_type": "markdown",
   "id": "1fdfc7f7",
   "metadata": {},
   "source": [
    "Q2"
   ]
  },
  {
   "cell_type": "code",
   "execution_count": 5,
   "id": "adb6d24a",
   "metadata": {},
   "outputs": [],
   "source": [
    "def removeElement( nums: list[int], val: int) :\n",
    "    counter=0\n",
    "    new_nums=[]\n",
    "    for i in range(len(nums)):\n",
    "        if nums[i]!=val:\n",
    "            new_nums.append(nums[i])\n",
    "            counter+=1\n",
    "    return len(new_nums),new_nums+[\"_\"]*counter"
   ]
  },
  {
   "cell_type": "code",
   "execution_count": 6,
   "id": "151ca59e",
   "metadata": {},
   "outputs": [
    {
     "data": {
      "text/plain": [
       "(2, [2, 2, '_', '_'])"
      ]
     },
     "execution_count": 6,
     "metadata": {},
     "output_type": "execute_result"
    }
   ],
   "source": [
    "nums =[3,2,2,3]\n",
    "val =3\n",
    "removeElement( nums, val)"
   ]
  },
  {
   "cell_type": "code",
   "execution_count": 7,
   "id": "f04c4f3b",
   "metadata": {},
   "outputs": [
    {
     "data": {
      "text/plain": [
       "(5, [0, 1, 3, 0, 4, '_', '_', '_', '_', '_'])"
      ]
     },
     "execution_count": 7,
     "metadata": {},
     "output_type": "execute_result"
    }
   ],
   "source": [
    "nums = [0,1,2,2,3,0,4,2]\n",
    "val = 2\n",
    "removeElement( nums, val)"
   ]
  },
  {
   "cell_type": "markdown",
   "id": "6536dcea",
   "metadata": {},
   "source": [
    "Q3"
   ]
  },
  {
   "cell_type": "markdown",
   "id": "a0979163",
   "metadata": {},
   "source": [
    "Brute force"
   ]
  },
  {
   "cell_type": "code",
   "execution_count": 8,
   "id": "bd6fba38",
   "metadata": {},
   "outputs": [],
   "source": [
    " def searchInsert( nums: list[int], target: int) -> int:\n",
    "        for i in range(len(nums)):\n",
    "            if nums[i]>=target:\n",
    "                return i\n",
    "        "
   ]
  },
  {
   "cell_type": "code",
   "execution_count": 9,
   "id": "25c65760",
   "metadata": {},
   "outputs": [
    {
     "data": {
      "text/plain": [
       "2"
      ]
     },
     "execution_count": 9,
     "metadata": {},
     "output_type": "execute_result"
    }
   ],
   "source": [
    "nums = [1,3,5,6]\n",
    "target = 5\n",
    "searchInsert( nums, target)"
   ]
  },
  {
   "cell_type": "code",
   "execution_count": 10,
   "id": "07c33cf2",
   "metadata": {},
   "outputs": [
    {
     "data": {
      "text/plain": [
       "1"
      ]
     },
     "execution_count": 10,
     "metadata": {},
     "output_type": "execute_result"
    }
   ],
   "source": [
    "nums = [1,3,5,6]\n",
    "target = 2\n",
    "searchInsert( nums, target)"
   ]
  },
  {
   "cell_type": "markdown",
   "id": "08afb2bd",
   "metadata": {},
   "source": [
    "2 pointer approach"
   ]
  },
  {
   "cell_type": "code",
   "execution_count": 11,
   "id": "914b393b",
   "metadata": {},
   "outputs": [],
   "source": [
    "def searchInsert(nums, target):\n",
    "        l = 0\n",
    "        r = len(nums) - 1\n",
    "        while l <= r:\n",
    "            mid = (l + r) // 2\n",
    "            if nums[mid] < target:\n",
    "                l = mid + 1 # incrementing left pointer\n",
    "            elif nums[mid] > target:\n",
    "                r = mid - 1 # decrementing left pointer\n",
    "            else:\n",
    "                return mid\n",
    "        return l"
   ]
  },
  {
   "cell_type": "code",
   "execution_count": 12,
   "id": "5ecf900b",
   "metadata": {},
   "outputs": [
    {
     "data": {
      "text/plain": [
       "1"
      ]
     },
     "execution_count": 12,
     "metadata": {},
     "output_type": "execute_result"
    }
   ],
   "source": [
    "nums = [1,3,5,6]\n",
    "target = 2\n",
    "searchInsert( nums, target)"
   ]
  },
  {
   "cell_type": "markdown",
   "id": "00d2a929",
   "metadata": {},
   "source": [
    "Q4"
   ]
  },
  {
   "cell_type": "code",
   "execution_count": 13,
   "id": "2b0dff72",
   "metadata": {},
   "outputs": [],
   "source": [
    "def plusOne( digits: list[int]) -> list[int]:\n",
    "    #convert int list to string list\n",
    "    strdigits=[str(i) for i in digits]    \n",
    "    #join strings to form number and add 1 to it\n",
    "    number=int(\"\".join(strdigits))+1\n",
    "    #convert number back to int list\n",
    "    numdigits=[int(i) for i in str(number)]\n",
    "    return numdigits"
   ]
  },
  {
   "cell_type": "code",
   "execution_count": 14,
   "id": "f74e5662",
   "metadata": {},
   "outputs": [
    {
     "data": {
      "text/plain": [
       "[1, 2, 4]"
      ]
     },
     "execution_count": 14,
     "metadata": {},
     "output_type": "execute_result"
    }
   ],
   "source": [
    "digits = [1,2,3]\n",
    "plusOne( digits)"
   ]
  },
  {
   "cell_type": "markdown",
   "id": "6efd7ec2",
   "metadata": {},
   "source": [
    "Q5"
   ]
  },
  {
   "cell_type": "code",
   "execution_count": 15,
   "id": "d993970e",
   "metadata": {},
   "outputs": [],
   "source": [
    "def merge(nums1: list[int], m: int, nums2: list[int], n: int) -> None:\n",
    "        \"\"\"\n",
    "        Do not return anything, modify nums1 in-place instead.\n",
    "        \"\"\"\n",
    "        \n",
    "        for i in range(m,m+n):\n",
    "            nums1[i]=nums2[abs(i-m)]\n",
    "        nums1.sort()\n",
    "        print(nums1)"
   ]
  },
  {
   "cell_type": "code",
   "execution_count": 16,
   "id": "ca6df725",
   "metadata": {},
   "outputs": [
    {
     "name": "stdout",
     "output_type": "stream",
     "text": [
      "[1, 2, 2, 3, 5, 6]\n"
     ]
    }
   ],
   "source": [
    "merge(nums1 = [1,2,3,0,0,0], m = 3, nums2 = [2,5,6], n = 3)"
   ]
  },
  {
   "cell_type": "code",
   "execution_count": 17,
   "id": "b316258a",
   "metadata": {},
   "outputs": [
    {
     "name": "stdout",
     "output_type": "stream",
     "text": [
      "[1]\n"
     ]
    }
   ],
   "source": [
    "merge(nums1 = [0], m = 0, nums2 = [1], n = 1)"
   ]
  },
  {
   "cell_type": "markdown",
   "id": "4ad38573",
   "metadata": {},
   "source": [
    "Q6"
   ]
  },
  {
   "cell_type": "code",
   "execution_count": 18,
   "id": "22ed25e0",
   "metadata": {},
   "outputs": [],
   "source": [
    "def containsDuplicate( nums: list[int]) -> bool:\n",
    "    return len(nums)!=len(set(nums))"
   ]
  },
  {
   "cell_type": "code",
   "execution_count": 19,
   "id": "43e6b7cb",
   "metadata": {},
   "outputs": [
    {
     "data": {
      "text/plain": [
       "True"
      ]
     },
     "execution_count": 19,
     "metadata": {},
     "output_type": "execute_result"
    }
   ],
   "source": [
    "nums = [1,2,3,1]\n",
    "containsDuplicate(nums)"
   ]
  },
  {
   "cell_type": "markdown",
   "id": "ebadbceb",
   "metadata": {},
   "source": [
    "Q7"
   ]
  },
  {
   "cell_type": "code",
   "execution_count": 20,
   "id": "ae5c8e50",
   "metadata": {},
   "outputs": [],
   "source": [
    "def moveZeroes(nums: list[int]) -> None:\n",
    "        \"\"\"\n",
    "        Do not return anything, modify nums in-place instead.\n",
    "        \"\"\"\n",
    "        new_nums=[]\n",
    "        for i in nums:\n",
    "            if i!=0:\n",
    "                new_nums.append(i)\n",
    "        \n",
    "        nums=new_nums+[0]*(len(nums)-len(new_nums))\n",
    "        \n",
    "        return nums"
   ]
  },
  {
   "cell_type": "code",
   "execution_count": 21,
   "id": "17c95eb4",
   "metadata": {},
   "outputs": [
    {
     "data": {
      "text/plain": [
       "[1, 3, 12, 0, 0]"
      ]
     },
     "execution_count": 21,
     "metadata": {},
     "output_type": "execute_result"
    }
   ],
   "source": [
    "nums =[0,1,0,3,12]\n",
    "moveZeroes(nums)"
   ]
  },
  {
   "cell_type": "code",
   "execution_count": 22,
   "id": "b39d5e5e",
   "metadata": {},
   "outputs": [],
   "source": [
    "    def moveZeroes( nums: list[int]) -> None:\n",
    "        \"\"\"\n",
    "        Do not return anything, modify nums in-place instead.\n",
    "        \"\"\"\n",
    "        zero_index=0\n",
    "        for i in range(len(nums)):\n",
    "            if nums[i]!=0:\n",
    "                nums[i],nums[zero_index]=nums[zero_index],nums[i]\n",
    "                zero_index+=1\n",
    "        \n",
    "        print (nums)"
   ]
  },
  {
   "cell_type": "code",
   "execution_count": 23,
   "id": "593d3d18",
   "metadata": {},
   "outputs": [
    {
     "name": "stdout",
     "output_type": "stream",
     "text": [
      "[1, 3, 12, 0, 0]\n"
     ]
    }
   ],
   "source": [
    "nums =[0,1,0,3,12]\n",
    "moveZeroes(nums)"
   ]
  },
  {
   "cell_type": "markdown",
   "id": "1d653860",
   "metadata": {},
   "source": [
    "Q8"
   ]
  },
  {
   "cell_type": "code",
   "execution_count": 24,
   "id": "ba06a38f",
   "metadata": {},
   "outputs": [],
   "source": [
    "def findErrorNums(nums: list[int]) -> list[int]:\n",
    "    num_set=[i for i in range(1,len(nums)+1)]\n",
    "    count_set=[nums.count(i) for i in num_set]\n",
    "    missing_no=0\n",
    "    repeat_no=0\n",
    "    for i in range(len(num_set)):\n",
    "        if count_set[i]==0:\n",
    "            missing_no=num_set[i]\n",
    "        elif count_set[i]==2:\n",
    "            repeat_no=num_set[i]\n",
    "    \n",
    "    return [repeat_no,missing_no]"
   ]
  },
  {
   "cell_type": "code",
   "execution_count": 25,
   "id": "1c4cfa77",
   "metadata": {},
   "outputs": [
    {
     "data": {
      "text/plain": [
       "[5, 2]"
      ]
     },
     "execution_count": 25,
     "metadata": {},
     "output_type": "execute_result"
    }
   ],
   "source": [
    "nums =[5,3,6,1,5,4,7,8]\n",
    "findErrorNums(nums)"
   ]
  },
  {
   "cell_type": "code",
   "execution_count": 26,
   "id": "3a096db7",
   "metadata": {},
   "outputs": [
    {
     "data": {
      "text/plain": [
       "[5, 2]"
      ]
     },
     "execution_count": 26,
     "metadata": {},
     "output_type": "execute_result"
    }
   ],
   "source": [
    "nums =[5,3,6,1,5,4,7,8]\n",
    "findErrorNums(nums)"
   ]
  },
  {
   "cell_type": "code",
   "execution_count": 27,
   "id": "078d89ff",
   "metadata": {},
   "outputs": [],
   "source": [
    "def findErrorNums(nums: list[int]) -> list[int]:\n",
    "    n=len(nums)\n",
    "    #sum of elements of list\n",
    "    sum_nums=sum(nums)\n",
    "    \n",
    "    #sum of unique elements of list\n",
    "    sum_num_set=sum(set(nums))\n",
    "    \n",
    "    #sum of natural number till n\n",
    "    sum_natural_no = n*(n+1)//2\n",
    "    \n",
    "    return [sum_nums-sum_num_set, sum_natural_no-sum_num_set]"
   ]
  },
  {
   "cell_type": "code",
   "execution_count": 28,
   "id": "313f3303",
   "metadata": {},
   "outputs": [
    {
     "data": {
      "text/plain": [
       "[5, 2]"
      ]
     },
     "execution_count": 28,
     "metadata": {},
     "output_type": "execute_result"
    }
   ],
   "source": [
    "nums =[5,3,6,1,5,4,7,8]\n",
    "findErrorNums(nums)"
   ]
  },
  {
   "cell_type": "code",
   "execution_count": 29,
   "id": "20d2f468",
   "metadata": {},
   "outputs": [],
   "source": [
    " def findErrorNums( nums: list[int]) -> list[int]:\n",
    "        natural_no_list = list(range(1, len(nums) + 1))\n",
    "        missed=int\n",
    "        for i in nums:\n",
    "            if natural_no_list[i - 1] == i:\n",
    "                natural_no_list[i - 1] = 0\n",
    "            else:\n",
    "                missed = i\n",
    "        return [missed, max(natural_no_list)]"
   ]
  },
  {
   "cell_type": "code",
   "execution_count": 30,
   "id": "2bc46b47",
   "metadata": {},
   "outputs": [
    {
     "data": {
      "text/plain": [
       "[5, 2]"
      ]
     },
     "execution_count": 30,
     "metadata": {},
     "output_type": "execute_result"
    }
   ],
   "source": [
    "nums =[5,3,6,1,5,4,7,8]\n",
    "findErrorNums(nums)"
   ]
  }
 ],
 "metadata": {
  "kernelspec": {
   "display_name": "Python 3 (ipykernel)",
   "language": "python",
   "name": "python3"
  },
  "language_info": {
   "codemirror_mode": {
    "name": "ipython",
    "version": 3
   },
   "file_extension": ".py",
   "mimetype": "text/x-python",
   "name": "python",
   "nbconvert_exporter": "python",
   "pygments_lexer": "ipython3",
   "version": "3.9.13"
  }
 },
 "nbformat": 4,
 "nbformat_minor": 5
}
