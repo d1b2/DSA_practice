{
 "cells": [
  {
   "cell_type": "markdown",
   "id": "467578a1",
   "metadata": {},
   "source": [
    "Test 2"
   ]
  },
  {
   "cell_type": "code",
   "execution_count": 5,
   "id": "05efe018",
   "metadata": {},
   "outputs": [],
   "source": [
    "def mySqrt(x: int) -> int:\n",
    "        #using binary search\n",
    "        left,right=1,x\n",
    "\n",
    "        while left<=right:\n",
    "            #find mid\n",
    "            mid=(left+right)//2\n",
    "            #compare squre of mid to x and update mide accordinly\n",
    "            if mid*mid==x:\n",
    "                return mid\n",
    "            if mid*mid>x:\n",
    "                right=mid-1\n",
    "            else:\n",
    "                left=mid+1\n",
    "        return right\n",
    "    "
   ]
  },
  {
   "cell_type": "code",
   "execution_count": 7,
   "id": "6d68a0c6",
   "metadata": {},
   "outputs": [],
   "source": []
  },
  {
   "cell_type": "code",
   "execution_count": null,
   "id": "a4714bd7",
   "metadata": {},
   "outputs": [],
   "source": [
    "\n",
    "    def addTwoNumbers(self, l1: Optional[ListNode], l2: Optional[ListNode]) -> Optional[ListNode]:\n",
    "        dummy = ListNode()# next pointer of this list will point to head of above list\n",
    "        res = dummy#this ll will contain digits of sum of values        \n",
    "        carry = 0\n",
    "        # traverse till both list and carry are null\n",
    "        while l1 or l2 or carry:\n",
    "            #get values of current node\n",
    "            v1 = l1.val if l1 else 0\n",
    "            v2 = l2.val if l2 else 0\n",
    "            \n",
    "            # add both values and carry\n",
    "            val = v1 + v2 + carry\n",
    "            #update value of carry\n",
    "            carry = val // 10\n",
    "            #get units digit of value\n",
    "            val = val % 10\n",
    "            #create next node of resultant ll with val\n",
    "            res.next = ListNode(val)  # as in one place we have to put a single digit\n",
    "            \n",
    "            # move ll nodes ahead\n",
    "            res = res.next\n",
    "            l1 = l1.next if l1 else None\n",
    "            l2 = l2.next if l2 else None\n",
    "            \n",
    "        # return head of resutant nod    \n",
    "        return dummy.next\n"
   ]
  }
 ],
 "metadata": {
  "kernelspec": {
   "display_name": "Python 3 (ipykernel)",
   "language": "python",
   "name": "python3"
  },
  "language_info": {
   "codemirror_mode": {
    "name": "ipython",
    "version": 3
   },
   "file_extension": ".py",
   "mimetype": "text/x-python",
   "name": "python",
   "nbconvert_exporter": "python",
   "pygments_lexer": "ipython3",
   "version": "3.9.13"
  }
 },
 "nbformat": 4,
 "nbformat_minor": 5
}
