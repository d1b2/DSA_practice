{
 "cells": [
  {
   "cell_type": "markdown",
   "id": "4ec4c139",
   "metadata": {},
   "source": [
    "###  2a. Build a machine learning model to predict customer churn based on a given dataset. Train the model using appropriate algorithms and evaluate its performance."
   ]
  },
  {
   "cell_type": "code",
   "execution_count": 1,
   "id": "3014d93c",
   "metadata": {},
   "outputs": [],
   "source": [
    "#importing libraries\n",
    "import pandas as pd\n",
    "import numpy as np\n",
    "import requests"
   ]
  },
  {
   "cell_type": "code",
   "execution_count": 2,
   "id": "da4679ed",
   "metadata": {},
   "outputs": [],
   "source": [
    "df_csv=pd.read_csv(\"https://raw.githubusercontent.com/d1b2/DSA_practice/main/assign_4/data_formats/data.csv\")"
   ]
  },
  {
   "cell_type": "code",
   "execution_count": 3,
   "id": "6b48bdec",
   "metadata": {},
   "outputs": [],
   "source": [
    "def data_validation(dataframe):\n",
    "    \"\"\"Performs data validation on given pandas dataframe\"\"\"\n",
    "    try:\n",
    "        col_valid_status=True\n",
    "        col_list=['customerID','gender', 'SeniorCitizen', 'Partner', 'Dependents', 'tenure',\n",
    "           'PhoneService', 'MultipleLines', 'InternetService', 'OnlineSecurity',\n",
    "           'OnlineBackup', 'DeviceProtection', 'TechSupport', 'StreamingTV',\n",
    "           'StreamingMovies', 'Contract', 'PaperlessBilling', 'PaymentMethod',\n",
    "           'MonthlyCharges', 'TotalCharges']\n",
    "        for i in range(len(col_list)):\n",
    "            if col_list[i] not in dataframe.columns:\n",
    "                col_valid_status=False\n",
    "                print(f'{i} Column not present in dataset!!! Data Validation failed.!')\n",
    "                return False\n",
    "        print('Input Columns Validation successful!')\n",
    "        target_valid_status=True        \n",
    "        target_col='Churn'\n",
    "        if target_col not in dataframe.columns:\n",
    "            target_valid_status=False\n",
    "            print('Target Column not present in dataset!!! Data Validation failed.!!')\n",
    "            return False\n",
    "        print('Target Columns Validation successful!!')\n",
    "        tar_domain_status=True\n",
    "        if sorted(dataframe[target_col].unique())!=['No', 'Yes']:\n",
    "            tar_domain_status=False\n",
    "            print('Target Column do not have valid domain values!!! Data Validation failed.!!!')\n",
    "            return False\n",
    "        print('Data Validation succesful!!!')\n",
    "        return col_valid_status and target_valid_status and tar_domain_status\n",
    "    except Exception as e:\n",
    "            raise e"
   ]
  },
  {
   "cell_type": "code",
   "execution_count": 4,
   "id": "a8150d9b",
   "metadata": {},
   "outputs": [],
   "source": [
    "def data_cleansing(dataframe):\n",
    "    \"\"\" Performs data cleansing on given pandas dataframe\"\"\"\n",
    "    try:\n",
    "        #null deleting from a col\n",
    "        dataframe['TotalCharges'].replace(' ', np.nan, inplace=True)\n",
    "        dataframe.dropna(how='any',axis=0,inplace=True) \n",
    "        print('Null values in TotalCharges column deleted.')\n",
    "        dataframe['TotalCharges']=dataframe['TotalCharges'].astype('float')\n",
    "        #deleting extra column\n",
    "        dataframe.drop(\"customerID\",axis=1,inplace=True)\n",
    "        print('customerID column deleted.')\n",
    "\n",
    "        #deleting duplicates\n",
    "        num_duplicates=dataframe.duplicated().sum()  \n",
    "        if num_duplicates!=0:\n",
    "            dataframe = dataframe.drop_duplicates()\n",
    "            dataframe = dataframe.reset_index(drop=True)\n",
    "            print(f'Number of duplicate rows deleted: {num_duplicates}.')\n",
    "        else:\n",
    "            print('No duplicate rows present.')\n",
    "        target_col='Churn'\n",
    "        if np.issubdtype(dataframe[target_col].dtype, np.number)==False:\n",
    "            dataframe[target_col] = dataframe[target_col].apply(lambda x: 1 if x=='Yes' else 0)\n",
    "            print(\"Target feature converted numeric type.\")\n",
    "        else:\n",
    "            print(\"Target feature is numeric type.\")\n",
    "        \n",
    "        print(\"Data Cleansing completed\")\n",
    "        \n",
    "        return dataframe\n",
    "    \n",
    "    except Exception as e:\n",
    "            raise e"
   ]
  },
  {
   "cell_type": "code",
   "execution_count": 5,
   "id": "6e153cc0",
   "metadata": {},
   "outputs": [
    {
     "name": "stdout",
     "output_type": "stream",
     "text": [
      "Input Columns Validation successful!\n",
      "Target Columns Validation successful!!\n",
      "Data Validation succesful!!!\n"
     ]
    },
    {
     "data": {
      "text/plain": [
       "True"
      ]
     },
     "execution_count": 5,
     "metadata": {},
     "output_type": "execute_result"
    }
   ],
   "source": [
    "data_validation(df_csv)"
   ]
  },
  {
   "cell_type": "code",
   "execution_count": 6,
   "id": "b43f932b",
   "metadata": {},
   "outputs": [
    {
     "name": "stdout",
     "output_type": "stream",
     "text": [
      "Null values in TotalCharges column deleted.\n",
      "customerID column deleted.\n",
      "Number of duplicate rows deleted: 22.\n",
      "Target feature converted numeric type.\n",
      "Data Cleansing completed\n"
     ]
    }
   ],
   "source": [
    "df_csv = data_cleansing(df_csv)"
   ]
  },
  {
   "cell_type": "code",
   "execution_count": 7,
   "id": "c6a21402",
   "metadata": {},
   "outputs": [
    {
     "data": {
      "text/html": [
       "<div>\n",
       "<style scoped>\n",
       "    .dataframe tbody tr th:only-of-type {\n",
       "        vertical-align: middle;\n",
       "    }\n",
       "\n",
       "    .dataframe tbody tr th {\n",
       "        vertical-align: top;\n",
       "    }\n",
       "\n",
       "    .dataframe thead th {\n",
       "        text-align: right;\n",
       "    }\n",
       "</style>\n",
       "<table border=\"1\" class=\"dataframe\">\n",
       "  <thead>\n",
       "    <tr style=\"text-align: right;\">\n",
       "      <th></th>\n",
       "      <th>gender</th>\n",
       "      <th>SeniorCitizen</th>\n",
       "      <th>Partner</th>\n",
       "      <th>Dependents</th>\n",
       "      <th>tenure</th>\n",
       "      <th>PhoneService</th>\n",
       "      <th>MultipleLines</th>\n",
       "      <th>InternetService</th>\n",
       "      <th>OnlineSecurity</th>\n",
       "      <th>OnlineBackup</th>\n",
       "      <th>DeviceProtection</th>\n",
       "      <th>TechSupport</th>\n",
       "      <th>StreamingTV</th>\n",
       "      <th>StreamingMovies</th>\n",
       "      <th>Contract</th>\n",
       "      <th>PaperlessBilling</th>\n",
       "      <th>PaymentMethod</th>\n",
       "      <th>MonthlyCharges</th>\n",
       "      <th>TotalCharges</th>\n",
       "      <th>Churn</th>\n",
       "    </tr>\n",
       "  </thead>\n",
       "  <tbody>\n",
       "    <tr>\n",
       "      <th>0</th>\n",
       "      <td>Female</td>\n",
       "      <td>0</td>\n",
       "      <td>Yes</td>\n",
       "      <td>No</td>\n",
       "      <td>1</td>\n",
       "      <td>No</td>\n",
       "      <td>No phone service</td>\n",
       "      <td>DSL</td>\n",
       "      <td>No</td>\n",
       "      <td>Yes</td>\n",
       "      <td>No</td>\n",
       "      <td>No</td>\n",
       "      <td>No</td>\n",
       "      <td>No</td>\n",
       "      <td>Month-to-month</td>\n",
       "      <td>Yes</td>\n",
       "      <td>Electronic check</td>\n",
       "      <td>29.85</td>\n",
       "      <td>29.85</td>\n",
       "      <td>0</td>\n",
       "    </tr>\n",
       "    <tr>\n",
       "      <th>1</th>\n",
       "      <td>Male</td>\n",
       "      <td>0</td>\n",
       "      <td>No</td>\n",
       "      <td>No</td>\n",
       "      <td>34</td>\n",
       "      <td>Yes</td>\n",
       "      <td>No</td>\n",
       "      <td>DSL</td>\n",
       "      <td>Yes</td>\n",
       "      <td>No</td>\n",
       "      <td>Yes</td>\n",
       "      <td>No</td>\n",
       "      <td>No</td>\n",
       "      <td>No</td>\n",
       "      <td>One year</td>\n",
       "      <td>No</td>\n",
       "      <td>Mailed check</td>\n",
       "      <td>56.95</td>\n",
       "      <td>1889.50</td>\n",
       "      <td>0</td>\n",
       "    </tr>\n",
       "    <tr>\n",
       "      <th>2</th>\n",
       "      <td>Male</td>\n",
       "      <td>0</td>\n",
       "      <td>No</td>\n",
       "      <td>No</td>\n",
       "      <td>2</td>\n",
       "      <td>Yes</td>\n",
       "      <td>No</td>\n",
       "      <td>DSL</td>\n",
       "      <td>Yes</td>\n",
       "      <td>Yes</td>\n",
       "      <td>No</td>\n",
       "      <td>No</td>\n",
       "      <td>No</td>\n",
       "      <td>No</td>\n",
       "      <td>Month-to-month</td>\n",
       "      <td>Yes</td>\n",
       "      <td>Mailed check</td>\n",
       "      <td>53.85</td>\n",
       "      <td>108.15</td>\n",
       "      <td>1</td>\n",
       "    </tr>\n",
       "    <tr>\n",
       "      <th>3</th>\n",
       "      <td>Male</td>\n",
       "      <td>0</td>\n",
       "      <td>No</td>\n",
       "      <td>No</td>\n",
       "      <td>45</td>\n",
       "      <td>No</td>\n",
       "      <td>No phone service</td>\n",
       "      <td>DSL</td>\n",
       "      <td>Yes</td>\n",
       "      <td>No</td>\n",
       "      <td>Yes</td>\n",
       "      <td>Yes</td>\n",
       "      <td>No</td>\n",
       "      <td>No</td>\n",
       "      <td>One year</td>\n",
       "      <td>No</td>\n",
       "      <td>Bank transfer (automatic)</td>\n",
       "      <td>42.30</td>\n",
       "      <td>1840.75</td>\n",
       "      <td>0</td>\n",
       "    </tr>\n",
       "    <tr>\n",
       "      <th>4</th>\n",
       "      <td>Female</td>\n",
       "      <td>0</td>\n",
       "      <td>No</td>\n",
       "      <td>No</td>\n",
       "      <td>2</td>\n",
       "      <td>Yes</td>\n",
       "      <td>No</td>\n",
       "      <td>Fiber optic</td>\n",
       "      <td>No</td>\n",
       "      <td>No</td>\n",
       "      <td>No</td>\n",
       "      <td>No</td>\n",
       "      <td>No</td>\n",
       "      <td>No</td>\n",
       "      <td>Month-to-month</td>\n",
       "      <td>Yes</td>\n",
       "      <td>Electronic check</td>\n",
       "      <td>70.70</td>\n",
       "      <td>151.65</td>\n",
       "      <td>1</td>\n",
       "    </tr>\n",
       "  </tbody>\n",
       "</table>\n",
       "</div>"
      ],
      "text/plain": [
       "   gender  SeniorCitizen Partner Dependents  tenure PhoneService  \\\n",
       "0  Female              0     Yes         No       1           No   \n",
       "1    Male              0      No         No      34          Yes   \n",
       "2    Male              0      No         No       2          Yes   \n",
       "3    Male              0      No         No      45           No   \n",
       "4  Female              0      No         No       2          Yes   \n",
       "\n",
       "      MultipleLines InternetService OnlineSecurity OnlineBackup  \\\n",
       "0  No phone service             DSL             No          Yes   \n",
       "1                No             DSL            Yes           No   \n",
       "2                No             DSL            Yes          Yes   \n",
       "3  No phone service             DSL            Yes           No   \n",
       "4                No     Fiber optic             No           No   \n",
       "\n",
       "  DeviceProtection TechSupport StreamingTV StreamingMovies        Contract  \\\n",
       "0               No          No          No              No  Month-to-month   \n",
       "1              Yes          No          No              No        One year   \n",
       "2               No          No          No              No  Month-to-month   \n",
       "3              Yes         Yes          No              No        One year   \n",
       "4               No          No          No              No  Month-to-month   \n",
       "\n",
       "  PaperlessBilling              PaymentMethod  MonthlyCharges  TotalCharges  \\\n",
       "0              Yes           Electronic check           29.85         29.85   \n",
       "1               No               Mailed check           56.95       1889.50   \n",
       "2              Yes               Mailed check           53.85        108.15   \n",
       "3               No  Bank transfer (automatic)           42.30       1840.75   \n",
       "4              Yes           Electronic check           70.70        151.65   \n",
       "\n",
       "   Churn  \n",
       "0      0  \n",
       "1      0  \n",
       "2      1  \n",
       "3      0  \n",
       "4      1  "
      ]
     },
     "execution_count": 7,
     "metadata": {},
     "output_type": "execute_result"
    }
   ],
   "source": [
    "df_csv.head()"
   ]
  },
  {
   "cell_type": "code",
   "execution_count": 8,
   "id": "06f074b2",
   "metadata": {},
   "outputs": [
    {
     "name": "stdout",
     "output_type": "stream",
     "text": [
      "<class 'pandas.core.frame.DataFrame'>\n",
      "RangeIndex: 7010 entries, 0 to 7009\n",
      "Data columns (total 20 columns):\n",
      " #   Column            Non-Null Count  Dtype  \n",
      "---  ------            --------------  -----  \n",
      " 0   gender            7010 non-null   object \n",
      " 1   SeniorCitizen     7010 non-null   int64  \n",
      " 2   Partner           7010 non-null   object \n",
      " 3   Dependents        7010 non-null   object \n",
      " 4   tenure            7010 non-null   int64  \n",
      " 5   PhoneService      7010 non-null   object \n",
      " 6   MultipleLines     7010 non-null   object \n",
      " 7   InternetService   7010 non-null   object \n",
      " 8   OnlineSecurity    7010 non-null   object \n",
      " 9   OnlineBackup      7010 non-null   object \n",
      " 10  DeviceProtection  7010 non-null   object \n",
      " 11  TechSupport       7010 non-null   object \n",
      " 12  StreamingTV       7010 non-null   object \n",
      " 13  StreamingMovies   7010 non-null   object \n",
      " 14  Contract          7010 non-null   object \n",
      " 15  PaperlessBilling  7010 non-null   object \n",
      " 16  PaymentMethod     7010 non-null   object \n",
      " 17  MonthlyCharges    7010 non-null   float64\n",
      " 18  TotalCharges      7010 non-null   float64\n",
      " 19  Churn             7010 non-null   int64  \n",
      "dtypes: float64(2), int64(3), object(15)\n",
      "memory usage: 1.1+ MB\n"
     ]
    }
   ],
   "source": [
    "df_csv.info()"
   ]
  },
  {
   "cell_type": "markdown",
   "id": "57d3a156",
   "metadata": {},
   "source": [
    "### 3c Design a model validation strategy that incorporates stratified sampling to handle imbalanced datasets."
   ]
  },
  {
   "cell_type": "markdown",
   "id": "cd2275ba",
   "metadata": {},
   "source": [
    "#### To handle imbalance dataset StratifiedShuffleSplit will be performed on dataset"
   ]
  },
  {
   "cell_type": "code",
   "execution_count": 9,
   "id": "801d4cb6",
   "metadata": {},
   "outputs": [],
   "source": [
    "from sklearn.model_selection import StratifiedShuffleSplit"
   ]
  },
  {
   "cell_type": "code",
   "execution_count": 10,
   "id": "017c8ecb",
   "metadata": {},
   "outputs": [],
   "source": [
    "def stratified_split(df,col,target):\n",
    "    \"\"\"Performs stratified schuffle spilit on dataset\"\"\"\n",
    "    if col not in df:\n",
    "        return f\"{col} column not found in dataframe.\"\n",
    "    if np.issubdtype(df[col].dtype, np.number)==False:\n",
    "        return f\"{col} is not numeric\"\n",
    "    print(f'Shape of original dataframe: {df.shape}')\n",
    "    cat_col=col+\"_cat\"\n",
    "    df[cat_col]=pd.qcut(\n",
    "            df[col], q=5,       \n",
    "            labels=[1,2,3,4,5])\n",
    "    print(f\"New {cat_col} created in dataframe for performing stratifiesd schuflle split\")\n",
    "\n",
    "    strat_train_set = None\n",
    "    strat_test_set = None\n",
    "\n",
    "    split = StratifiedShuffleSplit(n_splits=1, test_size=0.2, random_state=42)\n",
    "    for train_index,test_index in split.split(df,df[cat_col]):\n",
    "        strat_train_set = df.loc[train_index].drop([cat_col],axis=1)\n",
    "        strat_test_set= df.loc[test_index].drop([cat_col],axis=1)\n",
    "    print(f\"Stratifiesd schuflle split performed.\")\n",
    "    strat_train_set = strat_train_set.reset_index(drop=True)\n",
    "    strat_test_set = strat_test_set.reset_index(drop=True)\n",
    "    \n",
    "    X_train,y_train = strat_train_set.drop(target,axis=1),strat_train_set[target]\n",
    "    X_test,y_test = strat_test_set.drop(target,axis=1),strat_test_set[target] \n",
    "    print(f'Shape of X_train: {X_train.shape} | Shape of X_test: {X_test.shape}')\n",
    "    print(f'Shape of y_train: {y_train.shape} | Shape of y_test: {y_test.shape}')\n",
    "    \n",
    "    return X_train,X_test,y_train,y_test"
   ]
  },
  {
   "cell_type": "code",
   "execution_count": 11,
   "id": "e57d6120",
   "metadata": {},
   "outputs": [
    {
     "name": "stdout",
     "output_type": "stream",
     "text": [
      "Shape of original dataframe: (7010, 20)\n",
      "New MonthlyCharges_cat created in dataframe for performing stratifiesd schuflle split\n",
      "Stratifiesd schuflle split performed.\n",
      "Shape of X_train: (5608, 19) | Shape of X_test: (1402, 19)\n",
      "Shape of y_train: (5608,) | Shape of y_test: (1402,)\n"
     ]
    }
   ],
   "source": [
    "#call to function\n",
    "X_train,X_test,y_train,y_test=stratified_split(df_csv,'MonthlyCharges','Churn')"
   ]
  },
  {
   "cell_type": "markdown",
   "id": "f8264130",
   "metadata": {},
   "source": [
    "### 2b. Develop a model training pipeline that incorporates feature engineering techniques such as one-hot encoding, feature scaling, and dimensionality reduction."
   ]
  },
  {
   "cell_type": "code",
   "execution_count": 12,
   "id": "797070e8",
   "metadata": {},
   "outputs": [],
   "source": [
    "def get_num_cat_columns(dataframe):\n",
    "    try:                    \n",
    "        num_columns=[i for i in dataframe.columns if dataframe[i].dtype=='float64' or dataframe[i].dtype=='int64' ]\n",
    "        cat_columns=[i for i in dataframe.columns if dataframe[i].dtype=='object']                 \n",
    "\n",
    "        print(\"Lists of numerical and categorical features generated.\")\n",
    "        return num_columns,cat_columns\n",
    "    except Exception as e:\n",
    "        raise e"
   ]
  },
  {
   "cell_type": "code",
   "execution_count": 13,
   "id": "bee843f3",
   "metadata": {},
   "outputs": [
    {
     "name": "stdout",
     "output_type": "stream",
     "text": [
      "Lists of numerical and categorical features generated.\n"
     ]
    }
   ],
   "source": [
    "num,cat=get_num_cat_columns(X_train)"
   ]
  },
  {
   "cell_type": "code",
   "execution_count": 14,
   "id": "400f30bc",
   "metadata": {},
   "outputs": [],
   "source": [
    "from sklearn.preprocessing import StandardScaler,OneHotEncoder\n",
    "from sklearn.compose import make_column_transformer\n",
    "from sklearn.decomposition import PCA\n",
    "\n",
    "from sklearn.compose import ColumnTransformer\n",
    "\n",
    "from sklearn.pipeline import Pipeline\n",
    "from sklearn.model_selection import cross_val_score\n",
    "\n",
    "from sklearn.linear_model import LogisticRegression\n",
    "from sklearn.ensemble import RandomForestClassifier\n",
    "\n",
    "from sklearn.metrics import accuracy_score,f1_score,precision_score,recall_score"
   ]
  },
  {
   "cell_type": "code",
   "execution_count": 15,
   "id": "ce2cc8c9",
   "metadata": {},
   "outputs": [
    {
     "name": "stdout",
     "output_type": "stream",
     "text": [
      "Lists of numerical and categorical features generated.\n"
     ]
    }
   ],
   "source": [
    "num,cat=get_num_cat_columns(X_train)"
   ]
  },
  {
   "cell_type": "code",
   "execution_count": 16,
   "id": "f052c5d6",
   "metadata": {},
   "outputs": [],
   "source": [
    "def get_column_transformer(dataframe):\n",
    "        try:\n",
    "            numerical_features,categorical_features=get_num_cat_columns(dataframe)\n",
    "            #for numerical features\n",
    "            scaler=StandardScaler()            \n",
    "            #for categorical features\n",
    "            one_hot_encoder=OneHotEncoder(drop='first', sparse_output=False)\n",
    "            trf1 = ColumnTransformer(transformers =[\n",
    "                                        ('enc', one_hot_encoder, categorical_features),\n",
    "                                        ('scaler',scaler,numerical_features),], remainder ='passthrough')            \n",
    "           \n",
    "            print(\"Column transformer object generated.\")\n",
    "           \n",
    "            return trf1\n",
    "        except Exception as e:\n",
    "            raise e"
   ]
  },
  {
   "cell_type": "code",
   "execution_count": 17,
   "id": "9d49b57b",
   "metadata": {},
   "outputs": [
    {
     "name": "stdout",
     "output_type": "stream",
     "text": [
      "Lists of numerical and categorical features generated.\n",
      "Column transformer object generated.\n"
     ]
    }
   ],
   "source": [
    "pipe1 = Pipeline(steps =[\n",
    "    ('trf1', get_column_transformer(X_train)), \n",
    "    ('trf2',PCA(n_components=10)),\n",
    "    ('model', RandomForestClassifier(random_state=42))\n",
    "])"
   ]
  },
  {
   "cell_type": "code",
   "execution_count": 18,
   "id": "0dccd1ab",
   "metadata": {},
   "outputs": [
    {
     "name": "stdout",
     "output_type": "stream",
     "text": [
      "Lists of numerical and categorical features generated.\n",
      "Column transformer object generated.\n"
     ]
    }
   ],
   "source": [
    "pipe2 = Pipeline(steps =[\n",
    "    ('trf1', get_column_transformer(X_train)), \n",
    "    ('trf2',PCA(n_components=2)),\n",
    "    ('model', LogisticRegression(random_state=42))\n",
    "])"
   ]
  },
  {
   "cell_type": "markdown",
   "id": "b0063807",
   "metadata": {},
   "source": [
    "### 3b. Perform model validation using different evaluation metrics such as accuracy, precision, recall, and F1 score for a binary classification problem."
   ]
  },
  {
   "cell_type": "code",
   "execution_count": 19,
   "id": "536552ad",
   "metadata": {},
   "outputs": [
    {
     "name": "stdout",
     "output_type": "stream",
     "text": [
      "               Score metrics of Random Forest Classifier pipeline \n",
      "================================================================================\n",
      "Accuracy : 0.78  ||  Precison : 0.6  ||  Precision : 0.42  ||  F1 Score : 0.5\n"
     ]
    }
   ],
   "source": [
    "pipe1.fit(X_train, y_train)\n",
    "y_pred=pipe1.predict(X_test)\n",
    "\n",
    "acc=round(accuracy_score(y_test, y_pred),2)\n",
    "pr=round(precision_score(y_test, y_pred),2)\n",
    "rec=round(recall_score(y_test, y_pred),2)\n",
    "f1= round(f1_score(y_test, y_pred),2)\n",
    "\n",
    "print(f\"{' '*15}Score metrics of Random Forest Classifier pipeline \\n{'='*80}\")\n",
    "print(f\"Accuracy : {acc}  ||  Precison : {pr}  ||  Precision : {rec}  ||  F1 Score : {f1}\")"
   ]
  },
  {
   "cell_type": "code",
   "execution_count": 20,
   "id": "5d739d34",
   "metadata": {},
   "outputs": [
    {
     "name": "stdout",
     "output_type": "stream",
     "text": [
      "               Score metrics of Logistic Regression Classifier pipeline \n",
      "================================================================================\n",
      "Accuracy : 0.78  ||  Precison : 0.61  ||  Precision : 0.43  ||  F1 Score : 0.5\n"
     ]
    }
   ],
   "source": [
    "pipe2.fit(X_train, y_train)\n",
    "y_pred=pipe2.predict(X_test)\n",
    "acc=round(accuracy_score(y_test, y_pred),2)\n",
    "pr=round(precision_score(y_test, y_pred),2)\n",
    "rec=round(recall_score(y_test, y_pred),2)\n",
    "f1= round(f1_score(y_test, y_pred),2)\n",
    "\n",
    "print(f\"{' '*15}Score metrics of Logistic Regression Classifier pipeline \\n{'='*80}\")\n",
    "print(f\"Accuracy : {acc}  ||  Precison : {pr}  ||  Precision : {rec}  ||  F1 Score : {f1}\")"
   ]
  },
  {
   "cell_type": "code",
   "execution_count": null,
   "id": "c41eec1e",
   "metadata": {},
   "outputs": [],
   "source": []
  }
 ],
 "metadata": {
  "kernelspec": {
   "display_name": "Python 3 (ipykernel)",
   "language": "python",
   "name": "python3"
  },
  "language_info": {
   "codemirror_mode": {
    "name": "ipython",
    "version": 3
   },
   "file_extension": ".py",
   "mimetype": "text/x-python",
   "name": "python",
   "nbconvert_exporter": "python",
   "pygments_lexer": "ipython3",
   "version": "3.9.13"
  }
 },
 "nbformat": 4,
 "nbformat_minor": 5
}
